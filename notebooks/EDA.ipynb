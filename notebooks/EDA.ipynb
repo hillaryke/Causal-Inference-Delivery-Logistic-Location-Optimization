{
 "cells": [
  {
   "cell_type": "code",
   "execution_count": 1,
   "metadata": {},
   "outputs": [],
   "source": [
    "import pandas as pd\n",
    "import os\n",
    "\n",
    "os.chdir(\"../\")\n",
    "\n",
    "from src import display_df"
   ]
  },
  {
   "cell_type": "code",
   "execution_count": 2,
   "metadata": {},
   "outputs": [],
   "source": [
    "completed_orders = pd.read_csv(\"data/completed_orders.csv\")\n",
    "drivers_location = pd.read_csv(\"data/drivers_location_during_request.csv\")"
   ]
  },
  {
   "cell_type": "code",
   "execution_count": 3,
   "metadata": {},
   "outputs": [
    {
     "data": {
      "text/html": [
       "<div>\n",
       "<style scoped>\n",
       "    .dataframe tbody tr th:only-of-type {\n",
       "        vertical-align: middle;\n",
       "    }\n",
       "\n",
       "    .dataframe tbody tr th {\n",
       "        vertical-align: top;\n",
       "    }\n",
       "\n",
       "    .dataframe thead th {\n",
       "        text-align: right;\n",
       "    }\n",
       "</style>\n",
       "<table border=\"1\" class=\"dataframe\">\n",
       "  <thead>\n",
       "    <tr style=\"text-align: right;\">\n",
       "      <th></th>\n",
       "      <th>Trip ID</th>\n",
       "      <th>Trip Origin</th>\n",
       "      <th>Trip Destination</th>\n",
       "      <th>Trip Start Time</th>\n",
       "      <th>Trip End Time</th>\n",
       "    </tr>\n",
       "  </thead>\n",
       "  <tbody>\n",
       "    <tr>\n",
       "      <th>0</th>\n",
       "      <td>391996</td>\n",
       "      <td>6.508813001668548,3.37740316890347</td>\n",
       "      <td>6.650969799999999,3.3450307</td>\n",
       "      <td>2021-07-01 07:28:04</td>\n",
       "      <td>2021-07-01 07:29:37</td>\n",
       "    </tr>\n",
       "    <tr>\n",
       "      <th>1</th>\n",
       "      <td>391997</td>\n",
       "      <td>6.4316714,3.4555375</td>\n",
       "      <td>6.4280814653326,3.4721885847586</td>\n",
       "      <td>2021-07-01 06:38:04</td>\n",
       "      <td>2021-07-01 07:07:28</td>\n",
       "    </tr>\n",
       "    <tr>\n",
       "      <th>2</th>\n",
       "      <td>391998</td>\n",
       "      <td>6.631679399999999,3.3388976</td>\n",
       "      <td>6.508324099999999,3.3590397</td>\n",
       "      <td>2021-07-01 06:21:02</td>\n",
       "      <td>2021-07-01 07:02:23</td>\n",
       "    </tr>\n",
       "    <tr>\n",
       "      <th>3</th>\n",
       "      <td>391999</td>\n",
       "      <td>6.572757200000001,3.3677082</td>\n",
       "      <td>6.584881099999999,3.3614073</td>\n",
       "      <td>2021-07-01 07:16:07</td>\n",
       "      <td>2021-07-01 07:29:42</td>\n",
       "    </tr>\n",
       "    <tr>\n",
       "      <th>4</th>\n",
       "      <td>392001</td>\n",
       "      <td>6.6010417,3.2766339</td>\n",
       "      <td>6.4501069,3.3916154</td>\n",
       "      <td>2021-07-01 09:30:59</td>\n",
       "      <td>2021-07-01 09:34:36</td>\n",
       "    </tr>\n",
       "    <tr>\n",
       "      <th>5</th>\n",
       "      <td>392005</td>\n",
       "      <td>6.565087699999999,3.3844415</td>\n",
       "      <td>6.499696300000001,3.3509075</td>\n",
       "      <td>2021-07-01 10:53:36</td>\n",
       "      <td>2021-07-01 11:27:51</td>\n",
       "    </tr>\n",
       "    <tr>\n",
       "      <th>6</th>\n",
       "      <td>392009</td>\n",
       "      <td>6.6636484,3.3082058</td>\n",
       "      <td>6.6185421,3.301634</td>\n",
       "      <td>2021-07-01 06:39:51</td>\n",
       "      <td>2021-07-01 07:41:12</td>\n",
       "    </tr>\n",
       "  </tbody>\n",
       "</table>\n",
       "</div>"
      ],
      "text/plain": [
       "   Trip ID                         Trip Origin  \\\n",
       "0   391996  6.508813001668548,3.37740316890347   \n",
       "1   391997                 6.4316714,3.4555375   \n",
       "2   391998         6.631679399999999,3.3388976   \n",
       "3   391999         6.572757200000001,3.3677082   \n",
       "4   392001                 6.6010417,3.2766339   \n",
       "5   392005         6.565087699999999,3.3844415   \n",
       "6   392009                 6.6636484,3.3082058   \n",
       "\n",
       "                  Trip Destination      Trip Start Time        Trip End Time  \n",
       "0      6.650969799999999,3.3450307  2021-07-01 07:28:04  2021-07-01 07:29:37  \n",
       "1  6.4280814653326,3.4721885847586  2021-07-01 06:38:04  2021-07-01 07:07:28  \n",
       "2      6.508324099999999,3.3590397  2021-07-01 06:21:02  2021-07-01 07:02:23  \n",
       "3      6.584881099999999,3.3614073  2021-07-01 07:16:07  2021-07-01 07:29:42  \n",
       "4              6.4501069,3.3916154  2021-07-01 09:30:59  2021-07-01 09:34:36  \n",
       "5      6.499696300000001,3.3509075  2021-07-01 10:53:36  2021-07-01 11:27:51  \n",
       "6               6.6185421,3.301634  2021-07-01 06:39:51  2021-07-01 07:41:12  "
      ]
     },
     "execution_count": 3,
     "metadata": {},
     "output_type": "execute_result"
    }
   ],
   "source": [
    "completed_orders.head(7)"
   ]
  },
  {
   "cell_type": "code",
   "execution_count": 4,
   "metadata": {},
   "outputs": [
    {
     "data": {
      "text/html": [
       "<div>\n",
       "<style scoped>\n",
       "    .dataframe tbody tr th:only-of-type {\n",
       "        vertical-align: middle;\n",
       "    }\n",
       "\n",
       "    .dataframe tbody tr th {\n",
       "        vertical-align: top;\n",
       "    }\n",
       "\n",
       "    .dataframe thead th {\n",
       "        text-align: right;\n",
       "    }\n",
       "</style>\n",
       "<table border=\"1\" class=\"dataframe\">\n",
       "  <thead>\n",
       "    <tr style=\"text-align: right;\">\n",
       "      <th></th>\n",
       "      <th>id</th>\n",
       "      <th>order_id</th>\n",
       "      <th>driver_id</th>\n",
       "      <th>driver_action</th>\n",
       "      <th>lat</th>\n",
       "      <th>lng</th>\n",
       "      <th>created_at</th>\n",
       "      <th>updated_at</th>\n",
       "    </tr>\n",
       "  </thead>\n",
       "  <tbody>\n",
       "    <tr>\n",
       "      <th>0</th>\n",
       "      <td>1</td>\n",
       "      <td>392001</td>\n",
       "      <td>243828</td>\n",
       "      <td>accepted</td>\n",
       "      <td>6.602207</td>\n",
       "      <td>3.270465</td>\n",
       "      <td>NaN</td>\n",
       "      <td>NaN</td>\n",
       "    </tr>\n",
       "    <tr>\n",
       "      <th>1</th>\n",
       "      <td>2</td>\n",
       "      <td>392001</td>\n",
       "      <td>243588</td>\n",
       "      <td>rejected</td>\n",
       "      <td>6.592097</td>\n",
       "      <td>3.287445</td>\n",
       "      <td>NaN</td>\n",
       "      <td>NaN</td>\n",
       "    </tr>\n",
       "    <tr>\n",
       "      <th>2</th>\n",
       "      <td>3</td>\n",
       "      <td>392001</td>\n",
       "      <td>243830</td>\n",
       "      <td>rejected</td>\n",
       "      <td>6.596133</td>\n",
       "      <td>3.281784</td>\n",
       "      <td>NaN</td>\n",
       "      <td>NaN</td>\n",
       "    </tr>\n",
       "    <tr>\n",
       "      <th>3</th>\n",
       "      <td>4</td>\n",
       "      <td>392001</td>\n",
       "      <td>243539</td>\n",
       "      <td>rejected</td>\n",
       "      <td>6.596142</td>\n",
       "      <td>3.280526</td>\n",
       "      <td>NaN</td>\n",
       "      <td>NaN</td>\n",
       "    </tr>\n",
       "    <tr>\n",
       "      <th>4</th>\n",
       "      <td>5</td>\n",
       "      <td>392001</td>\n",
       "      <td>171653</td>\n",
       "      <td>rejected</td>\n",
       "      <td>6.609232</td>\n",
       "      <td>3.288800</td>\n",
       "      <td>NaN</td>\n",
       "      <td>NaN</td>\n",
       "    </tr>\n",
       "    <tr>\n",
       "      <th>5</th>\n",
       "      <td>6</td>\n",
       "      <td>392001</td>\n",
       "      <td>245662</td>\n",
       "      <td>rejected</td>\n",
       "      <td>6.593095</td>\n",
       "      <td>3.287759</td>\n",
       "      <td>NaN</td>\n",
       "      <td>NaN</td>\n",
       "    </tr>\n",
       "    <tr>\n",
       "      <th>6</th>\n",
       "      <td>7</td>\n",
       "      <td>392001</td>\n",
       "      <td>171651</td>\n",
       "      <td>rejected</td>\n",
       "      <td>6.613538</td>\n",
       "      <td>3.270779</td>\n",
       "      <td>NaN</td>\n",
       "      <td>NaN</td>\n",
       "    </tr>\n",
       "    <tr>\n",
       "      <th>7</th>\n",
       "      <td>8</td>\n",
       "      <td>392001</td>\n",
       "      <td>243906</td>\n",
       "      <td>rejected</td>\n",
       "      <td>6.591838</td>\n",
       "      <td>3.276124</td>\n",
       "      <td>NaN</td>\n",
       "      <td>NaN</td>\n",
       "    </tr>\n",
       "    <tr>\n",
       "      <th>8</th>\n",
       "      <td>9</td>\n",
       "      <td>392001</td>\n",
       "      <td>226949</td>\n",
       "      <td>rejected</td>\n",
       "      <td>6.610941</td>\n",
       "      <td>3.276126</td>\n",
       "      <td>NaN</td>\n",
       "      <td>NaN</td>\n",
       "    </tr>\n",
       "    <tr>\n",
       "      <th>9</th>\n",
       "      <td>10</td>\n",
       "      <td>392001</td>\n",
       "      <td>243769</td>\n",
       "      <td>rejected</td>\n",
       "      <td>6.617199</td>\n",
       "      <td>3.271723</td>\n",
       "      <td>NaN</td>\n",
       "      <td>NaN</td>\n",
       "    </tr>\n",
       "  </tbody>\n",
       "</table>\n",
       "</div>"
      ],
      "text/plain": [
       "   id  order_id  driver_id driver_action       lat       lng  created_at  \\\n",
       "0   1    392001     243828      accepted  6.602207  3.270465         NaN   \n",
       "1   2    392001     243588      rejected  6.592097  3.287445         NaN   \n",
       "2   3    392001     243830      rejected  6.596133  3.281784         NaN   \n",
       "3   4    392001     243539      rejected  6.596142  3.280526         NaN   \n",
       "4   5    392001     171653      rejected  6.609232  3.288800         NaN   \n",
       "5   6    392001     245662      rejected  6.593095  3.287759         NaN   \n",
       "6   7    392001     171651      rejected  6.613538  3.270779         NaN   \n",
       "7   8    392001     243906      rejected  6.591838  3.276124         NaN   \n",
       "8   9    392001     226949      rejected  6.610941  3.276126         NaN   \n",
       "9  10    392001     243769      rejected  6.617199  3.271723         NaN   \n",
       "\n",
       "   updated_at  \n",
       "0         NaN  \n",
       "1         NaN  \n",
       "2         NaN  \n",
       "3         NaN  \n",
       "4         NaN  \n",
       "5         NaN  \n",
       "6         NaN  \n",
       "7         NaN  \n",
       "8         NaN  \n",
       "9         NaN  "
      ]
     },
     "execution_count": 4,
     "metadata": {},
     "output_type": "execute_result"
    }
   ],
   "source": [
    "drivers_location.head(10)"
   ]
  },
  {
   "cell_type": "markdown",
   "metadata": {},
   "source": [
    "#### Analyze completed orders information"
   ]
  },
  {
   "cell_type": "code",
   "execution_count": 5,
   "metadata": {},
   "outputs": [
    {
     "name": "stdout",
     "output_type": "stream",
     "text": [
      "<class 'pandas.core.frame.DataFrame'>\n",
      "RangeIndex: 536020 entries, 0 to 536019\n",
      "Data columns (total 5 columns):\n",
      " #   Column            Non-Null Count   Dtype \n",
      "---  ------            --------------   ----- \n",
      " 0   Trip ID           536020 non-null  int64 \n",
      " 1   Trip Origin       536020 non-null  object\n",
      " 2   Trip Destination  536020 non-null  object\n",
      " 3   Trip Start Time   534369 non-null  object\n",
      " 4   Trip End Time     536019 non-null  object\n",
      "dtypes: int64(1), object(4)\n",
      "memory usage: 20.4+ MB\n"
     ]
    }
   ],
   "source": [
    "# get the informtion of completed orders data\n",
    "completed_orders.info()"
   ]
  },
  {
   "cell_type": "code",
   "execution_count": 6,
   "metadata": {},
   "outputs": [
    {
     "data": {
      "text/plain": [
       "Trip ID                0\n",
       "Trip Origin            0\n",
       "Trip Destination       0\n",
       "Trip Start Time     1651\n",
       "Trip End Time          1\n",
       "dtype: int64"
      ]
     },
     "execution_count": 6,
     "metadata": {},
     "output_type": "execute_result"
    }
   ],
   "source": [
    "# Check missing values in completed_orders\n",
    "completed_orders.isnull().sum()"
   ]
  },
  {
   "cell_type": "markdown",
   "metadata": {},
   "source": [
    "##### Analyze drivers location info"
   ]
  },
  {
   "cell_type": "code",
   "execution_count": 7,
   "metadata": {},
   "outputs": [
    {
     "data": {
      "text/plain": [
       "id                     0\n",
       "order_id               0\n",
       "driver_id              0\n",
       "driver_action          0\n",
       "lat                    0\n",
       "lng                    0\n",
       "created_at       1557740\n",
       "updated_at       1557740\n",
       "dtype: int64"
      ]
     },
     "execution_count": 7,
     "metadata": {},
     "output_type": "execute_result"
    }
   ],
   "source": [
    "# Check missing values for drivers_location\n",
    "drivers_location.isnull().sum()"
   ]
  },
  {
   "cell_type": "markdown",
   "metadata": {},
   "source": [
    "### Perform data preprocessing"
   ]
  },
  {
   "cell_type": "code",
   "execution_count": 8,
   "metadata": {},
   "outputs": [],
   "source": [
    "from src.preprocess_data import GokadaDataPreprocessor"
   ]
  },
  {
   "cell_type": "code",
   "execution_count": 9,
   "metadata": {},
   "outputs": [],
   "source": [
    "completed_orders_path = 'data/completed_orders.csv'\n",
    "drivers_location_path = 'data/drivers_location_during_request.csv'\n",
    "\n",
    "preprocessor = GokadaDataPreprocessor(completed_orders_path, drivers_location_path)\n"
   ]
  },
  {
   "cell_type": "code",
   "execution_count": 10,
   "metadata": {},
   "outputs": [],
   "source": [
    "preprocessed_df = preprocessor.preprocess_and_save('processed_data.csv')"
   ]
  },
  {
   "cell_type": "code",
   "execution_count": 11,
   "metadata": {},
   "outputs": [
    {
     "name": "stdout",
     "output_type": "stream",
     "text": [
      "| order_id   | trip_origin         | trip_destination    | trip_start_time     | trip_end_time       | id   | driver_id   | driver_action   | drivers_lat   | drivers_lon   | day_of_week   | hour_of_day   | day_of_month   | month   | trip_start_date   | trip_end_date   | trip_origin_latitude   | trip_origin_longitude   | trip_destination_latitude   | trip_destination_longitude   |\n",
      "|:-----------|:--------------------|:--------------------|:--------------------|:--------------------|:-----|:------------|:----------------|:--------------|:--------------|:--------------|:--------------|:---------------|:--------|:------------------|:----------------|:-----------------------|:------------------------|:----------------------------|:-----------------------------|\n",
      "| 392001     | 6.6010417,3.2766339 | 6.4501069,3.3916154 | 2021-07-01 09:30:59 | 2021-07-01 09:34:36 | 1    | 243828      | accepted        | 6.60221       | 3.27046       | Thursday      | 9             | 1              | July    | 2021-07-01        | 2021-07-01      | 6.60104                | 3.27663                 | 6.45011                     | 3.39162                      |\n",
      "| 392001     | 6.6010417,3.2766339 | 6.4501069,3.3916154 | 2021-07-01 09:30:59 | 2021-07-01 09:34:36 | 2    | 243588      | rejected        | 6.5921        | 3.28744       | Thursday      | 9             | 1              | July    | 2021-07-01        | 2021-07-01      | 6.60104                | 3.27663                 | 6.45011                     | 3.39162                      |\n",
      "| 392001     | 6.6010417,3.2766339 | 6.4501069,3.3916154 | 2021-07-01 09:30:59 | 2021-07-01 09:34:36 | 3    | 243830      | rejected        | 6.59613       | 3.28178       | Thursday      | 9             | 1              | July    | 2021-07-01        | 2021-07-01      | 6.60104                | 3.27663                 | 6.45011                     | 3.39162                      |\n",
      "| 392001     | 6.6010417,3.2766339 | 6.4501069,3.3916154 | 2021-07-01 09:30:59 | 2021-07-01 09:34:36 | 4    | 243539      | rejected        | 6.59614       | 3.28053       | Thursday      | 9             | 1              | July    | 2021-07-01        | 2021-07-01      | 6.60104                | 3.27663                 | 6.45011                     | 3.39162                      |\n",
      "| 392001     | 6.6010417,3.2766339 | 6.4501069,3.3916154 | 2021-07-01 09:30:59 | 2021-07-01 09:34:36 | 5    | 171653      | rejected        | 6.60923       | 3.2888        | Thursday      | 9             | 1              | July    | 2021-07-01        | 2021-07-01      | 6.60104                | 3.27663                 | 6.45011                     | 3.39162                      |\n"
     ]
    }
   ],
   "source": [
    "display_df(preprocessed_df)"
   ]
  },
  {
   "cell_type": "code",
   "execution_count": 12,
   "metadata": {},
   "outputs": [
    {
     "data": {
      "text/plain": [
       "order_id                      0\n",
       "trip_origin                   0\n",
       "trip_destination              0\n",
       "trip_start_time               0\n",
       "trip_end_time                 0\n",
       "id                            0\n",
       "driver_id                     0\n",
       "driver_action                 0\n",
       "drivers_lat                   0\n",
       "drivers_lon                   0\n",
       "day_of_week                   0\n",
       "hour_of_day                   0\n",
       "day_of_month                  0\n",
       "month                         0\n",
       "trip_start_date               0\n",
       "trip_end_date                 0\n",
       "trip_origin_latitude          0\n",
       "trip_origin_longitude         0\n",
       "trip_destination_latitude     0\n",
       "trip_destination_longitude    0\n",
       "dtype: int64"
      ]
     },
     "execution_count": 12,
     "metadata": {},
     "output_type": "execute_result"
    }
   ],
   "source": [
    "# Check for missing values\n",
    "preprocessed_df.isnull().sum()"
   ]
  },
  {
   "cell_type": "code",
   "execution_count": 13,
   "metadata": {},
   "outputs": [
    {
     "name": "stdout",
     "output_type": "stream",
     "text": [
      "<class 'pandas.core.frame.DataFrame'>\n",
      "Int64Index: 1557740 entries, 4 to 1585113\n",
      "Data columns (total 20 columns):\n",
      " #   Column                      Non-Null Count    Dtype         \n",
      "---  ------                      --------------    -----         \n",
      " 0   order_id                    1557740 non-null  object        \n",
      " 1   trip_origin                 1557740 non-null  object        \n",
      " 2   trip_destination            1557740 non-null  object        \n",
      " 3   trip_start_time             1557740 non-null  datetime64[ns]\n",
      " 4   trip_end_time               1557740 non-null  datetime64[ns]\n",
      " 5   id                          1557740 non-null  float64       \n",
      " 6   driver_id                   1557740 non-null  float64       \n",
      " 7   driver_action               1557740 non-null  object        \n",
      " 8   drivers_lat                 1557740 non-null  float64       \n",
      " 9   drivers_lon                 1557740 non-null  float64       \n",
      " 10  day_of_week                 1557740 non-null  object        \n",
      " 11  hour_of_day                 1557740 non-null  int64         \n",
      " 12  day_of_month                1557740 non-null  int64         \n",
      " 13  month                       1557740 non-null  object        \n",
      " 14  trip_start_date             1557740 non-null  object        \n",
      " 15  trip_end_date               1557740 non-null  object        \n",
      " 16  trip_origin_latitude        1557740 non-null  float64       \n",
      " 17  trip_origin_longitude       1557740 non-null  float64       \n",
      " 18  trip_destination_latitude   1557740 non-null  float64       \n",
      " 19  trip_destination_longitude  1557740 non-null  float64       \n",
      "dtypes: datetime64[ns](2), float64(8), int64(2), object(8)\n",
      "memory usage: 249.6+ MB\n"
     ]
    }
   ],
   "source": [
    "preprocessed_df.info()"
   ]
  }
 ],
 "metadata": {
  "kernelspec": {
   "display_name": ".venv",
   "language": "python",
   "name": "python3"
  },
  "language_info": {
   "codemirror_mode": {
    "name": "ipython",
    "version": 3
   },
   "file_extension": ".py",
   "mimetype": "text/x-python",
   "name": "python",
   "nbconvert_exporter": "python",
   "pygments_lexer": "ipython3",
   "version": "3.9.19"
  }
 },
 "nbformat": 4,
 "nbformat_minor": 2
}
