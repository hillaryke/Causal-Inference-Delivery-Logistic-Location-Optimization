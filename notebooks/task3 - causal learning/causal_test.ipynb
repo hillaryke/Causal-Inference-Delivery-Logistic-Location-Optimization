{
 "cells": [
  {
   "cell_type": "code",
   "execution_count": 1,
   "metadata": {},
   "outputs": [],
   "source": [
    "import pandas as pd\n",
    "from sklearn.model_selection import train_test_split\n",
    "\n",
    "import os\n",
    "os.chdir(\"../../\")\n",
    "\n",
    "from src import display_df"
   ]
  },
  {
   "cell_type": "code",
   "execution_count": 2,
   "metadata": {},
   "outputs": [],
   "source": [
    "df = pd.read_csv(\"data/features/features_data.csv\")"
   ]
  },
  {
   "cell_type": "code",
   "execution_count": 3,
   "metadata": {},
   "outputs": [],
   "source": [
    "new_df = df.head(1000)\n",
    "new_df.to_csv(\"data/features/features_data_sample.csv\", index=False)"
   ]
  },
  {
   "cell_type": "code",
   "execution_count": 4,
   "metadata": {},
   "outputs": [],
   "source": [
    "# Drop columns not needed for training\n",
    "# Drop columns not needed for training\n",
    "drop_col = ['order_id', \n",
    "            'trip_start_time', \n",
    "            'trip_end_time',\n",
    "            \"trip_origin\",\n",
    "            \"trip_destination\",\n",
    "            \"id\", \n",
    "            \"driver_id\", \n",
    "            \"drivers_lat\", \n",
    "            \"drivers_lon\", \n",
    "            \"trip_start_date\", \n",
    "            \"trip_end_date\",\n",
    "            \"drivers_lat\",\n",
    "            \"drivers_lon\",\n",
    "            \"trip_start_date\",\n",
    "            \"trip_end_date\",\n",
    "            \"trip_origin_latitude\",\n",
    "            \"trip_origin_longitude\",\n",
    "            \"trip_destination_latitude\",\n",
    "            \"trip_destination_longitude\"\n",
    "          ]"
   ]
  },
  {
   "cell_type": "code",
   "execution_count": 5,
   "metadata": {},
   "outputs": [
    {
     "ename": "ModuleNotFoundError",
     "evalue": "No module named 'causalnex.structure.data_info'",
     "output_type": "error",
     "traceback": [
      "\u001b[0;31m---------------------------------------------------------------------------\u001b[0m",
      "\u001b[0;31mModuleNotFoundError\u001b[0m                       Traceback (most recent call last)",
      "Cell \u001b[0;32mIn[5], line 2\u001b[0m\n\u001b[1;32m      1\u001b[0m \u001b[38;5;66;03m# Import necessary libraries\u001b[39;00m\n\u001b[0;32m----> 2\u001b[0m \u001b[38;5;28;01mfrom\u001b[39;00m \u001b[38;5;21;01mcausalnex\u001b[39;00m\u001b[38;5;21;01m.\u001b[39;00m\u001b[38;5;21;01mstructure\u001b[39;00m\u001b[38;5;21;01m.\u001b[39;00m\u001b[38;5;21;01mdata_info\u001b[39;00m \u001b[38;5;28;01mimport\u001b[39;00m DataInfo\n\u001b[1;32m      4\u001b[0m \u001b[38;5;66;03m# Convert `id` and `driver_id` to categorical variables\u001b[39;00m\n\u001b[1;32m      5\u001b[0m df[\u001b[38;5;124m'\u001b[39m\u001b[38;5;124mid\u001b[39m\u001b[38;5;124m'\u001b[39m] \u001b[38;5;241m=\u001b[39m df[\u001b[38;5;124m'\u001b[39m\u001b[38;5;124mid\u001b[39m\u001b[38;5;124m'\u001b[39m]\u001b[38;5;241m.\u001b[39mastype(\u001b[38;5;124m'\u001b[39m\u001b[38;5;124mcategory\u001b[39m\u001b[38;5;124m'\u001b[39m)\n",
      "\u001b[0;31mModuleNotFoundError\u001b[0m: No module named 'causalnex.structure.data_info'"
     ]
    }
   ],
   "source": [
    "# Import necessary libraries\n",
    "from causalnex.structure.data_info import DataInfo\n",
    "\n",
    "# Convert `id` and `driver_id` to categorical variables\n",
    "df['id'] = df['id'].astype('category')\n",
    "df['driver_id'] = df['driver_id'].astype('category')\n",
    "\n",
    "# Convert columns to categorical\n",
    "categorical_cols = ['driver_action', 'day_of_week', 'hour_of_day', 'day_of_month', 'id', 'driver_id']\n",
    "for col in categorical_cols:\n",
    "    df[col] = df[col].astype('category')\n",
    "\n",
    "# Create DataInfo object and set categorical variables\n",
    "data_info = DataInfo(df)\n",
    "for col in categorical_cols:\n",
    "    data_info = data_info.set_categorical(col)\n",
    "\n",
    "# Print the structure of the DataInfo object\n",
    "print(data_info.structure.to_markdown(numalign=\"left\", stralign=\"left\"))\n",
    "\n",
    "# Filter the dataframe to only include the columns present in the data_info object\n",
    "df_filtered = df[data_info.structure.columns]\n",
    "\n",
    "# Display the first 5 rows\n",
    "print(df_filtered.head().to_markdown(index=False, numalign=\"left\", stralign=\"left\"))\n"
   ]
  },
  {
   "cell_type": "code",
   "execution_count": null,
   "metadata": {},
   "outputs": [],
   "source": []
  }
 ],
 "metadata": {
  "kernelspec": {
   "display_name": ".venv",
   "language": "python",
   "name": "python3"
  },
  "language_info": {
   "codemirror_mode": {
    "name": "ipython",
    "version": 3
   },
   "file_extension": ".py",
   "mimetype": "text/x-python",
   "name": "python",
   "nbconvert_exporter": "python",
   "pygments_lexer": "ipython3",
   "version": "3.9.19"
  }
 },
 "nbformat": 4,
 "nbformat_minor": 2
}
