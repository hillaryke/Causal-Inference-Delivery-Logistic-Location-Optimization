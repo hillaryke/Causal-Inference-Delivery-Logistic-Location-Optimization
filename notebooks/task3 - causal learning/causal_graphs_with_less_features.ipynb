{
 "cells": [
  {
   "cell_type": "code",
   "execution_count": 1,
   "metadata": {
    "tags": []
   },
   "outputs": [
    {
     "name": "stdout",
     "output_type": "stream",
     "text": [
      "Collecting causalnex\n",
      "  Using cached causalnex-0.12.1-py3-none-any.whl (153 kB)\n",
      "Requirement already satisfied: networkx>=2.5 in /home/studio-lab-user/.conda/envs/default/lib/python3.9/site-packages (from causalnex) (3.2.1)\n",
      "Collecting pgmpy<0.1.20,>=0.1.14\n",
      "  Using cached pgmpy-0.1.19-py3-none-any.whl (1.9 MB)\n",
      "Collecting scipy>=1.7\n",
      "  Using cached scipy-1.13.1-cp39-cp39-manylinux_2_17_x86_64.manylinux2014_x86_64.whl (38.6 MB)\n",
      "Collecting numpy<1.24,>=1.14.2\n",
      "  Using cached numpy-1.23.5-cp39-cp39-manylinux_2_17_x86_64.manylinux2014_x86_64.whl (17.1 MB)\n",
      "Collecting pyvis>=0.3.2\n",
      "  Using cached pyvis-0.3.2-py3-none-any.whl (756 kB)\n",
      "Collecting scikit-learn!=0.24.1,>=0.24.0\n",
      "  Using cached scikit_learn-1.5.0-cp39-cp39-manylinux_2_17_x86_64.manylinux2014_x86_64.whl (13.4 MB)\n",
      "Requirement already satisfied: wheel>=0.38.0 in /home/studio-lab-user/.conda/envs/default/lib/python3.9/site-packages (from causalnex) (0.43.0)\n",
      "Collecting pandas<2.0,>=1.0\n",
      "  Using cached pandas-1.5.3-cp39-cp39-manylinux_2_17_x86_64.manylinux2014_x86_64.whl (12.2 MB)\n",
      "Requirement already satisfied: torch>=1.7 in /home/studio-lab-user/.conda/envs/default/lib/python3.9/site-packages (from causalnex) (2.3.0)\n",
      "Collecting ipython>=8.10.0\n",
      "  Using cached ipython-8.18.1-py3-none-any.whl (808 kB)\n",
      "Collecting pathos>=0.2.7\n",
      "  Using cached pathos-0.3.2-py3-none-any.whl (82 kB)\n",
      "Requirement already satisfied: setuptools>=65.5.1 in /home/studio-lab-user/.conda/envs/default/lib/python3.9/site-packages (from causalnex) (69.5.1)\n",
      "Requirement already satisfied: matplotlib-inline in /home/studio-lab-user/.conda/envs/default/lib/python3.9/site-packages (from ipython>=8.10.0->causalnex) (0.1.6)\n",
      "Requirement already satisfied: pexpect>4.3 in /home/studio-lab-user/.conda/envs/default/lib/python3.9/site-packages (from ipython>=8.10.0->causalnex) (4.9.0)\n",
      "Requirement already satisfied: decorator in /home/studio-lab-user/.conda/envs/default/lib/python3.9/site-packages (from ipython>=8.10.0->causalnex) (5.1.1)\n",
      "Requirement already satisfied: pygments>=2.4.0 in /home/studio-lab-user/.conda/envs/default/lib/python3.9/site-packages (from ipython>=8.10.0->causalnex) (2.17.2)\n",
      "Requirement already satisfied: prompt-toolkit<3.1.0,>=3.0.41 in /home/studio-lab-user/.conda/envs/default/lib/python3.9/site-packages (from ipython>=8.10.0->causalnex) (3.0.42)\n",
      "Requirement already satisfied: typing-extensions in /home/studio-lab-user/.conda/envs/default/lib/python3.9/site-packages (from ipython>=8.10.0->causalnex) (4.11.0)\n",
      "Requirement already satisfied: jedi>=0.16 in /home/studio-lab-user/.conda/envs/default/lib/python3.9/site-packages (from ipython>=8.10.0->causalnex) (0.19.1)\n",
      "Requirement already satisfied: exceptiongroup in /home/studio-lab-user/.conda/envs/default/lib/python3.9/site-packages (from ipython>=8.10.0->causalnex) (1.2.0)\n",
      "Requirement already satisfied: traitlets>=5 in /home/studio-lab-user/.conda/envs/default/lib/python3.9/site-packages (from ipython>=8.10.0->causalnex) (5.14.2)\n",
      "Collecting stack-data\n",
      "  Using cached stack_data-0.6.3-py3-none-any.whl (24 kB)\n",
      "Requirement already satisfied: parso<0.9.0,>=0.8.3 in /home/studio-lab-user/.conda/envs/default/lib/python3.9/site-packages (from jedi>=0.16->ipython>=8.10.0->causalnex) (0.8.4)\n",
      "Requirement already satisfied: python-dateutil>=2.8.1 in /home/studio-lab-user/.conda/envs/default/lib/python3.9/site-packages (from pandas<2.0,>=1.0->causalnex) (2.9.0)\n",
      "Requirement already satisfied: pytz>=2020.1 in /home/studio-lab-user/.conda/envs/default/lib/python3.9/site-packages (from pandas<2.0,>=1.0->causalnex) (2024.1)\n",
      "Collecting multiprocess>=0.70.16\n",
      "  Using cached multiprocess-0.70.16-py39-none-any.whl (133 kB)\n",
      "Collecting pox>=0.3.4\n",
      "  Using cached pox-0.3.4-py3-none-any.whl (29 kB)\n",
      "Collecting dill>=0.3.8\n",
      "  Using cached dill-0.3.8-py3-none-any.whl (116 kB)\n",
      "Collecting ppft>=1.7.6.8\n",
      "  Using cached ppft-1.7.6.8-py3-none-any.whl (56 kB)\n",
      "Requirement already satisfied: ptyprocess>=0.5 in /home/studio-lab-user/.conda/envs/default/lib/python3.9/site-packages (from pexpect>4.3->ipython>=8.10.0->causalnex) (0.7.0)\n",
      "Collecting statsmodels\n",
      "  Using cached statsmodels-0.14.2-cp39-cp39-manylinux_2_17_x86_64.manylinux2014_x86_64.whl (10.8 MB)\n",
      "Requirement already satisfied: tqdm in /home/studio-lab-user/.conda/envs/default/lib/python3.9/site-packages (from pgmpy<0.1.20,>=0.1.14->causalnex) (4.66.4)\n",
      "Collecting pyparsing\n",
      "  Using cached pyparsing-3.1.2-py3-none-any.whl (103 kB)\n",
      "Collecting joblib\n",
      "  Using cached joblib-1.4.2-py3-none-any.whl (301 kB)\n",
      "Requirement already satisfied: wcwidth in /home/studio-lab-user/.conda/envs/default/lib/python3.9/site-packages (from prompt-toolkit<3.1.0,>=3.0.41->ipython>=8.10.0->causalnex) (0.2.13)\n",
      "Requirement already satisfied: six>=1.5 in /home/studio-lab-user/.conda/envs/default/lib/python3.9/site-packages (from python-dateutil>=2.8.1->pandas<2.0,>=1.0->causalnex) (1.16.0)\n",
      "Requirement already satisfied: jinja2>=2.9.6 in /home/studio-lab-user/.conda/envs/default/lib/python3.9/site-packages (from pyvis>=0.3.2->causalnex) (3.1.3)\n",
      "Collecting jsonpickle>=1.4.1\n",
      "  Using cached jsonpickle-3.2.1-py3-none-any.whl (41 kB)\n",
      "Requirement already satisfied: MarkupSafe>=2.0 in /home/studio-lab-user/.conda/envs/default/lib/python3.9/site-packages (from jinja2>=2.9.6->pyvis>=0.3.2->causalnex) (2.1.5)\n",
      "Collecting threadpoolctl>=3.1.0\n",
      "  Using cached threadpoolctl-3.5.0-py3-none-any.whl (18 kB)\n",
      "Requirement already satisfied: fsspec in /home/studio-lab-user/.conda/envs/default/lib/python3.9/site-packages (from torch>=1.7->causalnex) (2024.5.0)\n",
      "Requirement already satisfied: nvidia-curand-cu12==10.3.2.106 in /home/studio-lab-user/.conda/envs/default/lib/python3.9/site-packages (from torch>=1.7->causalnex) (10.3.2.106)\n",
      "Requirement already satisfied: filelock in /home/studio-lab-user/.conda/envs/default/lib/python3.9/site-packages (from torch>=1.7->causalnex) (3.14.0)\n",
      "Requirement already satisfied: nvidia-cusolver-cu12==11.4.5.107 in /home/studio-lab-user/.conda/envs/default/lib/python3.9/site-packages (from torch>=1.7->causalnex) (11.4.5.107)\n",
      "Requirement already satisfied: nvidia-nccl-cu12==2.20.5 in /home/studio-lab-user/.conda/envs/default/lib/python3.9/site-packages (from torch>=1.7->causalnex) (2.20.5)\n",
      "Requirement already satisfied: nvidia-cuda-runtime-cu12==12.1.105 in /home/studio-lab-user/.conda/envs/default/lib/python3.9/site-packages (from torch>=1.7->causalnex) (12.1.105)\n",
      "Requirement already satisfied: nvidia-cudnn-cu12==8.9.2.26 in /home/studio-lab-user/.conda/envs/default/lib/python3.9/site-packages (from torch>=1.7->causalnex) (8.9.2.26)\n",
      "Requirement already satisfied: nvidia-nvtx-cu12==12.1.105 in /home/studio-lab-user/.conda/envs/default/lib/python3.9/site-packages (from torch>=1.7->causalnex) (12.1.105)\n",
      "Requirement already satisfied: nvidia-cuda-nvrtc-cu12==12.1.105 in /home/studio-lab-user/.conda/envs/default/lib/python3.9/site-packages (from torch>=1.7->causalnex) (12.1.105)\n",
      "Requirement already satisfied: nvidia-cufft-cu12==11.0.2.54 in /home/studio-lab-user/.conda/envs/default/lib/python3.9/site-packages (from torch>=1.7->causalnex) (11.0.2.54)\n",
      "Requirement already satisfied: nvidia-cusparse-cu12==12.1.0.106 in /home/studio-lab-user/.conda/envs/default/lib/python3.9/site-packages (from torch>=1.7->causalnex) (12.1.0.106)\n",
      "Requirement already satisfied: triton==2.3.0 in /home/studio-lab-user/.conda/envs/default/lib/python3.9/site-packages (from torch>=1.7->causalnex) (2.3.0)\n",
      "Requirement already satisfied: nvidia-cublas-cu12==12.1.3.1 in /home/studio-lab-user/.conda/envs/default/lib/python3.9/site-packages (from torch>=1.7->causalnex) (12.1.3.1)\n",
      "Requirement already satisfied: sympy in /home/studio-lab-user/.conda/envs/default/lib/python3.9/site-packages (from torch>=1.7->causalnex) (1.12.1)\n",
      "Requirement already satisfied: nvidia-cuda-cupti-cu12==12.1.105 in /home/studio-lab-user/.conda/envs/default/lib/python3.9/site-packages (from torch>=1.7->causalnex) (12.1.105)\n",
      "Requirement already satisfied: nvidia-nvjitlink-cu12 in /home/studio-lab-user/.conda/envs/default/lib/python3.9/site-packages (from nvidia-cusolver-cu12==11.4.5.107->torch>=1.7->causalnex) (12.5.40)\n",
      "Collecting asttokens>=2.1.0\n",
      "  Using cached asttokens-2.4.1-py2.py3-none-any.whl (27 kB)\n",
      "Collecting executing>=1.2.0\n",
      "  Using cached executing-2.0.1-py2.py3-none-any.whl (24 kB)\n",
      "Collecting pure-eval\n",
      "  Using cached pure_eval-0.2.2-py3-none-any.whl (11 kB)\n",
      "Collecting patsy>=0.5.6\n",
      "  Using cached patsy-0.5.6-py2.py3-none-any.whl (233 kB)\n",
      "Requirement already satisfied: packaging>=21.3 in /home/studio-lab-user/.conda/envs/default/lib/python3.9/site-packages (from statsmodels->pgmpy<0.1.20,>=0.1.14->causalnex) (24.0)\n",
      "Requirement already satisfied: mpmath<1.4.0,>=1.1.0 in /home/studio-lab-user/.conda/envs/default/lib/python3.9/site-packages (from sympy->torch>=1.7->causalnex) (1.3.0)\n",
      "Installing collected packages: pure-eval, numpy, executing, asttokens, threadpoolctl, stack-data, scipy, patsy, pandas, joblib, dill, statsmodels, scikit-learn, pyparsing, ppft, pox, multiprocess, jsonpickle, ipython, pyvis, pgmpy, pathos, causalnex\n",
      "  Attempting uninstall: numpy\n",
      "    Found existing installation: numpy 1.26.4\n",
      "    Uninstalling numpy-1.26.4:\n",
      "      Successfully uninstalled numpy-1.26.4\n",
      "  Attempting uninstall: ipython\n",
      "    Found existing installation: ipython 7.33.0\n",
      "    Uninstalling ipython-7.33.0:\n",
      "      Successfully uninstalled ipython-7.33.0\n",
      "\u001b[31mERROR: pip's dependency resolver does not currently take into account all the packages that are installed. This behaviour is the source of the following dependency conflicts.\n",
      "ipykernel 6.4.2 requires ipython<8.0,>=7.23.1, but you have ipython 8.18.1 which is incompatible.\u001b[0m\n",
      "Successfully installed asttokens-2.4.1 causalnex-0.12.1 dill-0.3.8 executing-2.0.1 ipython-8.18.1 joblib-1.4.2 jsonpickle-3.2.1 multiprocess-0.70.16 numpy-1.23.5 pandas-1.5.3 pathos-0.3.2 patsy-0.5.6 pgmpy-0.1.19 pox-0.3.4 ppft-1.7.6.8 pure-eval-0.2.2 pyparsing-3.1.2 pyvis-0.3.2 scikit-learn-1.5.0 scipy-1.13.1 stack-data-0.6.3 statsmodels-0.14.2 threadpoolctl-3.5.0\n"
     ]
    }
   ],
   "source": [
    "!pip install causalnex"
   ]
  },
  {
   "cell_type": "code",
   "execution_count": 1,
   "metadata": {
    "tags": []
   },
   "outputs": [],
   "source": [
    "import pandas as pd\n",
    "from sklearn.model_selection import train_test_split\n",
    "\n",
    "import os\n",
    "# os.chdir(\"../../\")\n",
    "\n",
    "# from src import display_df"
   ]
  },
  {
   "cell_type": "code",
   "execution_count": 2,
   "metadata": {
    "tags": []
   },
   "outputs": [],
   "source": [
    "df = pd.read_csv(\"features_data.csv\")"
   ]
  },
  {
   "cell_type": "code",
   "execution_count": 3,
   "metadata": {
    "tags": []
   },
   "outputs": [
    {
     "data": {
      "text/html": [
       "<div>\n",
       "<style scoped>\n",
       "    .dataframe tbody tr th:only-of-type {\n",
       "        vertical-align: middle;\n",
       "    }\n",
       "\n",
       "    .dataframe tbody tr th {\n",
       "        vertical-align: top;\n",
       "    }\n",
       "\n",
       "    .dataframe thead th {\n",
       "        text-align: right;\n",
       "    }\n",
       "</style>\n",
       "<table border=\"1\" class=\"dataframe\">\n",
       "  <thead>\n",
       "    <tr style=\"text-align: right;\">\n",
       "      <th></th>\n",
       "      <th>order_id</th>\n",
       "      <th>trip_origin</th>\n",
       "      <th>trip_destination</th>\n",
       "      <th>trip_start_time</th>\n",
       "      <th>trip_end_time</th>\n",
       "      <th>id</th>\n",
       "      <th>driver_id</th>\n",
       "      <th>driver_action</th>\n",
       "      <th>drivers_lat</th>\n",
       "      <th>drivers_lon</th>\n",
       "      <th>...</th>\n",
       "      <th>day_of_month</th>\n",
       "      <th>month</th>\n",
       "      <th>trip_start_date</th>\n",
       "      <th>trip_end_date</th>\n",
       "      <th>trip_origin_latitude</th>\n",
       "      <th>trip_origin_longitude</th>\n",
       "      <th>trip_destination_latitude</th>\n",
       "      <th>trip_destination_longitude</th>\n",
       "      <th>is_weekend</th>\n",
       "      <th>is_holiday</th>\n",
       "    </tr>\n",
       "  </thead>\n",
       "  <tbody>\n",
       "    <tr>\n",
       "      <th>0</th>\n",
       "      <td>392001</td>\n",
       "      <td>6.6010417,3.2766339</td>\n",
       "      <td>6.4501069,3.3916154</td>\n",
       "      <td>2021-07-01 09:30:59</td>\n",
       "      <td>2021-07-01 09:34:36</td>\n",
       "      <td>1.0</td>\n",
       "      <td>243828.0</td>\n",
       "      <td>accepted</td>\n",
       "      <td>6.602207</td>\n",
       "      <td>3.270465</td>\n",
       "      <td>...</td>\n",
       "      <td>1</td>\n",
       "      <td>July</td>\n",
       "      <td>2021-07-01</td>\n",
       "      <td>2021-07-01</td>\n",
       "      <td>6.601042</td>\n",
       "      <td>3.276634</td>\n",
       "      <td>6.450107</td>\n",
       "      <td>3.391615</td>\n",
       "      <td>0</td>\n",
       "      <td>0</td>\n",
       "    </tr>\n",
       "    <tr>\n",
       "      <th>1</th>\n",
       "      <td>392001</td>\n",
       "      <td>6.6010417,3.2766339</td>\n",
       "      <td>6.4501069,3.3916154</td>\n",
       "      <td>2021-07-01 09:30:59</td>\n",
       "      <td>2021-07-01 09:34:36</td>\n",
       "      <td>2.0</td>\n",
       "      <td>243588.0</td>\n",
       "      <td>rejected</td>\n",
       "      <td>6.592097</td>\n",
       "      <td>3.287445</td>\n",
       "      <td>...</td>\n",
       "      <td>1</td>\n",
       "      <td>July</td>\n",
       "      <td>2021-07-01</td>\n",
       "      <td>2021-07-01</td>\n",
       "      <td>6.601042</td>\n",
       "      <td>3.276634</td>\n",
       "      <td>6.450107</td>\n",
       "      <td>3.391615</td>\n",
       "      <td>0</td>\n",
       "      <td>0</td>\n",
       "    </tr>\n",
       "    <tr>\n",
       "      <th>2</th>\n",
       "      <td>392001</td>\n",
       "      <td>6.6010417,3.2766339</td>\n",
       "      <td>6.4501069,3.3916154</td>\n",
       "      <td>2021-07-01 09:30:59</td>\n",
       "      <td>2021-07-01 09:34:36</td>\n",
       "      <td>3.0</td>\n",
       "      <td>243830.0</td>\n",
       "      <td>rejected</td>\n",
       "      <td>6.596133</td>\n",
       "      <td>3.281784</td>\n",
       "      <td>...</td>\n",
       "      <td>1</td>\n",
       "      <td>July</td>\n",
       "      <td>2021-07-01</td>\n",
       "      <td>2021-07-01</td>\n",
       "      <td>6.601042</td>\n",
       "      <td>3.276634</td>\n",
       "      <td>6.450107</td>\n",
       "      <td>3.391615</td>\n",
       "      <td>0</td>\n",
       "      <td>0</td>\n",
       "    </tr>\n",
       "    <tr>\n",
       "      <th>3</th>\n",
       "      <td>392001</td>\n",
       "      <td>6.6010417,3.2766339</td>\n",
       "      <td>6.4501069,3.3916154</td>\n",
       "      <td>2021-07-01 09:30:59</td>\n",
       "      <td>2021-07-01 09:34:36</td>\n",
       "      <td>4.0</td>\n",
       "      <td>243539.0</td>\n",
       "      <td>rejected</td>\n",
       "      <td>6.596142</td>\n",
       "      <td>3.280526</td>\n",
       "      <td>...</td>\n",
       "      <td>1</td>\n",
       "      <td>July</td>\n",
       "      <td>2021-07-01</td>\n",
       "      <td>2021-07-01</td>\n",
       "      <td>6.601042</td>\n",
       "      <td>3.276634</td>\n",
       "      <td>6.450107</td>\n",
       "      <td>3.391615</td>\n",
       "      <td>0</td>\n",
       "      <td>0</td>\n",
       "    </tr>\n",
       "    <tr>\n",
       "      <th>4</th>\n",
       "      <td>392001</td>\n",
       "      <td>6.6010417,3.2766339</td>\n",
       "      <td>6.4501069,3.3916154</td>\n",
       "      <td>2021-07-01 09:30:59</td>\n",
       "      <td>2021-07-01 09:34:36</td>\n",
       "      <td>5.0</td>\n",
       "      <td>171653.0</td>\n",
       "      <td>rejected</td>\n",
       "      <td>6.609232</td>\n",
       "      <td>3.288800</td>\n",
       "      <td>...</td>\n",
       "      <td>1</td>\n",
       "      <td>July</td>\n",
       "      <td>2021-07-01</td>\n",
       "      <td>2021-07-01</td>\n",
       "      <td>6.601042</td>\n",
       "      <td>3.276634</td>\n",
       "      <td>6.450107</td>\n",
       "      <td>3.391615</td>\n",
       "      <td>0</td>\n",
       "      <td>0</td>\n",
       "    </tr>\n",
       "  </tbody>\n",
       "</table>\n",
       "<p>5 rows × 22 columns</p>\n",
       "</div>"
      ],
      "text/plain": [
       "   order_id          trip_origin     trip_destination      trip_start_time  \\\n",
       "0    392001  6.6010417,3.2766339  6.4501069,3.3916154  2021-07-01 09:30:59   \n",
       "1    392001  6.6010417,3.2766339  6.4501069,3.3916154  2021-07-01 09:30:59   \n",
       "2    392001  6.6010417,3.2766339  6.4501069,3.3916154  2021-07-01 09:30:59   \n",
       "3    392001  6.6010417,3.2766339  6.4501069,3.3916154  2021-07-01 09:30:59   \n",
       "4    392001  6.6010417,3.2766339  6.4501069,3.3916154  2021-07-01 09:30:59   \n",
       "\n",
       "         trip_end_time   id  driver_id driver_action  drivers_lat  \\\n",
       "0  2021-07-01 09:34:36  1.0   243828.0      accepted     6.602207   \n",
       "1  2021-07-01 09:34:36  2.0   243588.0      rejected     6.592097   \n",
       "2  2021-07-01 09:34:36  3.0   243830.0      rejected     6.596133   \n",
       "3  2021-07-01 09:34:36  4.0   243539.0      rejected     6.596142   \n",
       "4  2021-07-01 09:34:36  5.0   171653.0      rejected     6.609232   \n",
       "\n",
       "   drivers_lon  ... day_of_month  month  trip_start_date trip_end_date  \\\n",
       "0     3.270465  ...            1   July       2021-07-01    2021-07-01   \n",
       "1     3.287445  ...            1   July       2021-07-01    2021-07-01   \n",
       "2     3.281784  ...            1   July       2021-07-01    2021-07-01   \n",
       "3     3.280526  ...            1   July       2021-07-01    2021-07-01   \n",
       "4     3.288800  ...            1   July       2021-07-01    2021-07-01   \n",
       "\n",
       "  trip_origin_latitude trip_origin_longitude  trip_destination_latitude  \\\n",
       "0             6.601042              3.276634                   6.450107   \n",
       "1             6.601042              3.276634                   6.450107   \n",
       "2             6.601042              3.276634                   6.450107   \n",
       "3             6.601042              3.276634                   6.450107   \n",
       "4             6.601042              3.276634                   6.450107   \n",
       "\n",
       "   trip_destination_longitude  is_weekend  is_holiday  \n",
       "0                    3.391615           0           0  \n",
       "1                    3.391615           0           0  \n",
       "2                    3.391615           0           0  \n",
       "3                    3.391615           0           0  \n",
       "4                    3.391615           0           0  \n",
       "\n",
       "[5 rows x 22 columns]"
      ]
     },
     "execution_count": 3,
     "metadata": {},
     "output_type": "execute_result"
    }
   ],
   "source": [
    "df.head()"
   ]
  },
  {
   "cell_type": "markdown",
   "metadata": {},
   "source": [
    "#### Drop irrelevant columns"
   ]
  },
  {
   "cell_type": "code",
   "execution_count": 4,
   "metadata": {
    "tags": []
   },
   "outputs": [],
   "source": [
    "# Drop columns not needed for training\n",
    "drop_col = ['order_id', \n",
    "            'trip_start_time', \n",
    "            'trip_end_time',\n",
    "            \"trip_origin\",\n",
    "            \"trip_destination\",\n",
    "            \"id\", \n",
    "            \"driver_id\", \n",
    "            \"drivers_lat\", \n",
    "            \"drivers_lon\", \n",
    "            \"trip_start_date\", \n",
    "            \"trip_end_date\",\n",
    "            \"drivers_lat\",\n",
    "            \"drivers_lon\",\n",
    "            \"trip_start_date\",\n",
    "            \"trip_end_date\",\n",
    "            \"trip_origin_latitude\",\n",
    "            \"trip_origin_longitude\",\n",
    "            \"trip_destination_latitude\",\n",
    "            \"trip_destination_longitude\",\n",
    "            \"is_holiday\",\n",
    "            \"day_of_week\",\n",
    "            \"day_of_month\",\n",
    "            \"month\"\n",
    "          ]"
   ]
  },
  {
   "cell_type": "code",
   "execution_count": null,
   "metadata": {},
   "outputs": [],
   "source": []
  },
  {
   "cell_type": "code",
   "execution_count": 5,
   "metadata": {
    "tags": []
   },
   "outputs": [
    {
     "data": {
      "text/html": [
       "<div>\n",
       "<style scoped>\n",
       "    .dataframe tbody tr th:only-of-type {\n",
       "        vertical-align: middle;\n",
       "    }\n",
       "\n",
       "    .dataframe tbody tr th {\n",
       "        vertical-align: top;\n",
       "    }\n",
       "\n",
       "    .dataframe thead th {\n",
       "        text-align: right;\n",
       "    }\n",
       "</style>\n",
       "<table border=\"1\" class=\"dataframe\">\n",
       "  <thead>\n",
       "    <tr style=\"text-align: right;\">\n",
       "      <th></th>\n",
       "      <th>driver_action</th>\n",
       "      <th>hour_of_day</th>\n",
       "      <th>is_weekend</th>\n",
       "    </tr>\n",
       "  </thead>\n",
       "  <tbody>\n",
       "    <tr>\n",
       "      <th>0</th>\n",
       "      <td>accepted</td>\n",
       "      <td>9</td>\n",
       "      <td>0</td>\n",
       "    </tr>\n",
       "    <tr>\n",
       "      <th>1</th>\n",
       "      <td>rejected</td>\n",
       "      <td>9</td>\n",
       "      <td>0</td>\n",
       "    </tr>\n",
       "    <tr>\n",
       "      <th>2</th>\n",
       "      <td>rejected</td>\n",
       "      <td>9</td>\n",
       "      <td>0</td>\n",
       "    </tr>\n",
       "    <tr>\n",
       "      <th>3</th>\n",
       "      <td>rejected</td>\n",
       "      <td>9</td>\n",
       "      <td>0</td>\n",
       "    </tr>\n",
       "    <tr>\n",
       "      <th>4</th>\n",
       "      <td>rejected</td>\n",
       "      <td>9</td>\n",
       "      <td>0</td>\n",
       "    </tr>\n",
       "  </tbody>\n",
       "</table>\n",
       "</div>"
      ],
      "text/plain": [
       "  driver_action  hour_of_day  is_weekend\n",
       "0      accepted            9           0\n",
       "1      rejected            9           0\n",
       "2      rejected            9           0\n",
       "3      rejected            9           0\n",
       "4      rejected            9           0"
      ]
     },
     "execution_count": 5,
     "metadata": {},
     "output_type": "execute_result"
    }
   ],
   "source": [
    "data = df.drop(columns=drop_col)\n",
    "data.head()\n",
    "# display_df(data)"
   ]
  },
  {
   "cell_type": "markdown",
   "metadata": {},
   "source": [
    "#### Make the data numeric. We can use label encoding for the categorical columns."
   ]
  },
  {
   "cell_type": "markdown",
   "metadata": {},
   "source": [
    "###### Display the non numeric columns"
   ]
  },
  {
   "cell_type": "code",
   "execution_count": 6,
   "metadata": {
    "tags": []
   },
   "outputs": [
    {
     "name": "stdout",
     "output_type": "stream",
     "text": [
      "['driver_action']\n"
     ]
    }
   ],
   "source": [
    "import numpy as np\n",
    "\n",
    "struct_data = data.copy()\n",
    "non_numeric_columns = list(struct_data.select_dtypes(exclude=[np.number]).columns)\n",
    "\n",
    "print(non_numeric_columns)"
   ]
  },
  {
   "cell_type": "code",
   "execution_count": 7,
   "metadata": {
    "tags": []
   },
   "outputs": [],
   "source": [
    "from sklearn.preprocessing import LabelEncoder\n",
    "\n",
    "le = LabelEncoder()\n",
    "\n",
    "for col in non_numeric_columns:\n",
    "    struct_data[col] = le.fit_transform(struct_data[col])\n",
    "\n",
    "# display_df(struct_data)"
   ]
  },
  {
   "cell_type": "markdown",
   "metadata": {},
   "source": [
    "### Apply NOTEARS algorithm to learn the structure of the data"
   ]
  },
  {
   "cell_type": "code",
   "execution_count": 8,
   "metadata": {
    "tags": []
   },
   "outputs": [],
   "source": [
    "\n",
    "from causalnex.structure.notears import from_pandas\n",
    "\n",
    "# struct_data = struct_data.head(1000)\n",
    "sm = from_pandas(struct_data)\n"
   ]
  },
  {
   "cell_type": "markdown",
   "metadata": {},
   "source": [
    "#### Visualize the learned StructureModel model using the plot function"
   ]
  },
  {
   "cell_type": "code",
   "execution_count": 9,
   "metadata": {},
   "outputs": [
    {
     "name": "stdout",
     "output_type": "stream",
     "text": [
      "fully_connected.html\n"
     ]
    },
    {
     "data": {
      "text/html": [
       "\n",
       "        <iframe\n",
       "            width=\"100%\"\n",
       "            height=\"600px\"\n",
       "            src=\"fully_connected.html\"\n",
       "            frameborder=\"0\"\n",
       "            allowfullscreen\n",
       "            \n",
       "        ></iframe>\n",
       "        "
      ],
      "text/plain": [
       "<IPython.lib.display.IFrame at 0x7f1623d37c40>"
      ]
     },
     "execution_count": 9,
     "metadata": {},
     "output_type": "execute_result"
    }
   ],
   "source": [
    "from causalnex.plots import plot_structure, NODE_STYLE, EDGE_STYLE\n",
    "\n",
    "viz = plot_structure(\n",
    "    sm,\n",
    "    all_node_attributes=NODE_STYLE.WEAK,\n",
    "    all_edge_attributes=EDGE_STYLE.WEAK,\n",
    ")\n",
    "\n",
    "viz.toggle_physics(False)\n",
    "viz.show(\"fully_connected.html\")"
   ]
  },
  {
   "cell_type": "markdown",
   "metadata": {},
   "source": [
    "### Remove weak Edges"
   ]
  },
  {
   "cell_type": "code",
   "execution_count": 19,
   "metadata": {},
   "outputs": [
    {
     "name": "stdout",
     "output_type": "stream",
     "text": [
      "thresholded.html\n"
     ]
    },
    {
     "data": {
      "text/html": [
       "\n",
       "        <iframe\n",
       "            width=\"100%\"\n",
       "            height=\"600px\"\n",
       "            src=\"thresholded.html\"\n",
       "            frameborder=\"0\"\n",
       "            allowfullscreen\n",
       "            \n",
       "        ></iframe>\n",
       "        "
      ],
      "text/plain": [
       "<IPython.lib.display.IFrame at 0x7faac0862160>"
      ]
     },
     "execution_count": 19,
     "metadata": {},
     "output_type": "execute_result"
    }
   ],
   "source": [
    "\n",
    "sm.remove_edges_below_threshold(0.8)\n",
    "viz = plot_structure(\n",
    "    sm,\n",
    "    all_node_attributes=NODE_STYLE.WEAK,\n",
    "    all_edge_attributes=EDGE_STYLE.WEAK,\n",
    ")\n",
    "viz.show(\"thresholded.html\")"
   ]
  },
  {
   "cell_type": "code",
   "execution_count": 27,
   "metadata": {
    "tags": []
   },
   "outputs": [],
   "source": [
    "# Add the edge from 'hour_of_day' to 'driver_action' \n",
    "sm.add_edge('hour_of_day', 'driver_action')\n",
    "sm.add_edge('is_weekend', 'driver_action')"
   ]
  },
  {
   "cell_type": "code",
   "execution_count": 22,
   "metadata": {
    "tags": []
   },
   "outputs": [],
   "source": [
    "# # Learn structure (with optional constraints)\n",
    "sm = from_pandas(struct_data,tabu_edges=[(\"is_weekend\", \"hour_of_day\"), (\"driver_action\", \"hour_of_day\")])\n"
   ]
  },
  {
   "cell_type": "code",
   "execution_count": 30,
   "metadata": {
    "tags": []
   },
   "outputs": [
    {
     "name": "stdout",
     "output_type": "stream",
     "text": [
      "late_modified.html\n"
     ]
    },
    {
     "data": {
      "text/html": [
       "\n",
       "        <iframe\n",
       "            width=\"100%\"\n",
       "            height=\"600px\"\n",
       "            src=\"late_modified.html\"\n",
       "            frameborder=\"0\"\n",
       "            allowfullscreen\n",
       "            \n",
       "        ></iframe>\n",
       "        "
      ],
      "text/plain": [
       "<IPython.lib.display.IFrame at 0x7f1623c3e790>"
      ]
     },
     "execution_count": 30,
     "metadata": {},
     "output_type": "execute_result"
    }
   ],
   "source": [
    "# sm.remove_edges_below_threshold(0.8)\n",
    "\n",
    "viz = plot_structure(\n",
    "    sm,\n",
    "    all_node_attributes=NODE_STYLE.WEAK,\n",
    "    all_edge_attributes=EDGE_STYLE.WEAK,\n",
    ")\n",
    "\n",
    "viz.toggle_physics(False)\n",
    "viz.show(\"late_modified.html\")"
   ]
  },
  {
   "cell_type": "code",
   "execution_count": 20,
   "metadata": {
    "tags": []
   },
   "outputs": [
    {
     "data": {
      "text/html": [
       "<div>\n",
       "<style scoped>\n",
       "    .dataframe tbody tr th:only-of-type {\n",
       "        vertical-align: middle;\n",
       "    }\n",
       "\n",
       "    .dataframe tbody tr th {\n",
       "        vertical-align: top;\n",
       "    }\n",
       "\n",
       "    .dataframe thead th {\n",
       "        text-align: right;\n",
       "    }\n",
       "</style>\n",
       "<table border=\"1\" class=\"dataframe\">\n",
       "  <thead>\n",
       "    <tr style=\"text-align: right;\">\n",
       "      <th></th>\n",
       "      <th>driver_action</th>\n",
       "      <th>hour_of_day</th>\n",
       "      <th>is_weekend</th>\n",
       "    </tr>\n",
       "  </thead>\n",
       "  <tbody>\n",
       "    <tr>\n",
       "      <th>0</th>\n",
       "      <td>accepted</td>\n",
       "      <td>9</td>\n",
       "      <td>0</td>\n",
       "    </tr>\n",
       "    <tr>\n",
       "      <th>1</th>\n",
       "      <td>rejected</td>\n",
       "      <td>9</td>\n",
       "      <td>0</td>\n",
       "    </tr>\n",
       "    <tr>\n",
       "      <th>2</th>\n",
       "      <td>rejected</td>\n",
       "      <td>9</td>\n",
       "      <td>0</td>\n",
       "    </tr>\n",
       "    <tr>\n",
       "      <th>3</th>\n",
       "      <td>rejected</td>\n",
       "      <td>9</td>\n",
       "      <td>0</td>\n",
       "    </tr>\n",
       "    <tr>\n",
       "      <th>4</th>\n",
       "      <td>rejected</td>\n",
       "      <td>9</td>\n",
       "      <td>0</td>\n",
       "    </tr>\n",
       "  </tbody>\n",
       "</table>\n",
       "</div>"
      ],
      "text/plain": [
       "  driver_action  hour_of_day  is_weekend\n",
       "0      accepted            9           0\n",
       "1      rejected            9           0\n",
       "2      rejected            9           0\n",
       "3      rejected            9           0\n",
       "4      rejected            9           0"
      ]
     },
     "execution_count": 20,
     "metadata": {},
     "output_type": "execute_result"
    }
   ],
   "source": [
    "data.head()"
   ]
  },
  {
   "cell_type": "markdown",
   "metadata": {},
   "source": [
    "## Cardinality of Categorical Features\n",
    "\n",
    "To reduce the cardinality of categorical features we can define a map {old_value: new_value}, and use this to update the feature. "
   ]
  },
  {
   "cell_type": "code",
   "execution_count": 31,
   "metadata": {
    "tags": []
   },
   "outputs": [
    {
     "name": "stdout",
     "output_type": "stream",
     "text": [
      "| driver_action   | hour_of_day   | is_weekend   |\n",
      "|:----------------|:--------------|:-------------|\n",
      "| accepted        | morning       | weekday      |\n",
      "| rejected        | morning       | weekday      |\n",
      "| rejected        | morning       | weekday      |\n",
      "| rejected        | morning       | weekday      |\n",
      "| rejected        | morning       | weekday      |\n",
      "| rejected        | morning       | weekday      |\n",
      "| rejected        | morning       | weekday      |\n",
      "| rejected        | morning       | weekday      |\n",
      "| rejected        | morning       | weekday      |\n",
      "| rejected        | morning       | weekday      |\n",
      "| accepted        | morning       | weekday      |\n",
      "| rejected        | morning       | weekday      |\n",
      "| rejected        | morning       | weekday      |\n",
      "| rejected        | morning       | weekday      |\n",
      "| rejected        | morning       | weekday      |\n",
      "| rejected        | morning       | weekday      |\n",
      "| rejected        | morning       | weekday      |\n",
      "| rejected        | morning       | weekday      |\n",
      "| rejected        | morning       | weekday      |\n",
      "| rejected        | morning       | weekday      |\n"
     ]
    }
   ],
   "source": [
    "# Create a copy of the DataFrame\n",
    "discretised_data = data.copy()\n",
    "\n",
    "# Create a dictionary to store unique values for each column\n",
    "data_vals = {col: data[col].unique() for col in data.columns}\n",
    "\n",
    "# Create a dictionary to map driver_action values to 'accepted' and 'rejected'\n",
    "driver_action_map = {v: v for v in data_vals['driver_action']}\n",
    "\n",
    "# Create a dictionary to map hour_of_day values to 'morning' or 'afternoon/night'\n",
    "hour_of_day_map = {v: 'morning' if v <= 12 else 'afternoon/night' for v in data_vals['hour_of_day']}\n",
    "\n",
    "# Create a dictionary to map is_weekend values to weekend or not_weekend\n",
    "is_weekend_map = {v: 'weekday' if v == 0 else 'weekend' for v in data_vals['is_weekend']}\n",
    "\n",
    "# Map the values in the driver_action and hour_of_day columns\n",
    "discretised_data[\"driver_action\"] = discretised_data[\"driver_action\"].map(driver_action_map)\n",
    "discretised_data[\"hour_of_day\"] = discretised_data[\"hour_of_day\"].map(hour_of_day_map)\n",
    "discretised_data['is_weekend'] = discretised_data['is_weekend'].map(is_weekend_map)\n",
    "\n",
    "# Print the first 5 rows of the columns driver_action and hour_of_day\n",
    "print(discretised_data[['driver_action', 'hour_of_day', 'is_weekend']].head(20).to_markdown(index=False, numalign=\"left\", stralign=\"left\"))\n"
   ]
  },
  {
   "cell_type": "code",
   "execution_count": 32,
   "metadata": {
    "tags": []
   },
   "outputs": [
    {
     "data": {
      "text/html": [
       "<div>\n",
       "<style scoped>\n",
       "    .dataframe tbody tr th:only-of-type {\n",
       "        vertical-align: middle;\n",
       "    }\n",
       "\n",
       "    .dataframe tbody tr th {\n",
       "        vertical-align: top;\n",
       "    }\n",
       "\n",
       "    .dataframe thead th {\n",
       "        text-align: right;\n",
       "    }\n",
       "</style>\n",
       "<table border=\"1\" class=\"dataframe\">\n",
       "  <thead>\n",
       "    <tr style=\"text-align: right;\">\n",
       "      <th></th>\n",
       "      <th>driver_action</th>\n",
       "      <th>hour_of_day</th>\n",
       "      <th>is_weekend</th>\n",
       "    </tr>\n",
       "  </thead>\n",
       "  <tbody>\n",
       "    <tr>\n",
       "      <th>0</th>\n",
       "      <td>accepted</td>\n",
       "      <td>morning</td>\n",
       "      <td>weekday</td>\n",
       "    </tr>\n",
       "    <tr>\n",
       "      <th>1</th>\n",
       "      <td>rejected</td>\n",
       "      <td>morning</td>\n",
       "      <td>weekday</td>\n",
       "    </tr>\n",
       "    <tr>\n",
       "      <th>2</th>\n",
       "      <td>rejected</td>\n",
       "      <td>morning</td>\n",
       "      <td>weekday</td>\n",
       "    </tr>\n",
       "    <tr>\n",
       "      <th>3</th>\n",
       "      <td>rejected</td>\n",
       "      <td>morning</td>\n",
       "      <td>weekday</td>\n",
       "    </tr>\n",
       "    <tr>\n",
       "      <th>4</th>\n",
       "      <td>rejected</td>\n",
       "      <td>morning</td>\n",
       "      <td>weekday</td>\n",
       "    </tr>\n",
       "  </tbody>\n",
       "</table>\n",
       "</div>"
      ],
      "text/plain": [
       "  driver_action hour_of_day is_weekend\n",
       "0      accepted     morning    weekday\n",
       "1      rejected     morning    weekday\n",
       "2      rejected     morning    weekday\n",
       "3      rejected     morning    weekday\n",
       "4      rejected     morning    weekday"
      ]
     },
     "execution_count": 32,
     "metadata": {},
     "output_type": "execute_result"
    }
   ],
   "source": [
    "discretised_data.head()"
   ]
  },
  {
   "cell_type": "markdown",
   "metadata": {},
   "source": [
    "#### Split the data into train and test sets"
   ]
  },
  {
   "cell_type": "code",
   "execution_count": 39,
   "metadata": {},
   "outputs": [],
   "source": [
    "# Split 90% train and 10% test\n",
    "from sklearn.model_selection import train_test_split\n",
    "\n",
    "train, test = train_test_split(discretised_data, train_size=0.9, test_size=0.1, random_state=7)"
   ]
  },
  {
   "cell_type": "markdown",
   "metadata": {
    "tags": []
   },
   "source": [
    "### Fit a bayesian network"
   ]
  },
  {
   "cell_type": "code",
   "execution_count": 35,
   "metadata": {},
   "outputs": [],
   "source": [
    "from causalnex.network import BayesianNetwork\n",
    "from causalnex.structure.structuremodel import StructureModel\n",
    "\n",
    "# Having my learned model 'sm' from a previous step\n",
    "\n",
    "# Convert the StructureModel (sm) into a BayesianNetwork\n",
    "bn = BayesianNetwork(sm)"
   ]
  },
  {
   "cell_type": "markdown",
   "metadata": {},
   "source": [
    "#### With the learnt structure model from earlier and the discretised data, we can now fit the probability distrbution of the Bayesian Network.\n"
   ]
  },
  {
   "cell_type": "code",
   "execution_count": 37,
   "metadata": {
    "tags": []
   },
   "outputs": [],
   "source": [
    "bn = bn.fit_node_states(discretised_data)  # Fit node states first"
   ]
  },
  {
   "cell_type": "markdown",
   "metadata": {},
   "source": [
    "#### Fit Conditional Probability Distributions\n"
   ]
  },
  {
   "cell_type": "code",
   "execution_count": 40,
   "metadata": {
    "tags": []
   },
   "outputs": [],
   "source": [
    "bn = bn.fit_cpds(train, method=\"BayesianEstimator\", bayes_prior=\"K2\")"
   ]
  },
  {
   "cell_type": "markdown",
   "metadata": {},
   "source": [
    "##### Once we have the CPDs, we can inspect them through the cpds property, which is a dictionary of node->cpd.\n",
    "\n"
   ]
  },
  {
   "cell_type": "code",
   "execution_count": 41,
   "metadata": {
    "tags": []
   },
   "outputs": [
    {
     "data": {
      "text/html": [
       "<div>\n",
       "<style scoped>\n",
       "    .dataframe tbody tr th:only-of-type {\n",
       "        vertical-align: middle;\n",
       "    }\n",
       "\n",
       "    .dataframe tbody tr th {\n",
       "        vertical-align: top;\n",
       "    }\n",
       "\n",
       "    .dataframe thead tr th {\n",
       "        text-align: left;\n",
       "    }\n",
       "\n",
       "    .dataframe thead tr:last-of-type th {\n",
       "        text-align: right;\n",
       "    }\n",
       "</style>\n",
       "<table border=\"1\" class=\"dataframe\">\n",
       "  <thead>\n",
       "    <tr>\n",
       "      <th>hour_of_day</th>\n",
       "      <th colspan=\"2\" halign=\"left\">afternoon/night</th>\n",
       "      <th colspan=\"2\" halign=\"left\">morning</th>\n",
       "    </tr>\n",
       "    <tr>\n",
       "      <th>is_weekend</th>\n",
       "      <th>weekday</th>\n",
       "      <th>weekend</th>\n",
       "      <th>weekday</th>\n",
       "      <th>weekend</th>\n",
       "    </tr>\n",
       "    <tr>\n",
       "      <th>driver_action</th>\n",
       "      <th></th>\n",
       "      <th></th>\n",
       "      <th></th>\n",
       "      <th></th>\n",
       "    </tr>\n",
       "  </thead>\n",
       "  <tbody>\n",
       "    <tr>\n",
       "      <th>accepted</th>\n",
       "      <td>0.015104</td>\n",
       "      <td>0.016578</td>\n",
       "      <td>0.018374</td>\n",
       "      <td>0.022013</td>\n",
       "    </tr>\n",
       "    <tr>\n",
       "      <th>rejected</th>\n",
       "      <td>0.984896</td>\n",
       "      <td>0.983422</td>\n",
       "      <td>0.981626</td>\n",
       "      <td>0.977987</td>\n",
       "    </tr>\n",
       "  </tbody>\n",
       "</table>\n",
       "</div>"
      ],
      "text/plain": [
       "hour_of_day   afternoon/night             morning          \n",
       "is_weekend            weekday   weekend   weekday   weekend\n",
       "driver_action                                              \n",
       "accepted             0.015104  0.016578  0.018374  0.022013\n",
       "rejected             0.984896  0.983422  0.981626  0.977987"
      ]
     },
     "execution_count": 41,
     "metadata": {},
     "output_type": "execute_result"
    }
   ],
   "source": [
    "bn.cpds[\"driver_action\"]"
   ]
  },
  {
   "cell_type": "markdown",
   "metadata": {},
   "source": [
    "#### Classification Report"
   ]
  },
  {
   "cell_type": "code",
   "execution_count": 48,
   "metadata": {
    "tags": []
   },
   "outputs": [
    {
     "name": "stderr",
     "output_type": "stream",
     "text": [
      "/home/studio-lab-user/.conda/envs/default/lib/python3.9/site-packages/sklearn/metrics/_classification.py:1517: UndefinedMetricWarning: Precision is ill-defined and being set to 0.0 in labels with no predicted samples. Use `zero_division` parameter to control this behavior.\n",
      "  _warn_prf(average, modifier, f\"{metric.capitalize()} is\", len(result))\n",
      "/home/studio-lab-user/.conda/envs/default/lib/python3.9/site-packages/sklearn/metrics/_classification.py:1517: UndefinedMetricWarning: Precision is ill-defined and being set to 0.0 in labels with no predicted samples. Use `zero_division` parameter to control this behavior.\n",
      "  _warn_prf(average, modifier, f\"{metric.capitalize()} is\", len(result))\n",
      "/home/studio-lab-user/.conda/envs/default/lib/python3.9/site-packages/sklearn/metrics/_classification.py:1517: UndefinedMetricWarning: Precision is ill-defined and being set to 0.0 in labels with no predicted samples. Use `zero_division` parameter to control this behavior.\n",
      "  _warn_prf(average, modifier, f\"{metric.capitalize()} is\", len(result))\n"
     ]
    },
    {
     "data": {
      "text/plain": [
       "{'driver_action_accepted': {'precision': 0.0,\n",
       "  'recall': 0.0,\n",
       "  'f1-score': 0.0,\n",
       "  'support': 2574.0},\n",
       " 'driver_action_rejected': {'precision': 0.9834760614736734,\n",
       "  'recall': 1.0,\n",
       "  'f1-score': 0.9916692019393217,\n",
       "  'support': 153200.0},\n",
       " 'accuracy': 0.9834760614736734,\n",
       " 'macro avg': {'precision': 0.4917380307368367,\n",
       "  'recall': 0.5,\n",
       "  'f1-score': 0.49583460096966087,\n",
       "  'support': 155774.0},\n",
       " 'weighted avg': {'precision': 0.9672251634917686,\n",
       "  'recall': 0.9834760614736734,\n",
       "  'f1-score': 0.975282921008025,\n",
       "  'support': 155774.0}}"
      ]
     },
     "execution_count": 48,
     "metadata": {},
     "output_type": "execute_result"
    }
   ],
   "source": [
    "from causalnex.evaluation import classification_report\n",
    "\n",
    "classification_report(bn, test, \"driver_action\")"
   ]
  },
  {
   "cell_type": "code",
   "execution_count": null,
   "metadata": {},
   "outputs": [],
   "source": []
  },
  {
   "cell_type": "markdown",
   "metadata": {},
   "source": [
    "### Machine learning"
   ]
  },
  {
   "cell_type": "code",
   "execution_count": 94,
   "metadata": {
    "tags": []
   },
   "outputs": [],
   "source": [
    "# 2. Define selected features (if not already done):\n",
    "selected_features = ['is_weekend_weekend', 'hour_of_day_morning']"
   ]
  },
  {
   "cell_type": "code",
   "execution_count": 95,
   "metadata": {
    "tags": []
   },
   "outputs": [],
   "source": [
    "# 3. Preprocess Training Data ONLY:\n",
    "train_encoded = pd.get_dummies(train.copy(), columns=selected_features)\n",
    "le = LabelEncoder()\n",
    "train_encoded[\"driver_action\"] = le.fit_transform(train_encoded[\"driver_action\"])\n"
   ]
  },
  {
   "cell_type": "code",
   "execution_count": 96,
   "metadata": {
    "tags": []
   },
   "outputs": [],
   "source": [
    "# 4. Preprocess Testing Data (Using Training Data's Transformations):\n",
    "test_encoded = pd.get_dummies(test.copy(), columns=selected_features)\n"
   ]
  },
  {
   "cell_type": "code",
   "execution_count": 97,
   "metadata": {
    "tags": []
   },
   "outputs": [],
   "source": [
    "# Align columns to match training data\n",
    "missing_cols = set(train_encoded.columns) - set(test_encoded.columns)\n",
    "for col in missing_cols:\n",
    "    test_encoded[col] = 0\n"
   ]
  },
  {
   "cell_type": "code",
   "execution_count": 98,
   "metadata": {
    "tags": []
   },
   "outputs": [],
   "source": [
    "test_encoded = test_encoded[train_encoded.columns]  # Ensure same column order\n",
    "\n",
    "test_encoded[\"driver_action\"] = le.transform(test_encoded[\"driver_action\"])\n"
   ]
  },
  {
   "cell_type": "code",
   "execution_count": 99,
   "metadata": {
    "tags": []
   },
   "outputs": [],
   "source": [
    "# 5. Extract Features and Target Variables\n",
    "X_train = train_encoded.drop(\"driver_action\", axis=1)   # All features for training\n",
    "y_train = train_encoded[\"driver_action\"]                # Target variable for training\n",
    "X_test = test_encoded.drop(\"driver_action\", axis=1)     # All features for testing\n",
    "y_test = test_encoded[\"driver_action\"]                  # Target variable for testing"
   ]
  },
  {
   "cell_type": "code",
   "execution_count": 100,
   "metadata": {
    "tags": []
   },
   "outputs": [],
   "source": [
    "# Define selected features from your Bayesian network analysis\n",
    "# selected_features = ['is_weekend_weekday', 'is_weekend_weekend', 'hour_of_day_afternoon/night', 'hour_of_day_morning'] \n",
    "\n",
    "X_train_selected = train[selected_features]          # Selected features for training\n",
    "X_test_selected = test[selected_features]           # Selected features for testing\n"
   ]
  },
  {
   "cell_type": "code",
   "execution_count": null,
   "metadata": {
    "tags": []
   },
   "outputs": [],
   "source": []
  },
  {
   "cell_type": "markdown",
   "metadata": {
    "tags": []
   },
   "source": [
    "## ---- Random Forest ----"
   ]
  },
  {
   "cell_type": "code",
   "execution_count": 101,
   "metadata": {
    "tags": []
   },
   "outputs": [],
   "source": [
    "from sklearn.ensemble import RandomForestClassifier, GradientBoostingClassifier\n"
   ]
  },
  {
   "cell_type": "code",
   "execution_count": 102,
   "metadata": {
    "tags": []
   },
   "outputs": [
    {
     "name": "stdout",
     "output_type": "stream",
     "text": [
      "Random Forest (All Features): Accuracy = 0.983476\n"
     ]
    }
   ],
   "source": [
    "# All Features\n",
    "rf_all = RandomForestClassifier(random_state=7)\n",
    "rf_all.fit(X_train, y_train)\n",
    "y_pred = rf_all.predict(X_test)\n",
    "accuracy = accuracy_score(y_test, y_pred)\n",
    "print(f\"Random Forest (All Features): Accuracy = {accuracy:.8f}\")"
   ]
  },
  {
   "cell_type": "code",
   "execution_count": 103,
   "metadata": {
    "tags": []
   },
   "outputs": [
    {
     "name": "stdout",
     "output_type": "stream",
     "text": [
      "Random Forest (Selected Features): Accuracy = 0.9835\n"
     ]
    }
   ],
   "source": [
    "# Selected Features\n",
    "rf_selected = RandomForestClassifier(random_state=7)\n",
    "rf_selected.fit(X_train_selected, y_train)\n",
    "y_pred = rf_selected.predict(X_test_selected)\n",
    "accuracy = accuracy_score(y_test, y_pred)\n",
    "print(f\"Random Forest (Selected Features): Accuracy = {accuracy:.8f}\")\n"
   ]
  },
  {
   "cell_type": "markdown",
   "metadata": {
    "tags": []
   },
   "source": [
    "## --- XGBoost ---"
   ]
  },
  {
   "cell_type": "code",
   "execution_count": null,
   "metadata": {},
   "outputs": [],
   "source": []
  },
  {
   "cell_type": "code",
   "execution_count": 104,
   "metadata": {
    "tags": []
   },
   "outputs": [
    {
     "name": "stdout",
     "output_type": "stream",
     "text": [
      "XGBoost (All Features): Accuracy = 0.983476061\n"
     ]
    }
   ],
   "source": [
    "# --- XGBoost ---\n",
    "from xgboost import XGBClassifier\n",
    "\n",
    "# All Features\n",
    "xgb_all = XGBClassifier(random_state=7)\n",
    "xgb_all.fit(X_train, y_train)\n",
    "y_pred = xgb_all.predict(X_test)\n",
    "accuracy = accuracy_score(y_test, y_pred)\n",
    "print(f\"XGBoost (All Features): Accuracy = {accuracy:.9f}\")"
   ]
  },
  {
   "cell_type": "code",
   "execution_count": 105,
   "metadata": {
    "tags": []
   },
   "outputs": [
    {
     "name": "stdout",
     "output_type": "stream",
     "text": [
      "XGBoost (Selected Features): Accuracy = 0.983476061\n"
     ]
    }
   ],
   "source": [
    "# Selected Features\n",
    "xgb_selected = XGBClassifier(random_state=7)\n",
    "xgb_selected.fit(X_train_selected, y_train)\n",
    "y_pred = xgb_selected.predict(X_test_selected)\n",
    "accuracy = accuracy_score(y_test, y_pred)\n",
    "print(f\"XGBoost (Selected Features): Accuracy = {accuracy:.9f}\")"
   ]
  },
  {
   "cell_type": "markdown",
   "metadata": {},
   "source": [
    "## --- Gradient Boosting ---\n"
   ]
  },
  {
   "cell_type": "code",
   "execution_count": 106,
   "metadata": {
    "tags": []
   },
   "outputs": [
    {
     "name": "stdout",
     "output_type": "stream",
     "text": [
      "Gradient Boosting (All Features): Accuracy = 0.983476061\n"
     ]
    }
   ],
   "source": [
    "\n",
    "# All Features\n",
    "gb_all = GradientBoostingClassifier(random_state=7)\n",
    "gb_all.fit(X_train, y_train)\n",
    "y_pred = gb_all.predict(X_test)\n",
    "accuracy = accuracy_score(y_test, y_pred)\n",
    "print(f\"Gradient Boosting (All Features): Accuracy = {accuracy:.9f}\")"
   ]
  },
  {
   "cell_type": "code",
   "execution_count": 107,
   "metadata": {
    "tags": []
   },
   "outputs": [
    {
     "name": "stdout",
     "output_type": "stream",
     "text": [
      "Gradient Boosting (Selected Features): Accuracy = 0.983476061\n"
     ]
    }
   ],
   "source": [
    "# Selected Features\n",
    "gb_selected = GradientBoostingClassifier(random_state=7)\n",
    "gb_selected.fit(X_train_selected, y_train)\n",
    "y_pred = gb_selected.predict(X_test_selected)\n",
    "accuracy = accuracy_score(y_test, y_pred)\n",
    "print(f\"Gradient Boosting (Selected Features): Accuracy = {accuracy:.9f}\")\n"
   ]
  },
  {
   "cell_type": "markdown",
   "metadata": {
    "tags": []
   },
   "source": [
    "## --- Logistic Regression ---"
   ]
  },
  {
   "cell_type": "code",
   "execution_count": 88,
   "metadata": {
    "tags": []
   },
   "outputs": [
    {
     "name": "stdout",
     "output_type": "stream",
     "text": [
      "Logistic Regression (All Features): Accuracy = 0.983476061\n"
     ]
    }
   ],
   "source": [
    "# All Features\n",
    "lr_all = LogisticRegression(random_state=7)\n",
    "lr_all.fit(X_train, y_train)\n",
    "y_pred = lr_all.predict(X_test)\n",
    "accuracy = accuracy_score(y_test, y_pred)\n",
    "print(f\"Logistic Regression (All Features): Accuracy = {accuracy:.9f}\")"
   ]
  },
  {
   "cell_type": "code",
   "execution_count": 87,
   "metadata": {
    "tags": []
   },
   "outputs": [
    {
     "name": "stdout",
     "output_type": "stream",
     "text": [
      "Logistic Regression (Selected Features): Accuracy = 0.983476061\n"
     ]
    }
   ],
   "source": [
    "# Selected Features\n",
    "lr_selected = LogisticRegression(random_state=7)\n",
    "lr_selected.fit(X_train_selected, y_train)\n",
    "y_pred = lr_selected.predict(X_test_selected)\n",
    "accuracy = accuracy_score(y_test, y_pred)\n",
    "print(f\"Logistic Regression (Selected Features): Accuracy = {accuracy:.9f}\")"
   ]
  },
  {
   "cell_type": "code",
   "execution_count": null,
   "metadata": {},
   "outputs": [],
   "source": []
  }
 ],
 "metadata": {
  "kernelspec": {
   "display_name": "default:Python",
   "language": "python",
   "name": "conda-env-default-py"
  },
  "language_info": {
   "codemirror_mode": {
    "name": "ipython",
    "version": 3
   },
   "file_extension": ".py",
   "mimetype": "text/x-python",
   "name": "python",
   "nbconvert_exporter": "python",
   "pygments_lexer": "ipython3",
   "version": "3.9.19"
  }
 },
 "nbformat": 4,
 "nbformat_minor": 4
}
