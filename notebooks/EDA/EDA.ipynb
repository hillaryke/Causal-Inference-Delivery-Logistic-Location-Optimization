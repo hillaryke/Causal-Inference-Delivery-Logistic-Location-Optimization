{
 "cells": [
  {
   "cell_type": "code",
   "execution_count": 1,
   "metadata": {},
   "outputs": [],
   "source": [
    "import pandas as pd\n",
    "import os\n",
    "\n",
    "os.chdir(\"../../\")\n",
    "\n",
    "from src import display_df"
   ]
  },
  {
   "cell_type": "code",
   "execution_count": 2,
   "metadata": {},
   "outputs": [],
   "source": [
    "completed_orders = pd.read_csv(\"data/completed_orders.csv\")\n",
    "drivers_location = pd.read_csv(\"data/drivers_location_during_request.csv\")"
   ]
  },
  {
   "cell_type": "code",
   "execution_count": 3,
   "metadata": {},
   "outputs": [
    {
     "data": {
      "text/html": [
       "<div>\n",
       "<style scoped>\n",
       "    .dataframe tbody tr th:only-of-type {\n",
       "        vertical-align: middle;\n",
       "    }\n",
       "\n",
       "    .dataframe tbody tr th {\n",
       "        vertical-align: top;\n",
       "    }\n",
       "\n",
       "    .dataframe thead th {\n",
       "        text-align: right;\n",
       "    }\n",
       "</style>\n",
       "<table border=\"1\" class=\"dataframe\">\n",
       "  <thead>\n",
       "    <tr style=\"text-align: right;\">\n",
       "      <th></th>\n",
       "      <th>Trip ID</th>\n",
       "      <th>Trip Origin</th>\n",
       "      <th>Trip Destination</th>\n",
       "      <th>Trip Start Time</th>\n",
       "      <th>Trip End Time</th>\n",
       "    </tr>\n",
       "  </thead>\n",
       "  <tbody>\n",
       "    <tr>\n",
       "      <th>0</th>\n",
       "      <td>391996</td>\n",
       "      <td>6.508813001668548,3.37740316890347</td>\n",
       "      <td>6.650969799999999,3.3450307</td>\n",
       "      <td>2021-07-01 07:28:04</td>\n",
       "      <td>2021-07-01 07:29:37</td>\n",
       "    </tr>\n",
       "    <tr>\n",
       "      <th>1</th>\n",
       "      <td>391997</td>\n",
       "      <td>6.4316714,3.4555375</td>\n",
       "      <td>6.4280814653326,3.4721885847586</td>\n",
       "      <td>2021-07-01 06:38:04</td>\n",
       "      <td>2021-07-01 07:07:28</td>\n",
       "    </tr>\n",
       "    <tr>\n",
       "      <th>2</th>\n",
       "      <td>391998</td>\n",
       "      <td>6.631679399999999,3.3388976</td>\n",
       "      <td>6.508324099999999,3.3590397</td>\n",
       "      <td>2021-07-01 06:21:02</td>\n",
       "      <td>2021-07-01 07:02:23</td>\n",
       "    </tr>\n",
       "    <tr>\n",
       "      <th>3</th>\n",
       "      <td>391999</td>\n",
       "      <td>6.572757200000001,3.3677082</td>\n",
       "      <td>6.584881099999999,3.3614073</td>\n",
       "      <td>2021-07-01 07:16:07</td>\n",
       "      <td>2021-07-01 07:29:42</td>\n",
       "    </tr>\n",
       "    <tr>\n",
       "      <th>4</th>\n",
       "      <td>392001</td>\n",
       "      <td>6.6010417,3.2766339</td>\n",
       "      <td>6.4501069,3.3916154</td>\n",
       "      <td>2021-07-01 09:30:59</td>\n",
       "      <td>2021-07-01 09:34:36</td>\n",
       "    </tr>\n",
       "    <tr>\n",
       "      <th>5</th>\n",
       "      <td>392005</td>\n",
       "      <td>6.565087699999999,3.3844415</td>\n",
       "      <td>6.499696300000001,3.3509075</td>\n",
       "      <td>2021-07-01 10:53:36</td>\n",
       "      <td>2021-07-01 11:27:51</td>\n",
       "    </tr>\n",
       "    <tr>\n",
       "      <th>6</th>\n",
       "      <td>392009</td>\n",
       "      <td>6.6636484,3.3082058</td>\n",
       "      <td>6.6185421,3.301634</td>\n",
       "      <td>2021-07-01 06:39:51</td>\n",
       "      <td>2021-07-01 07:41:12</td>\n",
       "    </tr>\n",
       "  </tbody>\n",
       "</table>\n",
       "</div>"
      ],
      "text/plain": [
       "   Trip ID                         Trip Origin  \\\n",
       "0   391996  6.508813001668548,3.37740316890347   \n",
       "1   391997                 6.4316714,3.4555375   \n",
       "2   391998         6.631679399999999,3.3388976   \n",
       "3   391999         6.572757200000001,3.3677082   \n",
       "4   392001                 6.6010417,3.2766339   \n",
       "5   392005         6.565087699999999,3.3844415   \n",
       "6   392009                 6.6636484,3.3082058   \n",
       "\n",
       "                  Trip Destination      Trip Start Time        Trip End Time  \n",
       "0      6.650969799999999,3.3450307  2021-07-01 07:28:04  2021-07-01 07:29:37  \n",
       "1  6.4280814653326,3.4721885847586  2021-07-01 06:38:04  2021-07-01 07:07:28  \n",
       "2      6.508324099999999,3.3590397  2021-07-01 06:21:02  2021-07-01 07:02:23  \n",
       "3      6.584881099999999,3.3614073  2021-07-01 07:16:07  2021-07-01 07:29:42  \n",
       "4              6.4501069,3.3916154  2021-07-01 09:30:59  2021-07-01 09:34:36  \n",
       "5      6.499696300000001,3.3509075  2021-07-01 10:53:36  2021-07-01 11:27:51  \n",
       "6               6.6185421,3.301634  2021-07-01 06:39:51  2021-07-01 07:41:12  "
      ]
     },
     "execution_count": 3,
     "metadata": {},
     "output_type": "execute_result"
    }
   ],
   "source": [
    "completed_orders.head(7)"
   ]
  },
  {
   "cell_type": "code",
   "execution_count": 4,
   "metadata": {},
   "outputs": [
    {
     "data": {
      "text/html": [
       "<div>\n",
       "<style scoped>\n",
       "    .dataframe tbody tr th:only-of-type {\n",
       "        vertical-align: middle;\n",
       "    }\n",
       "\n",
       "    .dataframe tbody tr th {\n",
       "        vertical-align: top;\n",
       "    }\n",
       "\n",
       "    .dataframe thead th {\n",
       "        text-align: right;\n",
       "    }\n",
       "</style>\n",
       "<table border=\"1\" class=\"dataframe\">\n",
       "  <thead>\n",
       "    <tr style=\"text-align: right;\">\n",
       "      <th></th>\n",
       "      <th>id</th>\n",
       "      <th>order_id</th>\n",
       "      <th>driver_id</th>\n",
       "      <th>driver_action</th>\n",
       "      <th>lat</th>\n",
       "      <th>lng</th>\n",
       "      <th>created_at</th>\n",
       "      <th>updated_at</th>\n",
       "    </tr>\n",
       "  </thead>\n",
       "  <tbody>\n",
       "    <tr>\n",
       "      <th>0</th>\n",
       "      <td>1</td>\n",
       "      <td>392001</td>\n",
       "      <td>243828</td>\n",
       "      <td>accepted</td>\n",
       "      <td>6.602207</td>\n",
       "      <td>3.270465</td>\n",
       "      <td>NaN</td>\n",
       "      <td>NaN</td>\n",
       "    </tr>\n",
       "    <tr>\n",
       "      <th>1</th>\n",
       "      <td>2</td>\n",
       "      <td>392001</td>\n",
       "      <td>243588</td>\n",
       "      <td>rejected</td>\n",
       "      <td>6.592097</td>\n",
       "      <td>3.287445</td>\n",
       "      <td>NaN</td>\n",
       "      <td>NaN</td>\n",
       "    </tr>\n",
       "    <tr>\n",
       "      <th>2</th>\n",
       "      <td>3</td>\n",
       "      <td>392001</td>\n",
       "      <td>243830</td>\n",
       "      <td>rejected</td>\n",
       "      <td>6.596133</td>\n",
       "      <td>3.281784</td>\n",
       "      <td>NaN</td>\n",
       "      <td>NaN</td>\n",
       "    </tr>\n",
       "    <tr>\n",
       "      <th>3</th>\n",
       "      <td>4</td>\n",
       "      <td>392001</td>\n",
       "      <td>243539</td>\n",
       "      <td>rejected</td>\n",
       "      <td>6.596142</td>\n",
       "      <td>3.280526</td>\n",
       "      <td>NaN</td>\n",
       "      <td>NaN</td>\n",
       "    </tr>\n",
       "    <tr>\n",
       "      <th>4</th>\n",
       "      <td>5</td>\n",
       "      <td>392001</td>\n",
       "      <td>171653</td>\n",
       "      <td>rejected</td>\n",
       "      <td>6.609232</td>\n",
       "      <td>3.288800</td>\n",
       "      <td>NaN</td>\n",
       "      <td>NaN</td>\n",
       "    </tr>\n",
       "    <tr>\n",
       "      <th>5</th>\n",
       "      <td>6</td>\n",
       "      <td>392001</td>\n",
       "      <td>245662</td>\n",
       "      <td>rejected</td>\n",
       "      <td>6.593095</td>\n",
       "      <td>3.287759</td>\n",
       "      <td>NaN</td>\n",
       "      <td>NaN</td>\n",
       "    </tr>\n",
       "    <tr>\n",
       "      <th>6</th>\n",
       "      <td>7</td>\n",
       "      <td>392001</td>\n",
       "      <td>171651</td>\n",
       "      <td>rejected</td>\n",
       "      <td>6.613538</td>\n",
       "      <td>3.270779</td>\n",
       "      <td>NaN</td>\n",
       "      <td>NaN</td>\n",
       "    </tr>\n",
       "    <tr>\n",
       "      <th>7</th>\n",
       "      <td>8</td>\n",
       "      <td>392001</td>\n",
       "      <td>243906</td>\n",
       "      <td>rejected</td>\n",
       "      <td>6.591838</td>\n",
       "      <td>3.276124</td>\n",
       "      <td>NaN</td>\n",
       "      <td>NaN</td>\n",
       "    </tr>\n",
       "    <tr>\n",
       "      <th>8</th>\n",
       "      <td>9</td>\n",
       "      <td>392001</td>\n",
       "      <td>226949</td>\n",
       "      <td>rejected</td>\n",
       "      <td>6.610941</td>\n",
       "      <td>3.276126</td>\n",
       "      <td>NaN</td>\n",
       "      <td>NaN</td>\n",
       "    </tr>\n",
       "    <tr>\n",
       "      <th>9</th>\n",
       "      <td>10</td>\n",
       "      <td>392001</td>\n",
       "      <td>243769</td>\n",
       "      <td>rejected</td>\n",
       "      <td>6.617199</td>\n",
       "      <td>3.271723</td>\n",
       "      <td>NaN</td>\n",
       "      <td>NaN</td>\n",
       "    </tr>\n",
       "  </tbody>\n",
       "</table>\n",
       "</div>"
      ],
      "text/plain": [
       "   id  order_id  driver_id driver_action       lat       lng  created_at  \\\n",
       "0   1    392001     243828      accepted  6.602207  3.270465         NaN   \n",
       "1   2    392001     243588      rejected  6.592097  3.287445         NaN   \n",
       "2   3    392001     243830      rejected  6.596133  3.281784         NaN   \n",
       "3   4    392001     243539      rejected  6.596142  3.280526         NaN   \n",
       "4   5    392001     171653      rejected  6.609232  3.288800         NaN   \n",
       "5   6    392001     245662      rejected  6.593095  3.287759         NaN   \n",
       "6   7    392001     171651      rejected  6.613538  3.270779         NaN   \n",
       "7   8    392001     243906      rejected  6.591838  3.276124         NaN   \n",
       "8   9    392001     226949      rejected  6.610941  3.276126         NaN   \n",
       "9  10    392001     243769      rejected  6.617199  3.271723         NaN   \n",
       "\n",
       "   updated_at  \n",
       "0         NaN  \n",
       "1         NaN  \n",
       "2         NaN  \n",
       "3         NaN  \n",
       "4         NaN  \n",
       "5         NaN  \n",
       "6         NaN  \n",
       "7         NaN  \n",
       "8         NaN  \n",
       "9         NaN  "
      ]
     },
     "execution_count": 4,
     "metadata": {},
     "output_type": "execute_result"
    }
   ],
   "source": [
    "drivers_location.head(10)"
   ]
  },
  {
   "cell_type": "markdown",
   "metadata": {},
   "source": [
    "#### Analyze completed orders information"
   ]
  },
  {
   "cell_type": "code",
   "execution_count": 5,
   "metadata": {},
   "outputs": [
    {
     "name": "stdout",
     "output_type": "stream",
     "text": [
      "<class 'pandas.core.frame.DataFrame'>\n",
      "RangeIndex: 536020 entries, 0 to 536019\n",
      "Data columns (total 5 columns):\n",
      " #   Column            Non-Null Count   Dtype \n",
      "---  ------            --------------   ----- \n",
      " 0   Trip ID           536020 non-null  int64 \n",
      " 1   Trip Origin       536020 non-null  object\n",
      " 2   Trip Destination  536020 non-null  object\n",
      " 3   Trip Start Time   534369 non-null  object\n",
      " 4   Trip End Time     536019 non-null  object\n",
      "dtypes: int64(1), object(4)\n",
      "memory usage: 20.4+ MB\n"
     ]
    }
   ],
   "source": [
    "# get the informtion of completed orders data\n",
    "completed_orders.info()"
   ]
  },
  {
   "cell_type": "code",
   "execution_count": 6,
   "metadata": {},
   "outputs": [
    {
     "data": {
      "text/plain": [
       "Trip ID                0\n",
       "Trip Origin            0\n",
       "Trip Destination       0\n",
       "Trip Start Time     1651\n",
       "Trip End Time          1\n",
       "dtype: int64"
      ]
     },
     "execution_count": 6,
     "metadata": {},
     "output_type": "execute_result"
    }
   ],
   "source": [
    "# Check missing values in completed_orders\n",
    "completed_orders.isnull().sum()"
   ]
  },
  {
   "cell_type": "markdown",
   "metadata": {},
   "source": [
    "##### Analyze drivers location info"
   ]
  },
  {
   "cell_type": "code",
   "execution_count": 7,
   "metadata": {},
   "outputs": [
    {
     "data": {
      "text/plain": [
       "id                     0\n",
       "order_id               0\n",
       "driver_id              0\n",
       "driver_action          0\n",
       "lat                    0\n",
       "lng                    0\n",
       "created_at       1557740\n",
       "updated_at       1557740\n",
       "dtype: int64"
      ]
     },
     "execution_count": 7,
     "metadata": {},
     "output_type": "execute_result"
    }
   ],
   "source": [
    "# Check missing values for drivers_location\n",
    "drivers_location.isnull().sum()"
   ]
  },
  {
   "cell_type": "markdown",
   "metadata": {},
   "source": [
    "### Perform data preprocessing"
   ]
  },
  {
   "cell_type": "code",
   "execution_count": 3,
   "metadata": {},
   "outputs": [],
   "source": [
    "from src.preprocess_data import GokadaDataPreprocessor"
   ]
  },
  {
   "cell_type": "code",
   "execution_count": 4,
   "metadata": {},
   "outputs": [],
   "source": [
    "completed_orders_path = 'data/completed_orders.csv'\n",
    "drivers_location_path = 'data/drivers_location_during_request.csv'\n",
    "\n",
    "preprocessor = GokadaDataPreprocessor(completed_orders_path, drivers_location_path)\n"
   ]
  },
  {
   "cell_type": "code",
   "execution_count": 5,
   "metadata": {},
   "outputs": [
    {
     "ename": "KeyboardInterrupt",
     "evalue": "",
     "output_type": "error",
     "traceback": [
      "\u001b[0;31m---------------------------------------------------------------------------\u001b[0m",
      "\u001b[0;31mKeyboardInterrupt\u001b[0m                         Traceback (most recent call last)",
      "Cell \u001b[0;32mIn[5], line 1\u001b[0m\n\u001b[0;32m----> 1\u001b[0m preprocessed_df \u001b[38;5;241m=\u001b[39m \u001b[43mpreprocessor\u001b[49m\u001b[38;5;241;43m.\u001b[39;49m\u001b[43mpreprocess_and_save\u001b[49m\u001b[43m(\u001b[49m\u001b[38;5;124;43m'\u001b[39;49m\u001b[38;5;124;43mprocessed_data.csv\u001b[39;49m\u001b[38;5;124;43m'\u001b[39;49m\u001b[43m)\u001b[49m\n",
      "File \u001b[0;32m~/code/10Academy-training/week8/Causal-Inference-Delivery-Logistic-Location-Optimization/src/preprocess_data.py:90\u001b[0m, in \u001b[0;36mGokadaDataPreprocessor.preprocess_and_save\u001b[0;34m(self, filename)\u001b[0m\n\u001b[1;32m     88\u001b[0m \u001b[38;5;28;01mdef\u001b[39;00m \u001b[38;5;21mpreprocess_and_save\u001b[39m(\u001b[38;5;28mself\u001b[39m, filename):\n\u001b[1;32m     89\u001b[0m \u001b[38;5;250m    \u001b[39m\u001b[38;5;124;03m\"\"\"Preprocesses data and saves to CSV.\"\"\"\u001b[39;00m\n\u001b[0;32m---> 90\u001b[0m     preprocessed_df \u001b[38;5;241m=\u001b[39m \u001b[38;5;28;43mself\u001b[39;49m\u001b[38;5;241;43m.\u001b[39;49m\u001b[43mpreprocess_data\u001b[49m\u001b[43m(\u001b[49m\u001b[43m)\u001b[49m\n\u001b[1;32m     91\u001b[0m     \u001b[38;5;28mself\u001b[39m\u001b[38;5;241m.\u001b[39msave_to_csv(preprocessed_df, filename)\n\u001b[1;32m     92\u001b[0m     \u001b[38;5;28;01mreturn\u001b[39;00m preprocessed_df\n",
      "File \u001b[0;32m~/code/10Academy-training/week8/Causal-Inference-Delivery-Logistic-Location-Optimization/src/preprocess_data.py:51\u001b[0m, in \u001b[0;36mGokadaDataPreprocessor.preprocess_data\u001b[0;34m(self)\u001b[0m\n\u001b[1;32m     48\u001b[0m \u001b[38;5;66;03m# Convert column names to lowercase and replace spaces with underscores\u001b[39;00m\n\u001b[1;32m     49\u001b[0m \u001b[38;5;28mself\u001b[39m\u001b[38;5;241m.\u001b[39mmerged_df\u001b[38;5;241m.\u001b[39mcolumns \u001b[38;5;241m=\u001b[39m \u001b[38;5;28mself\u001b[39m\u001b[38;5;241m.\u001b[39mmerged_df\u001b[38;5;241m.\u001b[39mcolumns\u001b[38;5;241m.\u001b[39mstr\u001b[38;5;241m.\u001b[39mlower()\u001b[38;5;241m.\u001b[39mstr\u001b[38;5;241m.\u001b[39mreplace(\u001b[38;5;124m'\u001b[39m\u001b[38;5;124m \u001b[39m\u001b[38;5;124m'\u001b[39m, \u001b[38;5;124m'\u001b[39m\u001b[38;5;124m_\u001b[39m\u001b[38;5;124m'\u001b[39m)\n\u001b[0;32m---> 51\u001b[0m \u001b[38;5;28;43mself\u001b[39;49m\u001b[38;5;241;43m.\u001b[39;49m\u001b[43m_add_is_holiday_feature\u001b[49m\u001b[43m(\u001b[49m\u001b[38;5;124;43m'\u001b[39;49m\u001b[38;5;124;43mtrip_start_time\u001b[39;49m\u001b[38;5;124;43m'\u001b[39;49m\u001b[43m)\u001b[49m\n\u001b[1;32m     53\u001b[0m \u001b[38;5;28;01mreturn\u001b[39;00m \u001b[38;5;28mself\u001b[39m\u001b[38;5;241m.\u001b[39mmerged_df\n",
      "File \u001b[0;32m~/code/10Academy-training/week8/Causal-Inference-Delivery-Logistic-Location-Optimization/src/preprocess_data.py:76\u001b[0m, in \u001b[0;36mGokadaDataPreprocessor._add_is_holiday_feature\u001b[0;34m(self, col_name)\u001b[0m\n\u001b[1;32m     74\u001b[0m \u001b[38;5;28;01mdef\u001b[39;00m \u001b[38;5;21m_add_is_holiday_feature\u001b[39m(\u001b[38;5;28mself\u001b[39m, col_name):\n\u001b[1;32m     75\u001b[0m \u001b[38;5;250m    \u001b[39m\u001b[38;5;124;03m\"\"\"Adds a feature indicating whether the trip start date is a holiday.\"\"\"\u001b[39;00m\n\u001b[0;32m---> 76\u001b[0m     \u001b[38;5;28mself\u001b[39m\u001b[38;5;241m.\u001b[39mmerged_df[\u001b[38;5;124m'\u001b[39m\u001b[38;5;124mis_holiday\u001b[39m\u001b[38;5;124m'\u001b[39m] \u001b[38;5;241m=\u001b[39m \u001b[38;5;28;43mself\u001b[39;49m\u001b[38;5;241;43m.\u001b[39;49m\u001b[43mmerged_df\u001b[49m\u001b[43m[\u001b[49m\u001b[43mcol_name\u001b[49m\u001b[43m]\u001b[49m\u001b[38;5;241;43m.\u001b[39;49m\u001b[43mapply\u001b[49m\u001b[43m(\u001b[49m\u001b[43mis_holiday\u001b[49m\u001b[43m)\u001b[49m\n",
      "File \u001b[0;32m~/code/10Academy-training/week8/Causal-Inference-Delivery-Logistic-Location-Optimization/.venv/lib/python3.9/site-packages/pandas/core/series.py:4771\u001b[0m, in \u001b[0;36mSeries.apply\u001b[0;34m(self, func, convert_dtype, args, **kwargs)\u001b[0m\n\u001b[1;32m   4661\u001b[0m \u001b[38;5;28;01mdef\u001b[39;00m \u001b[38;5;21mapply\u001b[39m(\n\u001b[1;32m   4662\u001b[0m     \u001b[38;5;28mself\u001b[39m,\n\u001b[1;32m   4663\u001b[0m     func: AggFuncType,\n\u001b[0;32m   (...)\u001b[0m\n\u001b[1;32m   4666\u001b[0m     \u001b[38;5;241m*\u001b[39m\u001b[38;5;241m*\u001b[39mkwargs,\n\u001b[1;32m   4667\u001b[0m ) \u001b[38;5;241m-\u001b[39m\u001b[38;5;241m>\u001b[39m DataFrame \u001b[38;5;241m|\u001b[39m Series:\n\u001b[1;32m   4668\u001b[0m \u001b[38;5;250m    \u001b[39m\u001b[38;5;124;03m\"\"\"\u001b[39;00m\n\u001b[1;32m   4669\u001b[0m \u001b[38;5;124;03m    Invoke function on values of Series.\u001b[39;00m\n\u001b[1;32m   4670\u001b[0m \n\u001b[0;32m   (...)\u001b[0m\n\u001b[1;32m   4769\u001b[0m \u001b[38;5;124;03m    dtype: float64\u001b[39;00m\n\u001b[1;32m   4770\u001b[0m \u001b[38;5;124;03m    \"\"\"\u001b[39;00m\n\u001b[0;32m-> 4771\u001b[0m     \u001b[38;5;28;01mreturn\u001b[39;00m \u001b[43mSeriesApply\u001b[49m\u001b[43m(\u001b[49m\u001b[38;5;28;43mself\u001b[39;49m\u001b[43m,\u001b[49m\u001b[43m \u001b[49m\u001b[43mfunc\u001b[49m\u001b[43m,\u001b[49m\u001b[43m \u001b[49m\u001b[43mconvert_dtype\u001b[49m\u001b[43m,\u001b[49m\u001b[43m \u001b[49m\u001b[43margs\u001b[49m\u001b[43m,\u001b[49m\u001b[43m \u001b[49m\u001b[43mkwargs\u001b[49m\u001b[43m)\u001b[49m\u001b[38;5;241;43m.\u001b[39;49m\u001b[43mapply\u001b[49m\u001b[43m(\u001b[49m\u001b[43m)\u001b[49m\n",
      "File \u001b[0;32m~/code/10Academy-training/week8/Causal-Inference-Delivery-Logistic-Location-Optimization/.venv/lib/python3.9/site-packages/pandas/core/apply.py:1123\u001b[0m, in \u001b[0;36mSeriesApply.apply\u001b[0;34m(self)\u001b[0m\n\u001b[1;32m   1120\u001b[0m     \u001b[38;5;28;01mreturn\u001b[39;00m \u001b[38;5;28mself\u001b[39m\u001b[38;5;241m.\u001b[39mapply_str()\n\u001b[1;32m   1122\u001b[0m \u001b[38;5;66;03m# self.f is Callable\u001b[39;00m\n\u001b[0;32m-> 1123\u001b[0m \u001b[38;5;28;01mreturn\u001b[39;00m \u001b[38;5;28;43mself\u001b[39;49m\u001b[38;5;241;43m.\u001b[39;49m\u001b[43mapply_standard\u001b[49m\u001b[43m(\u001b[49m\u001b[43m)\u001b[49m\n",
      "File \u001b[0;32m~/code/10Academy-training/week8/Causal-Inference-Delivery-Logistic-Location-Optimization/.venv/lib/python3.9/site-packages/pandas/core/apply.py:1174\u001b[0m, in \u001b[0;36mSeriesApply.apply_standard\u001b[0;34m(self)\u001b[0m\n\u001b[1;32m   1172\u001b[0m     \u001b[38;5;28;01melse\u001b[39;00m:\n\u001b[1;32m   1173\u001b[0m         values \u001b[38;5;241m=\u001b[39m obj\u001b[38;5;241m.\u001b[39mastype(\u001b[38;5;28mobject\u001b[39m)\u001b[38;5;241m.\u001b[39m_values\n\u001b[0;32m-> 1174\u001b[0m         mapped \u001b[38;5;241m=\u001b[39m \u001b[43mlib\u001b[49m\u001b[38;5;241;43m.\u001b[39;49m\u001b[43mmap_infer\u001b[49m\u001b[43m(\u001b[49m\n\u001b[1;32m   1175\u001b[0m \u001b[43m            \u001b[49m\u001b[43mvalues\u001b[49m\u001b[43m,\u001b[49m\n\u001b[1;32m   1176\u001b[0m \u001b[43m            \u001b[49m\u001b[43mf\u001b[49m\u001b[43m,\u001b[49m\n\u001b[1;32m   1177\u001b[0m \u001b[43m            \u001b[49m\u001b[43mconvert\u001b[49m\u001b[38;5;241;43m=\u001b[39;49m\u001b[38;5;28;43mself\u001b[39;49m\u001b[38;5;241;43m.\u001b[39;49m\u001b[43mconvert_dtype\u001b[49m\u001b[43m,\u001b[49m\n\u001b[1;32m   1178\u001b[0m \u001b[43m        \u001b[49m\u001b[43m)\u001b[49m\n\u001b[1;32m   1180\u001b[0m \u001b[38;5;28;01mif\u001b[39;00m \u001b[38;5;28mlen\u001b[39m(mapped) \u001b[38;5;129;01mand\u001b[39;00m \u001b[38;5;28misinstance\u001b[39m(mapped[\u001b[38;5;241m0\u001b[39m], ABCSeries):\n\u001b[1;32m   1181\u001b[0m     \u001b[38;5;66;03m# GH#43986 Need to do list(mapped) in order to get treated as nested\u001b[39;00m\n\u001b[1;32m   1182\u001b[0m     \u001b[38;5;66;03m#  See also GH#25959 regarding EA support\u001b[39;00m\n\u001b[1;32m   1183\u001b[0m     \u001b[38;5;28;01mreturn\u001b[39;00m obj\u001b[38;5;241m.\u001b[39m_constructor_expanddim(\u001b[38;5;28mlist\u001b[39m(mapped), index\u001b[38;5;241m=\u001b[39mobj\u001b[38;5;241m.\u001b[39mindex)\n",
      "File \u001b[0;32m~/code/10Academy-training/week8/Causal-Inference-Delivery-Logistic-Location-Optimization/.venv/lib/python3.9/site-packages/pandas/_libs/lib.pyx:2924\u001b[0m, in \u001b[0;36mpandas._libs.lib.map_infer\u001b[0;34m()\u001b[0m\n",
      "File \u001b[0;32m~/code/10Academy-training/week8/Causal-Inference-Delivery-Logistic-Location-Optimization/src/feature_engineering/holidays_weekends.py:10\u001b[0m, in \u001b[0;36mis_holiday\u001b[0;34m(datetime_obj, country_code)\u001b[0m\n\u001b[1;32m      8\u001b[0m   \u001b[38;5;28;01mreturn\u001b[39;00m \u001b[38;5;241m0\u001b[39m\n\u001b[1;32m      9\u001b[0m country_holidays \u001b[38;5;241m=\u001b[39m holidays\u001b[38;5;241m.\u001b[39mcountry_holidays(country_code)\n\u001b[0;32m---> 10\u001b[0m \u001b[38;5;28;01mreturn\u001b[39;00m \u001b[38;5;241m1\u001b[39m \u001b[38;5;28;01mif\u001b[39;00m \u001b[43mdatetime_obj\u001b[49m\u001b[38;5;241;43m.\u001b[39;49m\u001b[43mdate\u001b[49m\u001b[43m(\u001b[49m\u001b[43m)\u001b[49m\u001b[43m \u001b[49m\u001b[38;5;129;43;01min\u001b[39;49;00m\u001b[43m \u001b[49m\u001b[43mcountry_holidays\u001b[49m \u001b[38;5;28;01melse\u001b[39;00m \u001b[38;5;241m0\u001b[39m\n",
      "File \u001b[0;32m~/code/10Academy-training/week8/Causal-Inference-Delivery-Logistic-Location-Optimization/.venv/lib/python3.9/site-packages/holidays/holiday_base.py:417\u001b[0m, in \u001b[0;36mHolidayBase.__contains__\u001b[0;34m(self, key)\u001b[0m\n\u001b[1;32m    414\u001b[0m \u001b[38;5;28;01mif\u001b[39;00m \u001b[38;5;129;01mnot\u001b[39;00m \u001b[38;5;28misinstance\u001b[39m(key, (date, datetime, \u001b[38;5;28mfloat\u001b[39m, \u001b[38;5;28mint\u001b[39m, \u001b[38;5;28mstr\u001b[39m)):\n\u001b[1;32m    415\u001b[0m     \u001b[38;5;28;01mraise\u001b[39;00m \u001b[38;5;167;01mTypeError\u001b[39;00m(\u001b[38;5;124mf\u001b[39m\u001b[38;5;124m\"\u001b[39m\u001b[38;5;124mCannot convert type \u001b[39m\u001b[38;5;124m'\u001b[39m\u001b[38;5;132;01m{\u001b[39;00m\u001b[38;5;28mtype\u001b[39m(key)\u001b[38;5;132;01m}\u001b[39;00m\u001b[38;5;124m'\u001b[39m\u001b[38;5;124m to date.\u001b[39m\u001b[38;5;124m\"\u001b[39m)\n\u001b[0;32m--> 417\u001b[0m \u001b[38;5;28;01mreturn\u001b[39;00m \u001b[38;5;28mdict\u001b[39m\u001b[38;5;241m.\u001b[39m\u001b[38;5;21m__contains__\u001b[39m(cast(\u001b[38;5;124m\"\u001b[39m\u001b[38;5;124mDict[Any, Any]\u001b[39m\u001b[38;5;124m\"\u001b[39m, \u001b[38;5;28mself\u001b[39m), \u001b[38;5;28;43mself\u001b[39;49m\u001b[38;5;241;43m.\u001b[39;49m\u001b[43m__keytransform__\u001b[49m\u001b[43m(\u001b[49m\u001b[43mkey\u001b[49m\u001b[43m)\u001b[49m)\n",
      "File \u001b[0;32m~/code/10Academy-training/week8/Causal-Inference-Delivery-Logistic-Location-Optimization/.venv/lib/python3.9/site-packages/holidays/holiday_base.py:616\u001b[0m, in \u001b[0;36mHolidayBase.__keytransform__\u001b[0;34m(self, key)\u001b[0m\n\u001b[1;32m    614\u001b[0m \u001b[38;5;28;01mif\u001b[39;00m \u001b[38;5;28mself\u001b[39m\u001b[38;5;241m.\u001b[39mexpand \u001b[38;5;129;01mand\u001b[39;00m dt\u001b[38;5;241m.\u001b[39myear \u001b[38;5;129;01mnot\u001b[39;00m \u001b[38;5;129;01min\u001b[39;00m \u001b[38;5;28mself\u001b[39m\u001b[38;5;241m.\u001b[39myears:\n\u001b[1;32m    615\u001b[0m     \u001b[38;5;28mself\u001b[39m\u001b[38;5;241m.\u001b[39myears\u001b[38;5;241m.\u001b[39madd(dt\u001b[38;5;241m.\u001b[39myear)\n\u001b[0;32m--> 616\u001b[0m     \u001b[38;5;28;43mself\u001b[39;49m\u001b[38;5;241;43m.\u001b[39;49m\u001b[43m_populate\u001b[49m\u001b[43m(\u001b[49m\u001b[43mdt\u001b[49m\u001b[38;5;241;43m.\u001b[39;49m\u001b[43myear\u001b[49m\u001b[43m)\u001b[49m\n\u001b[1;32m    618\u001b[0m \u001b[38;5;28;01mreturn\u001b[39;00m dt\n",
      "File \u001b[0;32m~/code/10Academy-training/week8/Causal-Inference-Delivery-Logistic-Location-Optimization/.venv/lib/python3.9/site-packages/holidays/holiday_base.py:832\u001b[0m, in \u001b[0;36mHolidayBase._populate\u001b[0;34m(self, year)\u001b[0m\n\u001b[1;32m    815\u001b[0m \u001b[38;5;250m\u001b[39m\u001b[38;5;124;03m\"\"\"This is a private class that populates (generates and adds) holidays\u001b[39;00m\n\u001b[1;32m    816\u001b[0m \u001b[38;5;124;03mfor a given year. To keep things fast, it assumes that no holidays for\u001b[39;00m\n\u001b[1;32m    817\u001b[0m \u001b[38;5;124;03mthe year have already been populated. It is required to be called\u001b[39;00m\n\u001b[0;32m   (...)\u001b[0m\n\u001b[1;32m    828\u001b[0m \u001b[38;5;124;03m>>> us_holidays.update(country_holidays('US', years=2021))\u001b[39;00m\n\u001b[1;32m    829\u001b[0m \u001b[38;5;124;03m\"\"\"\u001b[39;00m\n\u001b[1;32m    831\u001b[0m \u001b[38;5;28mself\u001b[39m\u001b[38;5;241m.\u001b[39m_year \u001b[38;5;241m=\u001b[39m year\n\u001b[0;32m--> 832\u001b[0m \u001b[38;5;28;43mself\u001b[39;49m\u001b[38;5;241;43m.\u001b[39;49m\u001b[43m_populate_common_holidays\u001b[49m\u001b[43m(\u001b[49m\u001b[43m)\u001b[49m\n\u001b[1;32m    833\u001b[0m \u001b[38;5;28mself\u001b[39m\u001b[38;5;241m.\u001b[39m_populate_subdiv_holidays()\n",
      "File \u001b[0;32m~/code/10Academy-training/week8/Causal-Inference-Delivery-Logistic-Location-Optimization/.venv/lib/python3.9/site-packages/holidays/observed_holiday_base.py:212\u001b[0m, in \u001b[0;36mObservedHolidayBase._populate_common_holidays\u001b[0;34m(self)\u001b[0m\n\u001b[1;32m    210\u001b[0m \u001b[38;5;28;01mdef\u001b[39;00m \u001b[38;5;21m_populate_common_holidays\u001b[39m(\u001b[38;5;28mself\u001b[39m):\n\u001b[1;32m    211\u001b[0m \u001b[38;5;250m    \u001b[39m\u001b[38;5;124;03m\"\"\"Populate entity common holidays.\"\"\"\u001b[39;00m\n\u001b[0;32m--> 212\u001b[0m     \u001b[38;5;28;43msuper\u001b[39;49m\u001b[43m(\u001b[49m\u001b[43m)\u001b[49m\u001b[38;5;241;43m.\u001b[39;49m\u001b[43m_populate_common_holidays\u001b[49m\u001b[43m(\u001b[49m\u001b[43m)\u001b[49m\n\u001b[1;32m    214\u001b[0m     \u001b[38;5;28;01mif\u001b[39;00m \u001b[38;5;129;01mnot\u001b[39;00m \u001b[38;5;28mself\u001b[39m\u001b[38;5;241m.\u001b[39mobserved \u001b[38;5;129;01mor\u001b[39;00m \u001b[38;5;129;01mnot\u001b[39;00m \u001b[38;5;28mself\u001b[39m\u001b[38;5;241m.\u001b[39mhas_special_holidays:\n\u001b[1;32m    215\u001b[0m         \u001b[38;5;28;01mreturn\u001b[39;00m \u001b[38;5;28;01mNone\u001b[39;00m\n",
      "File \u001b[0;32m~/code/10Academy-training/week8/Causal-Inference-Delivery-Logistic-Location-Optimization/.venv/lib/python3.9/site-packages/holidays/holiday_base.py:839\u001b[0m, in \u001b[0;36mHolidayBase._populate_common_holidays\u001b[0;34m(self)\u001b[0m\n\u001b[1;32m    837\u001b[0m \u001b[38;5;28;01mfor\u001b[39;00m category \u001b[38;5;129;01min\u001b[39;00m \u001b[38;5;28mself\u001b[39m\u001b[38;5;241m.\u001b[39m_sorted_categories:\n\u001b[1;32m    838\u001b[0m     \u001b[38;5;28;01mif\u001b[39;00m pch_method \u001b[38;5;241m:=\u001b[39m \u001b[38;5;28mgetattr\u001b[39m(\u001b[38;5;28mself\u001b[39m, \u001b[38;5;124mf\u001b[39m\u001b[38;5;124m\"\u001b[39m\u001b[38;5;124m_populate_\u001b[39m\u001b[38;5;132;01m{\u001b[39;00mcategory\u001b[38;5;241m.\u001b[39mlower()\u001b[38;5;132;01m}\u001b[39;00m\u001b[38;5;124m_holidays\u001b[39m\u001b[38;5;124m\"\u001b[39m, \u001b[38;5;28;01mNone\u001b[39;00m):\n\u001b[0;32m--> 839\u001b[0m         \u001b[43mpch_method\u001b[49m\u001b[43m(\u001b[49m\u001b[43m)\u001b[49m\n\u001b[1;32m    841\u001b[0m \u001b[38;5;28;01mif\u001b[39;00m \u001b[38;5;28mself\u001b[39m\u001b[38;5;241m.\u001b[39mhas_special_holidays:\n\u001b[1;32m    842\u001b[0m     \u001b[38;5;28mself\u001b[39m\u001b[38;5;241m.\u001b[39m_add_special_holidays(\n\u001b[1;32m    843\u001b[0m         \u001b[38;5;124mf\u001b[39m\u001b[38;5;124m\"\u001b[39m\u001b[38;5;124mspecial_\u001b[39m\u001b[38;5;132;01m{\u001b[39;00mcategory\u001b[38;5;132;01m}\u001b[39;00m\u001b[38;5;124m_holidays\u001b[39m\u001b[38;5;124m\"\u001b[39m \u001b[38;5;28;01mfor\u001b[39;00m category \u001b[38;5;129;01min\u001b[39;00m \u001b[38;5;28mself\u001b[39m\u001b[38;5;241m.\u001b[39m_sorted_categories\n\u001b[1;32m    844\u001b[0m     )\n",
      "File \u001b[0;32m~/code/10Academy-training/week8/Causal-Inference-Delivery-Logistic-Location-Optimization/.venv/lib/python3.9/site-packages/holidays/countries/nigeria.py:88\u001b[0m, in \u001b[0;36mNigeria._populate_public_holidays\u001b[0;34m(self)\u001b[0m\n\u001b[1;32m     85\u001b[0m dts_observed\u001b[38;5;241m.\u001b[39mupdate(\u001b[38;5;28mself\u001b[39m\u001b[38;5;241m.\u001b[39m_add_mawlid_day(\u001b[38;5;124m\"\u001b[39m\u001b[38;5;124mEid-el-Mawlid\u001b[39m\u001b[38;5;124m\"\u001b[39m))\n\u001b[1;32m     87\u001b[0m \u001b[38;5;28;01mif\u001b[39;00m \u001b[38;5;28mself\u001b[39m\u001b[38;5;241m.\u001b[39mobserved:\n\u001b[0;32m---> 88\u001b[0m     \u001b[38;5;28;43mself\u001b[39;49m\u001b[38;5;241;43m.\u001b[39;49m\u001b[43m_populate_observed\u001b[49m\u001b[43m(\u001b[49m\u001b[43mdts_observed\u001b[49m\u001b[43m)\u001b[49m\n",
      "File \u001b[0;32m~/code/10Academy-training/week8/Causal-Inference-Delivery-Logistic-Location-Optimization/.venv/lib/python3.9/site-packages/holidays/observed_holiday_base.py:201\u001b[0m, in \u001b[0;36mObservedHolidayBase._populate_observed\u001b[0;34m(self, dts, multiple)\u001b[0m\n\u001b[1;32m    197\u001b[0m \u001b[38;5;28;01mdef\u001b[39;00m \u001b[38;5;21m_populate_observed\u001b[39m(\u001b[38;5;28mself\u001b[39m, dts: Set[date], multiple: \u001b[38;5;28mbool\u001b[39m \u001b[38;5;241m=\u001b[39m \u001b[38;5;28;01mFalse\u001b[39;00m) \u001b[38;5;241m-\u001b[39m\u001b[38;5;241m>\u001b[39m \u001b[38;5;28;01mNone\u001b[39;00m:\n\u001b[1;32m    198\u001b[0m \u001b[38;5;250m    \u001b[39m\u001b[38;5;124;03m\"\"\"\u001b[39;00m\n\u001b[1;32m    199\u001b[0m \u001b[38;5;124;03m    When multiple is True, each holiday from a given date has its own observed date.\u001b[39;00m\n\u001b[1;32m    200\u001b[0m \u001b[38;5;124;03m    \"\"\"\u001b[39;00m\n\u001b[0;32m--> 201\u001b[0m     \u001b[38;5;28;01mfor\u001b[39;00m dt \u001b[38;5;129;01min\u001b[39;00m \u001b[38;5;28;43msorted\u001b[39;49m\u001b[43m(\u001b[49m\u001b[43mdts\u001b[49m\u001b[43m)\u001b[49m:\n\u001b[1;32m    202\u001b[0m         \u001b[38;5;28;01mif\u001b[39;00m \u001b[38;5;129;01mnot\u001b[39;00m \u001b[38;5;28mself\u001b[39m\u001b[38;5;241m.\u001b[39m_is_observed(dt):\n\u001b[1;32m    203\u001b[0m             \u001b[38;5;28;01mcontinue\u001b[39;00m\n",
      "\u001b[0;31mKeyboardInterrupt\u001b[0m: "
     ]
    }
   ],
   "source": [
    "preprocessed_df = preprocessor.preprocess_and_save('processed_data.csv')"
   ]
  },
  {
   "cell_type": "code",
   "execution_count": null,
   "metadata": {},
   "outputs": [
    {
     "name": "stdout",
     "output_type": "stream",
     "text": [
      "| order_id   | trip_origin         | trip_destination    | trip_start_time     | trip_end_time       | id   | driver_id   | driver_action   | drivers_lat   | drivers_lon   | day_of_week   | hour_of_day   | day_of_month   | month   | trip_start_date   | trip_end_date   | trip_duration   | trip_origin_latitude   | trip_origin_longitude   | trip_destination_latitude   | trip_destination_longitude   | trip_duration_zscore   | is_holiday   |\n",
      "|:-----------|:--------------------|:--------------------|:--------------------|:--------------------|:-----|:------------|:----------------|:--------------|:--------------|:--------------|:--------------|:---------------|:--------|:------------------|:----------------|:----------------|:-----------------------|:------------------------|:----------------------------|:-----------------------------|:-----------------------|:-------------|\n",
      "| 392001     | 6.6010417,3.2766339 | 6.4501069,3.3916154 | 2021-07-01 09:30:59 | 2021-07-01 09:34:36 | 1    | 243828      | accepted        | 6.60221       | 3.27046       | Thursday      | 9             | 1              | July    | 2021-07-01        | 2021-07-01      | 217             | 6.60104                | 3.27663                 | 6.45011                     | 3.39162                      | 0.305021               | 0            |\n",
      "| 392001     | 6.6010417,3.2766339 | 6.4501069,3.3916154 | 2021-07-01 09:30:59 | 2021-07-01 09:34:36 | 2    | 243588      | rejected        | 6.5921        | 3.28744       | Thursday      | 9             | 1              | July    | 2021-07-01        | 2021-07-01      | 217             | 6.60104                | 3.27663                 | 6.45011                     | 3.39162                      | 0.305021               | 0            |\n",
      "| 392001     | 6.6010417,3.2766339 | 6.4501069,3.3916154 | 2021-07-01 09:30:59 | 2021-07-01 09:34:36 | 3    | 243830      | rejected        | 6.59613       | 3.28178       | Thursday      | 9             | 1              | July    | 2021-07-01        | 2021-07-01      | 217             | 6.60104                | 3.27663                 | 6.45011                     | 3.39162                      | 0.305021               | 0            |\n",
      "| 392001     | 6.6010417,3.2766339 | 6.4501069,3.3916154 | 2021-07-01 09:30:59 | 2021-07-01 09:34:36 | 4    | 243539      | rejected        | 6.59614       | 3.28053       | Thursday      | 9             | 1              | July    | 2021-07-01        | 2021-07-01      | 217             | 6.60104                | 3.27663                 | 6.45011                     | 3.39162                      | 0.305021               | 0            |\n",
      "| 392001     | 6.6010417,3.2766339 | 6.4501069,3.3916154 | 2021-07-01 09:30:59 | 2021-07-01 09:34:36 | 5    | 171653      | rejected        | 6.60923       | 3.2888        | Thursday      | 9             | 1              | July    | 2021-07-01        | 2021-07-01      | 217             | 6.60104                | 3.27663                 | 6.45011                     | 3.39162                      | 0.305021               | 0            |\n"
     ]
    }
   ],
   "source": [
    "display_df(preprocessed_df)\n",
    "df = preprocessed_df"
   ]
  },
  {
   "cell_type": "code",
   "execution_count": 10,
   "metadata": {},
   "outputs": [],
   "source": [
    "df = completed_orders"
   ]
  },
  {
   "cell_type": "code",
   "execution_count": 11,
   "metadata": {},
   "outputs": [
    {
     "name": "stdout",
     "output_type": "stream",
     "text": [
      "| Trip ID   | Trip Origin                        | Trip Destination                | Trip Start Time     | Trip End Time       |\n",
      "|:----------|:-----------------------------------|:--------------------------------|:--------------------|:--------------------|\n",
      "| 391996    | 6.508813001668548,3.37740316890347 | 6.650969799999999,3.3450307     | 2021-07-01 07:28:04 | 2021-07-01 07:29:37 |\n",
      "| 391997    | 6.4316714,3.4555375                | 6.4280814653326,3.4721885847586 | 2021-07-01 06:38:04 | 2021-07-01 07:07:28 |\n",
      "| 391998    | 6.631679399999999,3.3388976        | 6.508324099999999,3.3590397     | 2021-07-01 06:21:02 | 2021-07-01 07:02:23 |\n",
      "| 391999    | 6.572757200000001,3.3677082        | 6.584881099999999,3.3614073     | 2021-07-01 07:16:07 | 2021-07-01 07:29:42 |\n",
      "| 392001    | 6.6010417,3.2766339                | 6.4501069,3.3916154             | 2021-07-01 09:30:59 | 2021-07-01 09:34:36 |\n"
     ]
    }
   ],
   "source": [
    "display_df(df)"
   ]
  },
  {
   "cell_type": "code",
   "execution_count": 16,
   "metadata": {},
   "outputs": [],
   "source": [
    "# Impute 'Trip Start Time' with median\n",
    "df['Trip Start Time'] = pd.to_datetime(df['Trip Start Time'])\n",
    "median_start_time = df['Trip Start Time'].median()\n",
    "df['Trip Start Time'].fillna(median_start_time, inplace=True)"
   ]
  },
  {
   "cell_type": "code",
   "execution_count": null,
   "metadata": {},
   "outputs": [],
   "source": [
    "# "
   ]
  },
  {
   "cell_type": "code",
   "execution_count": 18,
   "metadata": {},
   "outputs": [],
   "source": [
    "from datetime import datetime\n",
    "import holidays\n",
    "\n",
    "def is_holiday_from_start_time(datetime_obj, country_code='NG'):\n",
    "    try:\n",
    "        # Check if the input is a pandas NaT (Not a Time) or None\n",
    "        if pd.isnull(datetime_obj):\n",
    "            print(f\"Invalid datetime: {datetime_obj}\")\n",
    "            return 0\n",
    "        # Assuming datetime_obj is already a datetime object, no need to parse it\n",
    "        dt = datetime_obj.date()\n",
    "        country_holidays = holidays.country_holidays(country_code)\n",
    "        return 1 if dt in country_holidays else 0\n",
    "    except Exception as e:\n",
    "        print(f\"Unexpected error: {e} for datetime_obj: {datetime_obj}\")\n",
    "        return 0\n",
    "\n",
    "# Example usage (assuming df is the DataFrame and it's already converted to datetime format)\n",
    "df['is_holiday'] = df['Trip Start Time'].apply(lambda x: is_holiday_from_start_time(x))"
   ]
  },
  {
   "cell_type": "code",
   "execution_count": 19,
   "metadata": {},
   "outputs": [
    {
     "data": {
      "text/plain": [
       "0    519803\n",
       "1     16217\n",
       "Name: is_holiday, dtype: int64"
      ]
     },
     "execution_count": 19,
     "metadata": {},
     "output_type": "execute_result"
    }
   ],
   "source": [
    "df['is_holiday'].value_counts()"
   ]
  },
  {
   "cell_type": "code",
   "execution_count": 8,
   "metadata": {},
   "outputs": [
    {
     "name": "stdout",
     "output_type": "stream",
     "text": [
      "| Trip ID   | Trip Origin                        | Trip Destination                | Trip Start Time     | Trip End Time       |\n",
      "|:----------|:-----------------------------------|:--------------------------------|:--------------------|:--------------------|\n",
      "| 391996    | 6.508813001668548,3.37740316890347 | 6.650969799999999,3.3450307     | 2021-07-01 07:28:04 | 2021-07-01 07:29:37 |\n",
      "| 391997    | 6.4316714,3.4555375                | 6.4280814653326,3.4721885847586 | 2021-07-01 06:38:04 | 2021-07-01 07:07:28 |\n",
      "| 391998    | 6.631679399999999,3.3388976        | 6.508324099999999,3.3590397     | 2021-07-01 06:21:02 | 2021-07-01 07:02:23 |\n",
      "| 391999    | 6.572757200000001,3.3677082        | 6.584881099999999,3.3614073     | 2021-07-01 07:16:07 | 2021-07-01 07:29:42 |\n",
      "| 392001    | 6.6010417,3.2766339                | 6.4501069,3.3916154             | 2021-07-01 09:30:59 | 2021-07-01 09:34:36 |\n"
     ]
    }
   ],
   "source": [
    "display_df(completed_orders)"
   ]
  },
  {
   "cell_type": "code",
   "execution_count": 11,
   "metadata": {},
   "outputs": [
    {
     "name": "stdout",
     "output_type": "stream",
     "text": [
      "   Trip ID  Trip Duration (seconds)\n",
      "0   391996                     93.0\n",
      "1   391997                   1764.0\n",
      "2   391998                   2481.0\n",
      "3   391999                    815.0\n",
      "4   392001                    217.0\n"
     ]
    }
   ],
   "source": [
    "import pandas as pd\n",
    "from datetime import datetime\n",
    "\n",
    "# Define your function to calculate trip duration in seconds\n",
    "def calculate_trip_duration_in_seconds(start_time_str, end_time_str, time_format='%Y-%m-%d %H:%M:%S'):\n",
    "  start_time = datetime.strptime(start_time_str, time_format)\n",
    "  end_time = datetime.strptime(end_time_str, time_format)\n",
    "  duration = end_time - start_time\n",
    "  return duration.total_seconds()\n",
    "\n",
    "# Calculate trip duration for each row\n",
    "df['Trip Duration (seconds)'] = df.apply(lambda row: calculate_trip_duration_in_seconds(row['Trip Start Time'], row['Trip End Time']), axis=1)\n",
    "\n",
    "print(df[['Trip ID', 'Trip Duration (seconds)']])"
   ]
  },
  {
   "cell_type": "code",
   "execution_count": 14,
   "metadata": {},
   "outputs": [
    {
     "data": {
      "text/plain": [
       "order_id                      0\n",
       "trip_origin                   0\n",
       "trip_destination              0\n",
       "trip_start_time               0\n",
       "trip_end_time                 0\n",
       "id                            0\n",
       "driver_id                     0\n",
       "driver_action                 0\n",
       "drivers_lat                   0\n",
       "drivers_lon                   0\n",
       "day_of_week                   0\n",
       "hour_of_day                   0\n",
       "day_of_month                  0\n",
       "month                         0\n",
       "trip_start_date               0\n",
       "trip_end_date                 0\n",
       "trip_duration                 0\n",
       "trip_origin_latitude          0\n",
       "trip_origin_longitude         0\n",
       "trip_destination_latitude     0\n",
       "trip_destination_longitude    0\n",
       "dtype: int64"
      ]
     },
     "execution_count": 14,
     "metadata": {},
     "output_type": "execute_result"
    }
   ],
   "source": [
    "# Check for missing values\n",
    "preprocessed_df.isnull().sum()"
   ]
  },
  {
   "cell_type": "markdown",
   "metadata": {},
   "source": [
    "#### Check for outliers"
   ]
  },
  {
   "cell_type": "code",
   "execution_count": 15,
   "metadata": {},
   "outputs": [],
   "source": [
    "# import matplotlib.pyplot as plt\n",
    "\n",
    "# # Assuming 'data' is a Pandas Series or a list of values\n",
    "# plt.boxplot(df)\n",
    "# plt.title('Boxplot of Data')\n",
    "# plt.ylabel('Values')\n",
    "# # Customize the x-axis label as needed\n",
    "# plt.xlabel('Data Category')\n",
    "# plt.show()"
   ]
  },
  {
   "cell_type": "code",
   "execution_count": 16,
   "metadata": {},
   "outputs": [
    {
     "data": {
      "image/png": "[encoded data removed]",
      "text/plain": [
       "<Figure size 640x480 with 1 Axes>"
      ]
     },
     "metadata": {},
     "output_type": "display_data"
    },
    {
     "name": "stdout",
     "output_type": "stream",
     "text": [
      "Outliers using Z-score: [  51887   51888   51889 ... 1557144 1557145 1557146]\n",
      "Outliers using IQR method:\n",
      "         order_id                  trip_origin             trip_destination  \\\n",
      "226       392021          6.5943334,3.3007843  6.429098199999999,3.4238032   \n",
      "227       392021          6.5943334,3.3007843  6.429098199999999,3.4238032   \n",
      "228       392021          6.5943334,3.3007843  6.429098199999999,3.4238032   \n",
      "229       392021          6.5943334,3.3007843  6.429098199999999,3.4238032   \n",
      "230       392021          6.5943334,3.3007843  6.429098199999999,3.4238032   \n",
      "...          ...                          ...                          ...   \n",
      "1557226   448558  6.521553600000001,3.3150125          6.4986693,3.3454519   \n",
      "1557227   448558  6.521553600000001,3.3150125          6.4986693,3.3454519   \n",
      "1557228   448558  6.521553600000001,3.3150125          6.4986693,3.3454519   \n",
      "1557229   448558  6.521553600000001,3.3150125          6.4986693,3.3454519   \n",
      "1557230   448558  6.521553600000001,3.3150125          6.4986693,3.3454519   \n",
      "\n",
      "            trip_start_time       trip_end_time         id  driver_id  \\\n",
      "226     2021-07-01 07:11:36 2021-07-01 10:01:46      223.0   244232.0   \n",
      "227     2021-07-01 07:11:36 2021-07-01 10:01:46      224.0   245662.0   \n",
      "228     2021-07-01 07:11:36 2021-07-01 10:01:46      225.0   224581.0   \n",
      "229     2021-07-01 07:11:36 2021-07-01 10:01:46      226.0   243538.0   \n",
      "230     2021-07-01 07:11:36 2021-07-01 10:01:46      227.0   244232.0   \n",
      "...                     ...                 ...        ...        ...   \n",
      "1557226 2021-07-09 21:01:02 2021-07-10 12:29:51  1557143.0   243225.0   \n",
      "1557227 2021-07-09 21:01:02 2021-07-10 12:29:51  1557144.0   243612.0   \n",
      "1557228 2021-07-09 21:01:02 2021-07-10 12:29:51  1557145.0   243799.0   \n",
      "1557229 2021-07-09 21:01:02 2021-07-10 12:29:51  1557146.0   243126.0   \n",
      "1557230 2021-07-09 21:01:02 2021-07-10 12:29:51  1557147.0   244031.0   \n",
      "\n",
      "        driver_action  drivers_lat  drivers_lon  ... hour_of_day  \\\n",
      "226          accepted     6.595759     3.288074  ...           7   \n",
      "227          rejected     6.605025     3.294141  ...           7   \n",
      "228          rejected     6.604060     3.308617  ...           7   \n",
      "229          rejected     6.596279     3.292759  ...           7   \n",
      "230          rejected     6.595426     3.288074  ...           7   \n",
      "...               ...          ...          ...  ...         ...   \n",
      "1557226      rejected     6.541860     3.329198  ...          21   \n",
      "1557227      rejected     6.518512     3.335271  ...          21   \n",
      "1557228      rejected     6.539864     3.322718  ...          21   \n",
      "1557229      rejected     6.517497     3.337790  ...          21   \n",
      "1557230      rejected     6.531667     3.339752  ...          21   \n",
      "\n",
      "         day_of_month  month trip_start_date trip_end_date trip_duration  \\\n",
      "226                 1   July      2021-07-01    2021-07-01       10210.0   \n",
      "227                 1   July      2021-07-01    2021-07-01       10210.0   \n",
      "228                 1   July      2021-07-01    2021-07-01       10210.0   \n",
      "229                 1   July      2021-07-01    2021-07-01       10210.0   \n",
      "230                 1   July      2021-07-01    2021-07-01       10210.0   \n",
      "...               ...    ...             ...           ...           ...   \n",
      "1557226             9   July      2021-07-09    2021-07-10       55729.0   \n",
      "1557227             9   July      2021-07-09    2021-07-10       55729.0   \n",
      "1557228             9   July      2021-07-09    2021-07-10       55729.0   \n",
      "1557229             9   July      2021-07-09    2021-07-10       55729.0   \n",
      "1557230             9   July      2021-07-09    2021-07-10       55729.0   \n",
      "\n",
      "         trip_origin_latitude  trip_origin_longitude  \\\n",
      "226                  6.594333               3.300784   \n",
      "227                  6.594333               3.300784   \n",
      "228                  6.594333               3.300784   \n",
      "229                  6.594333               3.300784   \n",
      "230                  6.594333               3.300784   \n",
      "...                       ...                    ...   \n",
      "1557226              6.521554               3.315012   \n",
      "1557227              6.521554               3.315012   \n",
      "1557228              6.521554               3.315012   \n",
      "1557229              6.521554               3.315012   \n",
      "1557230              6.521554               3.315012   \n",
      "\n",
      "         trip_destination_latitude  trip_destination_longitude  \n",
      "226                       6.429098                    3.423803  \n",
      "227                       6.429098                    3.423803  \n",
      "228                       6.429098                    3.423803  \n",
      "229                       6.429098                    3.423803  \n",
      "230                       6.429098                    3.423803  \n",
      "...                            ...                         ...  \n",
      "1557226                   6.498669                    3.345452  \n",
      "1557227                   6.498669                    3.345452  \n",
      "1557228                   6.498669                    3.345452  \n",
      "1557229                   6.498669                    3.345452  \n",
      "1557230                   6.498669                    3.345452  \n",
      "\n",
      "[85349 rows x 21 columns]\n"
     ]
    }
   ],
   "source": [
    "import pandas as pd\n",
    "import numpy as np\n",
    "import seaborn as sns\n",
    "import matplotlib.pyplot as plt\n",
    "from scipy import stats\n",
    "\n",
    "# Assuming 'preprocessed_df' is your DataFrame and 'column' is the column you want to check for outliers\n",
    "\n",
    "# Visual Inspection\n",
    "# Box Plot\n",
    "sns.boxplot(x=preprocessed_df['trip_duration'])\n",
    "plt.show()\n",
    "\n",
    "# Statistical Methods\n",
    "# Z-score\n",
    "z_scores = np.abs(stats.zscore(preprocessed_df['trip_duration']))\n",
    "outliers_z = np.where(z_scores > 3)\n",
    "\n",
    "# IQR\n",
    "Q1 = preprocessed_df['trip_duration'].quantile(0.25)\n",
    "Q3 = preprocessed_df['trip_duration'].quantile(0.75)\n",
    "IQR = Q3 - Q1\n",
    "outliers_iqr = preprocessed_df[(preprocessed_df['trip_duration'] < (Q1 - 1.5 * IQR)) | (preprocessed_df['trip_duration'] > (Q3 + 1.5 * IQR))]\n",
    "\n",
    "# Print outlier indices\n",
    "print(\"Outliers using Z-score:\", outliers_z[0])\n",
    "print(\"Outliers using IQR method:\\n\", outliers_iqr)"
   ]
  },
  {
   "cell_type": "code",
   "execution_count": 17,
   "metadata": {},
   "outputs": [
    {
     "name": "stdout",
     "output_type": "stream",
     "text": [
      "1721.0\n",
      "3931.0\n"
     ]
    }
   ],
   "source": [
    "print(Q1)\n",
    "print(Q3)"
   ]
  },
  {
   "cell_type": "code",
   "execution_count": 18,
   "metadata": {},
   "outputs": [
    {
     "name": "stdout",
     "output_type": "stream",
     "text": [
      "| order_id   | trip_origin                     | trip_destination    | trip_start_time     | trip_end_time       | id    | driver_id   | driver_action   | drivers_lat   | drivers_lon   | day_of_week   | hour_of_day   | day_of_month   | month   | trip_start_date   | trip_end_date   | trip_duration   | trip_origin_latitude   | trip_origin_longitude   | trip_destination_latitude   | trip_destination_longitude   | trip_duration_zscore   |\n",
      "|:-----------|:--------------------------------|:--------------------|:--------------------|:--------------------|:------|:------------|:----------------|:--------------|:--------------|:--------------|:--------------|:---------------|:--------|:------------------|:----------------|:----------------|:-----------------------|:------------------------|:----------------------------|:-----------------------------|:-----------------------|\n",
      "| 394447     | 6.4371758130759,3.5097476821616 | 6.4430658,3.5380258 | 2021-07-06 10:27:06 | 2021-07-01 13:05:02 | 51888 | 243773      | accepted        | 6.43591       | 3.49311       | Tuesday       | 10            | 6              | July    | 2021-07-06        | 2021-07-01      | -422524         | 6.43718                | 3.50975                 | 6.44307                     | 3.53803                      | 37.9958                |\n",
      "| 394447     | 6.4371758130759,3.5097476821616 | 6.4430658,3.5380258 | 2021-07-06 10:27:06 | 2021-07-01 13:05:02 | 51889 | 243863      | rejected        | 6.43473       | 3.50006       | Tuesday       | 10            | 6              | July    | 2021-07-06        | 2021-07-01      | -422524         | 6.43718                | 3.50975                 | 6.44307                     | 3.53803                      | 37.9958                |\n",
      "| 394447     | 6.4371758130759,3.5097476821616 | 6.4430658,3.5380258 | 2021-07-06 10:27:06 | 2021-07-01 13:05:02 | 51890 | 244109      | rejected        | 6.4332        | 3.50325       | Tuesday       | 10            | 6              | July    | 2021-07-06        | 2021-07-01      | -422524         | 6.43718                | 3.50975                 | 6.44307                     | 3.53803                      | 37.9958                |\n",
      "| 394447     | 6.4371758130759,3.5097476821616 | 6.4430658,3.5380258 | 2021-07-06 10:27:06 | 2021-07-01 13:05:02 | 51891 | 243966      | rejected        | 6.43079       | 3.50268       | Tuesday       | 10            | 6              | July    | 2021-07-06        | 2021-07-01      | -422524         | 6.43718                | 3.50975                 | 6.44307                     | 3.53803                      | 37.9958                |\n",
      "| 394447     | 6.4371758130759,3.5097476821616 | 6.4430658,3.5380258 | 2021-07-06 10:27:06 | 2021-07-01 13:05:02 | 51892 | 243827      | rejected        | 6.43702       | 3.50862       | Tuesday       | 10            | 6              | July    | 2021-07-06        | 2021-07-01      | -422524         | 6.43718                | 3.50975                 | 6.44307                     | 3.53803                      | 37.9958                |\n"
     ]
    }
   ],
   "source": [
    "import numpy as np\n",
    "\n",
    "# 1. Calculate z-scores\n",
    "df['trip_duration_zscore'] = np.abs((df['trip_duration'] - df['trip_duration'].mean()) / df['trip_duration'].std())\n",
    "\n",
    "# 2. Identify outliers using a z-score threshold\n",
    "zscore_threshold = 3\n",
    "outliers = df[df['trip_duration_zscore'] > zscore_threshold]\n",
    "print(outliers.head().to_markdown(index=False, numalign=\"left\", stralign=\"left\"))\n",
    "\n",
    "# 3. Optionally, filter out the outliers to create a new DataFrame\n",
    "filtered_df = df[df['trip_duration_zscore'] <= zscore_threshold].copy()\n"
   ]
  },
  {
   "cell_type": "code",
   "execution_count": 19,
   "metadata": {},
   "outputs": [
    {
     "data": {
      "text/plain": [
       "15762"
      ]
     },
     "execution_count": 19,
     "metadata": {},
     "output_type": "execute_result"
    }
   ],
   "source": [
    "len(outliers)"
   ]
  },
  {
   "cell_type": "code",
   "execution_count": 20,
   "metadata": {},
   "outputs": [
    {
     "name": "stdout",
     "output_type": "stream",
     "text": [
      "<class 'pandas.core.frame.DataFrame'>\n",
      "Int64Index: 1557740 entries, 4 to 1585113\n",
      "Data columns (total 22 columns):\n",
      " #   Column                      Non-Null Count    Dtype         \n",
      "---  ------                      --------------    -----         \n",
      " 0   order_id                    1557740 non-null  object        \n",
      " 1   trip_origin                 1557740 non-null  object        \n",
      " 2   trip_destination            1557740 non-null  object        \n",
      " 3   trip_start_time             1557740 non-null  datetime64[ns]\n",
      " 4   trip_end_time               1557740 non-null  datetime64[ns]\n",
      " 5   id                          1557740 non-null  float64       \n",
      " 6   driver_id                   1557740 non-null  float64       \n",
      " 7   driver_action               1557740 non-null  object        \n",
      " 8   drivers_lat                 1557740 non-null  float64       \n",
      " 9   drivers_lon                 1557740 non-null  float64       \n",
      " 10  day_of_week                 1557740 non-null  object        \n",
      " 11  hour_of_day                 1557740 non-null  int64         \n",
      " 12  day_of_month                1557740 non-null  int64         \n",
      " 13  month                       1557740 non-null  object        \n",
      " 14  trip_start_date             1557740 non-null  object        \n",
      " 15  trip_end_date               1557740 non-null  object        \n",
      " 16  trip_duration               1557740 non-null  float64       \n",
      " 17  trip_origin_latitude        1557740 non-null  float64       \n",
      " 18  trip_origin_longitude       1557740 non-null  float64       \n",
      " 19  trip_destination_latitude   1557740 non-null  float64       \n",
      " 20  trip_destination_longitude  1557740 non-null  float64       \n",
      " 21  trip_duration_zscore        1557740 non-null  float64       \n",
      "dtypes: datetime64[ns](2), float64(10), int64(2), object(8)\n",
      "memory usage: 273.3+ MB\n"
     ]
    }
   ],
   "source": [
    "preprocessed_df.info()"
   ]
  }
 ],
 "metadata": {
  "kernelspec": {
   "display_name": ".venv",
   "language": "python",
   "name": "python3"
  },
  "language_info": {
   "codemirror_mode": {
    "name": "ipython",
    "version": 3
   },
   "file_extension": ".py",
   "mimetype": "text/x-python",
   "name": "python",
   "nbconvert_exporter": "python",
   "pygments_lexer": "ipython3",
   "version": "3.9.19"
  }
 },
 "nbformat": 4,
 "nbformat_minor": 2
}
