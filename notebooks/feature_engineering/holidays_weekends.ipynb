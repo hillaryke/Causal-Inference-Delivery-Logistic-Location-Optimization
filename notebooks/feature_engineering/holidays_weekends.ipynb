{
 "cells": [
  {
   "cell_type": "code",
   "execution_count": 1,
   "metadata": {},
   "outputs": [],
   "source": [
    "import pandas as pd\n",
    "import os\n",
    "import requests\n",
    "from datetime import datetime\n",
    "\n",
    "os.chdir(\"../../\")\n",
    "\n",
    "from src import display_df"
   ]
  },
  {
   "cell_type": "code",
   "execution_count": 2,
   "metadata": {},
   "outputs": [],
   "source": [
    "from datetime import date\n",
    "import holidays"
   ]
  },
  {
   "cell_type": "code",
   "execution_count": 3,
   "metadata": {},
   "outputs": [],
   "source": [
    "df = pd.read_csv('data/clean/processed_data.csv')"
   ]
  },
  {
   "cell_type": "code",
   "execution_count": 4,
   "metadata": {},
   "outputs": [],
   "source": [
    "# df = df.head(20000)\n",
    "# # save to cvs\n",
    "# df.to_csv('data/clean/processed_data_sample.csv', index=False)"
   ]
  },
  {
   "cell_type": "markdown",
   "metadata": {},
   "source": [
    "#### Using holidays library"
   ]
  },
  {
   "cell_type": "code",
   "execution_count": 5,
   "metadata": {},
   "outputs": [],
   "source": [
    "ng_holidays = holidays.Nigeria(years=pd.to_datetime(df['trip_start_date']).dt.year.unique())"
   ]
  },
  {
   "cell_type": "code",
   "execution_count": 6,
   "metadata": {},
   "outputs": [
    {
     "data": {
      "text/plain": [
       "{datetime.date(2021, 1, 1): \"New Year's Day\", datetime.date(2021, 4, 2): 'Good Friday', datetime.date(2021, 4, 5): 'Easter Monday', datetime.date(2021, 5, 1): \"Workers' Day\", datetime.date(2021, 6, 12): 'Democracy Day', datetime.date(2021, 10, 1): 'Independence Day', datetime.date(2021, 12, 25): 'Christmas Day', datetime.date(2021, 12, 26): 'Boxing Day', datetime.date(2021, 5, 13): 'Eid-el-Fitr (estimated)', datetime.date(2021, 5, 14): 'Eid-el-Fitr Holiday (estimated)', datetime.date(2021, 7, 20): 'Eid-el-Kabir (estimated)', datetime.date(2021, 7, 21): 'Eid-el-Kabir Holiday (estimated)', datetime.date(2021, 10, 18): 'Eid-el-Mawlid (estimated)', datetime.date(2021, 5, 3): \"Workers' Day (observed)\", datetime.date(2021, 6, 14): 'Democracy Day (observed)', datetime.date(2021, 12, 27): 'Christmas Day (observed)', datetime.date(2021, 12, 28): 'Boxing Day (observed)', datetime.date(2022, 1, 1): \"New Year's Day\", datetime.date(2022, 4, 15): 'Good Friday', datetime.date(2022, 4, 18): 'Easter Monday', datetime.date(2022, 5, 1): \"Workers' Day\", datetime.date(2022, 6, 12): 'Democracy Day', datetime.date(2022, 10, 1): 'Independence Day', datetime.date(2022, 12, 25): 'Christmas Day', datetime.date(2022, 12, 26): 'Boxing Day', datetime.date(2022, 5, 2): 'Eid-el-Fitr (estimated)', datetime.date(2022, 5, 3): 'Eid-el-Fitr Holiday (estimated)', datetime.date(2022, 7, 9): 'Eid-el-Kabir (estimated)', datetime.date(2022, 7, 10): 'Eid-el-Kabir Holiday (estimated)', datetime.date(2022, 10, 8): 'Eid-el-Mawlid (estimated)', datetime.date(2022, 1, 3): \"New Year's Day (observed)\", datetime.date(2022, 5, 4): \"Workers' Day (observed)\", datetime.date(2022, 6, 13): 'Democracy Day (observed)', datetime.date(2022, 7, 11): 'Eid-el-Kabir (estimated) (observed)', datetime.date(2022, 7, 12): 'Eid-el-Kabir Holiday (estimated) (observed)', datetime.date(2022, 10, 3): 'Independence Day (observed)', datetime.date(2022, 10, 10): 'Eid-el-Mawlid (estimated) (observed)', datetime.date(2022, 12, 27): 'Christmas Day (observed)'}"
      ]
     },
     "execution_count": 6,
     "metadata": {},
     "output_type": "execute_result"
    }
   ],
   "source": [
    "ng_holidays"
   ]
  },
  {
   "cell_type": "code",
   "execution_count": 7,
   "metadata": {},
   "outputs": [],
   "source": [
    "# 2. Weekend vs. Weekday\n",
    "df['is_weekend'] = pd.to_datetime(df['trip_start_time']).dt.dayofweek.isin([5, 6]).astype(int)"
   ]
  },
  {
   "cell_type": "code",
   "execution_count": 8,
   "metadata": {},
   "outputs": [],
   "source": [
    "def add_holiday_feature(df):\n",
    "    \"\"\"Adds a feature 'is_holiday' to the DataFrame.\"\"\"\n",
    "    # Create a list of holidays in Nigeria\n",
    "    Nigeria = holidays.Nigeria(years=pd.to_datetime(df['trip_start_date']).dt.year.unique())\n",
    "\n",
    "    # Add missing holidays\n",
    "    Nigeria[datetime(2021, 6, 12)] = \"Democracy Day\"\n",
    "    Nigeria[datetime(2021, 8, 9)] = \"Islamic New Year\"\n",
    "    Nigeria[datetime(2021, 10, 15)] = \"Eid al-Fitr\"\n",
    "    \n",
    "    # Create a new column 'is_holiday'\n",
    "    df['trip_start_date'] = pd.to_datetime(df['trip_start_date']).dt.date\n",
    "\n",
    "    df['is_holiday'] = df['trip_start_date'].apply(lambda date: date in Nigeria).astype(int)\n",
    "\n",
    "    return df"
   ]
  },
  {
   "cell_type": "code",
   "execution_count": 9,
   "metadata": {},
   "outputs": [],
   "source": [
    "new_df = add_holiday_feature(df)"
   ]
  },
  {
   "cell_type": "code",
   "execution_count": 10,
   "metadata": {},
   "outputs": [
    {
     "data": {
      "text/plain": [
       "0    1557740\n",
       "Name: is_holiday, dtype: int64"
      ]
     },
     "execution_count": 10,
     "metadata": {},
     "output_type": "execute_result"
    }
   ],
   "source": [
    "# display unique values of is_holiday using df inbuilt function\n",
    "new_df['is_holiday'].value_counts()"
   ]
  },
  {
   "cell_type": "code",
   "execution_count": 11,
   "metadata": {},
   "outputs": [],
   "source": [
    "df.to_csv('data/features/features_data.csv', index=False)"
   ]
  },
  {
   "cell_type": "markdown",
   "metadata": {},
   "source": [
    "#### Using date nager api"
   ]
  },
  {
   "cell_type": "code",
   "execution_count": 6,
   "metadata": {},
   "outputs": [],
   "source": [
    "# Get public holidays for Nigeria (replace with appropriate API/data source if needed)\n",
    "def get_public_holidays(year):\n",
    "    url = f\"https://date.nager.at/api/v3/PublicHolidays/{year}/NG\"\n",
    "    response = requests.get(url)\n",
    "    if response.status_code == 200:\n",
    "        return [datetime.strptime(holiday['date'], '%Y-%m-%d').date() for holiday in response.json()]\n",
    "    else:\n",
    "        return []\n",
    "\n",
    "holidays_2021 = get_public_holidays(2021)\n",
    "\n",
    "df['is_holiday'] = df['trip_start_date'].isin(holidays_2021).astype(int)\n",
    "\n",
    "# 2. Weekend vs. Weekday\n",
    "df['is_weekend'] = pd.to_datetime(df['trip_start_time']).dt.dayofweek.isin([5, 6]).astype(int)"
   ]
  },
  {
   "cell_type": "code",
   "execution_count": 7,
   "metadata": {},
   "outputs": [],
   "source": [
    "ng_holidays = holidays.NG(years=[2021])"
   ]
  },
  {
   "cell_type": "code",
   "execution_count": 11,
   "metadata": {},
   "outputs": [
    {
     "name": "stdout",
     "output_type": "stream",
     "text": [
      "{datetime.date(2021, 1, 1): \"New Year's Day\", datetime.date(2021, 4, 2): 'Good Friday', datetime.date(2021, 4, 5): 'Easter Monday', datetime.date(2021, 5, 1): \"Workers' Day\", datetime.date(2021, 6, 12): 'Democracy Day', datetime.date(2021, 10, 1): 'Independence Day', datetime.date(2021, 12, 25): 'Christmas Day', datetime.date(2021, 12, 26): 'Boxing Day', datetime.date(2021, 5, 13): 'Eid-el-Fitr (estimated)', datetime.date(2021, 5, 14): 'Eid-el-Fitr Holiday (estimated)', datetime.date(2021, 7, 20): 'Eid-el-Kabir (estimated)', datetime.date(2021, 7, 21): 'Eid-el-Kabir Holiday (estimated)', datetime.date(2021, 10, 18): 'Eid-el-Mawlid (estimated)', datetime.date(2021, 5, 3): \"Workers' Day (observed)\", datetime.date(2021, 6, 14): 'Democracy Day (observed)', datetime.date(2021, 12, 27): 'Christmas Day (observed)', datetime.date(2021, 12, 28): 'Boxing Day (observed)'}\n"
     ]
    }
   ],
   "source": [
    "print(ng_holidays)"
   ]
  },
  {
   "cell_type": "code",
   "execution_count": null,
   "metadata": {},
   "outputs": [],
   "source": []
  }
 ],
 "metadata": {
  "kernelspec": {
   "display_name": ".venv",
   "language": "python",
   "name": "python3"
  },
  "language_info": {
   "codemirror_mode": {
    "name": "ipython",
    "version": 3
   },
   "file_extension": ".py",
   "mimetype": "text/x-python",
   "name": "python",
   "nbconvert_exporter": "python",
   "pygments_lexer": "ipython3",
   "version": "3.9.19"
  }
 },
 "nbformat": 4,
 "nbformat_minor": 2
}
