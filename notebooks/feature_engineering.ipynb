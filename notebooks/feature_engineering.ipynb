{
 "cells": [
  {
   "cell_type": "code",
   "execution_count": 1,
   "metadata": {},
   "outputs": [],
   "source": [
    "import pandas as pd\n",
    "import os\n",
    "import requests\n",
    "from datetime import datetime\n",
    "\n",
    "os.chdir(\"../\")\n",
    "\n",
    "from src import display_df"
   ]
  },
  {
   "cell_type": "code",
   "execution_count": 2,
   "metadata": {},
   "outputs": [],
   "source": [
    "df = pd.read_csv('data/clean/processed_data.csv')"
   ]
  },
  {
   "cell_type": "code",
   "execution_count": 3,
   "metadata": {},
   "outputs": [
    {
     "name": "stdout",
     "output_type": "stream",
     "text": [
      "<class 'pandas.core.frame.DataFrame'>\n",
      "RangeIndex: 1557740 entries, 0 to 1557739\n",
      "Data columns (total 20 columns):\n",
      " #   Column                      Non-Null Count    Dtype  \n",
      "---  ------                      --------------    -----  \n",
      " 0   order_id                    1557740 non-null  int64  \n",
      " 1   trip_origin                 1557740 non-null  object \n",
      " 2   trip_destination            1557740 non-null  object \n",
      " 3   trip_start_time             1557740 non-null  object \n",
      " 4   trip_end_time               1557740 non-null  object \n",
      " 5   id                          1557740 non-null  float64\n",
      " 6   driver_id                   1557740 non-null  float64\n",
      " 7   driver_action               1557740 non-null  object \n",
      " 8   drivers_lat                 1557740 non-null  float64\n",
      " 9   drivers_lon                 1557740 non-null  float64\n",
      " 10  day_of_week                 1557740 non-null  object \n",
      " 11  hour_of_day                 1557740 non-null  int64  \n",
      " 12  day_of_month                1557740 non-null  int64  \n",
      " 13  month                       1557740 non-null  object \n",
      " 14  trip_start_date             1557740 non-null  object \n",
      " 15  trip_end_date               1557740 non-null  object \n",
      " 16  trip_origin_latitude        1557740 non-null  float64\n",
      " 17  trip_origin_longitude       1557740 non-null  float64\n",
      " 18  trip_destination_latitude   1557740 non-null  float64\n",
      " 19  trip_destination_longitude  1557740 non-null  float64\n",
      "dtypes: float64(8), int64(3), object(9)\n",
      "memory usage: 237.7+ MB\n"
     ]
    }
   ],
   "source": [
    "df.info()"
   ]
  },
  {
   "cell_type": "markdown",
   "metadata": {},
   "source": [
    "#### Get public holidays and weekends"
   ]
  },
  {
   "cell_type": "code",
   "execution_count": 40,
   "metadata": {},
   "outputs": [],
   "source": [
    "# Get public holidays for Nigeria (replace with appropriate API/data source if needed)\n",
    "def get_public_holidays(year):\n",
    "    url = f\"https://date.nager.at/api/v3/PublicHolidays/{year}/NG\"\n",
    "    response = requests.get(url)\n",
    "    return response\n",
    "    if response.status_code == 200:\n",
    "        return [datetime.strptime(holiday['date'], '%Y-%m-%d').date() for holiday in response.json()]\n",
    "    else:\n",
    "        return []\n",
    "\n",
    "holidays_2021 = get_public_holidays(2021)\n",
    "\n",
    "df['is_holiday'] = df['trip_start_date'].isin(holidays_2021).astype(int)\n",
    "\n",
    "# 2. Weekend vs. Weekday\n",
    "df['is_weekend'] = pd.to_datetime(df['trip_start_time']).dt.dayofweek.isin([5, 6]).astype(int)"
   ]
  },
  {
   "cell_type": "code",
   "execution_count": 45,
   "metadata": {},
   "outputs": [
    {
     "ename": "AttributeError",
     "evalue": "'str' object has no attribute 'isin'",
     "output_type": "error",
     "traceback": [
      "\u001b[0;31m---------------------------------------------------------------------------\u001b[0m",
      "\u001b[0;31mAttributeError\u001b[0m                            Traceback (most recent call last)",
      "Cell \u001b[0;32mIn[45], line 2\u001b[0m\n\u001b[1;32m      1\u001b[0m \u001b[38;5;66;03m# get one value of the 'trip_start_time' column\u001b[39;00m\n\u001b[0;32m----> 2\u001b[0m \u001b[38;5;124;43m\"\u001b[39;49m\u001b[38;5;124;43m2021-01-01\u001b[39;49m\u001b[38;5;124;43m\"\u001b[39;49m\u001b[38;5;241;43m.\u001b[39;49m\u001b[43misin\u001b[49m(holidays_2021)\n",
      "\u001b[0;31mAttributeError\u001b[0m: 'str' object has no attribute 'isin'"
     ]
    }
   ],
   "source": [
    "# get one value of the 'trip_start_time' column\n",
    "\"2021-01-01\".isin(holidays_2021)"
   ]
  },
  {
   "cell_type": "code",
   "execution_count": 42,
   "metadata": {},
   "outputs": [
    {
     "data": {
      "text/plain": [
       "'2021-01-01'"
      ]
     },
     "execution_count": 42,
     "metadata": {},
     "output_type": "execute_result"
    }
   ],
   "source": [
    "get_public_holidays(2021)[0]"
   ]
  },
  {
   "cell_type": "code",
   "execution_count": 43,
   "metadata": {},
   "outputs": [],
   "source": [
    "# save df to csv\n",
    "df.to_csv('data/features/clean_with_features.csv', index=False)"
   ]
  },
  {
   "cell_type": "code",
   "execution_count": 44,
   "metadata": {},
   "outputs": [
    {
     "name": "stdout",
     "output_type": "stream",
     "text": [
      "| order_id   | trip_origin         | trip_destination    | trip_start_time     | trip_end_time       | id   | driver_id   | driver_action   | drivers_lat   | drivers_lon   | day_of_week   | hour_of_day   | day_of_month   | month   | trip_start_date   | trip_end_date   | trip_origin_latitude   | trip_origin_longitude   | trip_destination_latitude   | trip_destination_longitude   | is_holiday   | is_weekend   |\n",
      "|:-----------|:--------------------|:--------------------|:--------------------|:--------------------|:-----|:------------|:----------------|:--------------|:--------------|:--------------|:--------------|:---------------|:--------|:------------------|:----------------|:-----------------------|:------------------------|:----------------------------|:-----------------------------|:-------------|:-------------|\n",
      "| 392001     | 6.6010417,3.2766339 | 6.4501069,3.3916154 | 2021-07-01 09:30:59 | 2021-07-01 09:34:36 | 1    | 243828      | accepted        | 6.60221       | 3.27046       | Thursday      | 9             | 1              | July    | 2021-07-01        | 2021-07-01      | 6.60104                | 3.27663                 | 6.45011                     | 3.39162                      | 0            | 0            |\n",
      "| 392001     | 6.6010417,3.2766339 | 6.4501069,3.3916154 | 2021-07-01 09:30:59 | 2021-07-01 09:34:36 | 2    | 243588      | rejected        | 6.5921        | 3.28744       | Thursday      | 9             | 1              | July    | 2021-07-01        | 2021-07-01      | 6.60104                | 3.27663                 | 6.45011                     | 3.39162                      | 0            | 0            |\n",
      "| 392001     | 6.6010417,3.2766339 | 6.4501069,3.3916154 | 2021-07-01 09:30:59 | 2021-07-01 09:34:36 | 3    | 243830      | rejected        | 6.59613       | 3.28178       | Thursday      | 9             | 1              | July    | 2021-07-01        | 2021-07-01      | 6.60104                | 3.27663                 | 6.45011                     | 3.39162                      | 0            | 0            |\n",
      "| 392001     | 6.6010417,3.2766339 | 6.4501069,3.3916154 | 2021-07-01 09:30:59 | 2021-07-01 09:34:36 | 4    | 243539      | rejected        | 6.59614       | 3.28053       | Thursday      | 9             | 1              | July    | 2021-07-01        | 2021-07-01      | 6.60104                | 3.27663                 | 6.45011                     | 3.39162                      | 0            | 0            |\n",
      "| 392001     | 6.6010417,3.2766339 | 6.4501069,3.3916154 | 2021-07-01 09:30:59 | 2021-07-01 09:34:36 | 5    | 171653      | rejected        | 6.60923       | 3.2888        | Thursday      | 9             | 1              | July    | 2021-07-01        | 2021-07-01      | 6.60104                | 3.27663                 | 6.45011                     | 3.39162                      | 0            | 0            |\n"
     ]
    }
   ],
   "source": [
    "display_df(df)"
   ]
  },
  {
   "cell_type": "code",
   "execution_count": 19,
   "metadata": {},
   "outputs": [
    {
     "name": "stdout",
     "output_type": "stream",
     "text": [
      "0    1557740\n",
      "Name: is_holiday, dtype: int64\n"
     ]
    }
   ],
   "source": [
    "# display unique values\n",
    "print(df['is_holiday'].value_counts())"
   ]
  },
  {
   "cell_type": "markdown",
   "metadata": {},
   "source": [
    "### Get the weather"
   ]
  },
  {
   "cell_type": "code",
   "execution_count": 29,
   "metadata": {},
   "outputs": [
    {
     "name": "stderr",
     "output_type": "stream",
     "text": [
      "Exception ignored in: <bound method IPythonKernel._clean_thread_parent_frames of <ipykernel.ipkernel.IPythonKernel object at 0x75bb2a7a65e0>>\n",
      "Traceback (most recent call last):\n",
      "  File \"/home/hilla/code/10Academy-training/week8/Causal-Inference-Delivery-Logistic-Location-Optimization/.venv/lib/python3.9/site-packages/ipykernel/ipkernel.py\", line 775, in _clean_thread_parent_frames\n",
      "    def _clean_thread_parent_frames(\n",
      "KeyboardInterrupt: \n",
      "\n",
      "KeyboardInterrupt\n",
      "\n"
     ]
    }
   ],
   "source": [
    "\n",
    "# 5. Extract `latitude` and `longitude` from `Trip Origin` and `Trip Destination` in `merged_df`\n",
    "for col in ['Trip Origin', 'Trip Destination']:\n",
    "    merged_df[[f'{col}_latitude', f'{col}_longitude']] = merged_df[col].str.split(',', expand=True).astype(float)\n",
    "\n",
    "# 6. Filter to keep only rows where `driver_action` is 'accepted' and create a copy\n",
    "merged_df_accepted_copy = merged_df[merged_df['driver_action'] == 'accepted'].copy()\n",
    "\n",
    "# 7. Define a function `get_weather` that takes latitude, longitude, and API key as input and returns the weather description from the OpenWeatherMap API.\n",
    "def get_weather(lat, lon, api_key):\n",
    "    base_url = \"https://api.openweathermap.org/data/3.0/onecall?\"\n",
    "    complete_url = base_url + \"lat=\" + str(lat) + \"&lon=\" + str(lon) + \"&appid=\" + api_key\n",
    "    response = requests.get(complete_url)\n",
    "    if response.status_code == 200:\n",
    "        data = response.json()\n",
    "        weather_description = data['current']['weather'][0]['description']\n",
    "        return weather_description\n",
    "    else:\n",
    "        print(\"Error in API call\")\n",
    "        return None\n",
    "\n",
    "# 8. Apply the `get_weather` function to the `merged_df_accepted_copy` DataFrame to get the weather conditions for each driver's location.\n",
    "merged_df_accepted_copy['weather_description'] = merged_df_accepted_copy.apply(\n",
    "    lambda row: get_weather(row['lat'], row['lng'], api_key), axis=1\n",
    ")\n",
    "\n",
    "# 9. Display the first 5 rows of the dataframe with the weather description.\n",
    "print(merged_df_accepted_copy[['order_id', 'weather_description']].head().to_markdown(index=False, numalign=\"left\", stralign=\"left\"))"
   ]
  },
  {
   "cell_type": "code",
   "execution_count": 28,
   "metadata": {},
   "outputs": [
    {
     "data": {
      "text/html": [
       "<div>\n",
       "<style scoped>\n",
       "    .dataframe tbody tr th:only-of-type {\n",
       "        vertical-align: middle;\n",
       "    }\n",
       "\n",
       "    .dataframe tbody tr th {\n",
       "        vertical-align: top;\n",
       "    }\n",
       "\n",
       "    .dataframe thead th {\n",
       "        text-align: right;\n",
       "    }\n",
       "</style>\n",
       "<table border=\"1\" class=\"dataframe\">\n",
       "  <thead>\n",
       "    <tr style=\"text-align: right;\">\n",
       "      <th></th>\n",
       "      <th>order_id</th>\n",
       "      <th>Trip Origin</th>\n",
       "      <th>Trip Destination</th>\n",
       "      <th>Trip Start Time</th>\n",
       "      <th>Trip End Time</th>\n",
       "      <th>day_of_week</th>\n",
       "      <th>hour_of_day</th>\n",
       "      <th>day_of_month</th>\n",
       "      <th>month</th>\n",
       "      <th>Trip Origin_latitude</th>\n",
       "      <th>...</th>\n",
       "      <th>is_holiday</th>\n",
       "      <th>is_weekend</th>\n",
       "      <th>Trip Start Date</th>\n",
       "      <th>id</th>\n",
       "      <th>driver_id</th>\n",
       "      <th>driver_action</th>\n",
       "      <th>lat</th>\n",
       "      <th>lng</th>\n",
       "      <th>created_at</th>\n",
       "      <th>updated_at</th>\n",
       "    </tr>\n",
       "  </thead>\n",
       "  <tbody>\n",
       "    <tr>\n",
       "      <th>4</th>\n",
       "      <td>392001</td>\n",
       "      <td>6.6010417,3.2766339</td>\n",
       "      <td>6.4501069,3.3916154</td>\n",
       "      <td>2021-07-01</td>\n",
       "      <td>2021-07-01 09:34:36</td>\n",
       "      <td>Thursday</td>\n",
       "      <td>9</td>\n",
       "      <td>1</td>\n",
       "      <td>July</td>\n",
       "      <td>6.601042</td>\n",
       "      <td>...</td>\n",
       "      <td>0</td>\n",
       "      <td>0</td>\n",
       "      <td>2021-07-01</td>\n",
       "      <td>1.0</td>\n",
       "      <td>243828.0</td>\n",
       "      <td>accepted</td>\n",
       "      <td>6.602207</td>\n",
       "      <td>3.270465</td>\n",
       "      <td>NaN</td>\n",
       "      <td>NaN</td>\n",
       "    </tr>\n",
       "    <tr>\n",
       "      <th>14</th>\n",
       "      <td>392005</td>\n",
       "      <td>6.565087699999999,3.3844415</td>\n",
       "      <td>6.499696300000001,3.3509075</td>\n",
       "      <td>2021-07-01</td>\n",
       "      <td>2021-07-01 11:27:51</td>\n",
       "      <td>Thursday</td>\n",
       "      <td>10</td>\n",
       "      <td>1</td>\n",
       "      <td>July</td>\n",
       "      <td>6.565088</td>\n",
       "      <td>...</td>\n",
       "      <td>0</td>\n",
       "      <td>0</td>\n",
       "      <td>2021-07-01</td>\n",
       "      <td>11.0</td>\n",
       "      <td>245597.0</td>\n",
       "      <td>accepted</td>\n",
       "      <td>6.549147</td>\n",
       "      <td>3.392184</td>\n",
       "      <td>NaN</td>\n",
       "      <td>NaN</td>\n",
       "    </tr>\n",
       "    <tr>\n",
       "      <th>65</th>\n",
       "      <td>392009</td>\n",
       "      <td>6.6636484,3.3082058</td>\n",
       "      <td>6.6185421,3.301634</td>\n",
       "      <td>2021-07-01</td>\n",
       "      <td>2021-07-01 07:41:12</td>\n",
       "      <td>Thursday</td>\n",
       "      <td>6</td>\n",
       "      <td>1</td>\n",
       "      <td>July</td>\n",
       "      <td>6.663648</td>\n",
       "      <td>...</td>\n",
       "      <td>0</td>\n",
       "      <td>0</td>\n",
       "      <td>2021-07-01</td>\n",
       "      <td>62.0</td>\n",
       "      <td>245600.0</td>\n",
       "      <td>accepted</td>\n",
       "      <td>6.644829</td>\n",
       "      <td>3.289328</td>\n",
       "      <td>NaN</td>\n",
       "      <td>NaN</td>\n",
       "    </tr>\n",
       "    <tr>\n",
       "      <th>132</th>\n",
       "      <td>392013</td>\n",
       "      <td>6.4308171,3.4341552</td>\n",
       "      <td>6.435460000000001,3.4846547</td>\n",
       "      <td>2021-07-01</td>\n",
       "      <td>2021-07-01 09:19:11</td>\n",
       "      <td>Thursday</td>\n",
       "      <td>8</td>\n",
       "      <td>1</td>\n",
       "      <td>July</td>\n",
       "      <td>6.430817</td>\n",
       "      <td>...</td>\n",
       "      <td>0</td>\n",
       "      <td>0</td>\n",
       "      <td>2021-07-01</td>\n",
       "      <td>129.0</td>\n",
       "      <td>243892.0</td>\n",
       "      <td>accepted</td>\n",
       "      <td>6.435331</td>\n",
       "      <td>3.424317</td>\n",
       "      <td>NaN</td>\n",
       "      <td>NaN</td>\n",
       "    </tr>\n",
       "    <tr>\n",
       "      <th>145</th>\n",
       "      <td>392014</td>\n",
       "      <td>6.499156300000001,3.3585173</td>\n",
       "      <td>6.4280911,3.5157172</td>\n",
       "      <td>2021-07-01</td>\n",
       "      <td>2021-07-01 07:27:24</td>\n",
       "      <td>Thursday</td>\n",
       "      <td>6</td>\n",
       "      <td>1</td>\n",
       "      <td>July</td>\n",
       "      <td>6.499156</td>\n",
       "      <td>...</td>\n",
       "      <td>0</td>\n",
       "      <td>0</td>\n",
       "      <td>2021-07-01</td>\n",
       "      <td>142.0</td>\n",
       "      <td>243781.0</td>\n",
       "      <td>accepted</td>\n",
       "      <td>6.498221</td>\n",
       "      <td>3.360042</td>\n",
       "      <td>NaN</td>\n",
       "      <td>NaN</td>\n",
       "    </tr>\n",
       "  </tbody>\n",
       "</table>\n",
       "<p>5 rows × 24 columns</p>\n",
       "</div>"
      ],
      "text/plain": [
       "    order_id                  Trip Origin             Trip Destination  \\\n",
       "4     392001          6.6010417,3.2766339          6.4501069,3.3916154   \n",
       "14    392005  6.565087699999999,3.3844415  6.499696300000001,3.3509075   \n",
       "65    392009          6.6636484,3.3082058           6.6185421,3.301634   \n",
       "132   392013          6.4308171,3.4341552  6.435460000000001,3.4846547   \n",
       "145   392014  6.499156300000001,3.3585173          6.4280911,3.5157172   \n",
       "\n",
       "    Trip Start Time       Trip End Time day_of_week  hour_of_day  \\\n",
       "4        2021-07-01 2021-07-01 09:34:36    Thursday            9   \n",
       "14       2021-07-01 2021-07-01 11:27:51    Thursday           10   \n",
       "65       2021-07-01 2021-07-01 07:41:12    Thursday            6   \n",
       "132      2021-07-01 2021-07-01 09:19:11    Thursday            8   \n",
       "145      2021-07-01 2021-07-01 07:27:24    Thursday            6   \n",
       "\n",
       "     day_of_month month  Trip Origin_latitude  ...  is_holiday  is_weekend  \\\n",
       "4               1  July              6.601042  ...           0           0   \n",
       "14              1  July              6.565088  ...           0           0   \n",
       "65              1  July              6.663648  ...           0           0   \n",
       "132             1  July              6.430817  ...           0           0   \n",
       "145             1  July              6.499156  ...           0           0   \n",
       "\n",
       "     Trip Start Date     id  driver_id  driver_action       lat       lng  \\\n",
       "4         2021-07-01    1.0   243828.0       accepted  6.602207  3.270465   \n",
       "14        2021-07-01   11.0   245597.0       accepted  6.549147  3.392184   \n",
       "65        2021-07-01   62.0   245600.0       accepted  6.644829  3.289328   \n",
       "132       2021-07-01  129.0   243892.0       accepted  6.435331  3.424317   \n",
       "145       2021-07-01  142.0   243781.0       accepted  6.498221  3.360042   \n",
       "\n",
       "     created_at updated_at  \n",
       "4           NaN        NaN  \n",
       "14          NaN        NaN  \n",
       "65          NaN        NaN  \n",
       "132         NaN        NaN  \n",
       "145         NaN        NaN  \n",
       "\n",
       "[5 rows x 24 columns]"
      ]
     },
     "execution_count": 28,
     "metadata": {},
     "output_type": "execute_result"
    }
   ],
   "source": [
    "merged_df_accepted_copy.head()"
   ]
  },
  {
   "cell_type": "code",
   "execution_count": 31,
   "metadata": {},
   "outputs": [],
   "source": [
    "df.to_csv('../data/features/merged_df_accepted_copy.csv', index=False)"
   ]
  },
  {
   "cell_type": "code",
   "execution_count": 25,
   "metadata": {},
   "outputs": [],
   "source": [
    "# API call to request historical data:\n",
    "\n",
    "lat, lon = (6.6010417,3.2766339)\n",
    "time = 1627830000\n",
    "api_key = os.getenv(\"OPENWEATHERMAP_API_KEY\")\n",
    "\n",
    "response = requests.get(\n",
    "            f\"https://api.openweathermap.org/data/3.0/onecall/timemachine?lat={lat}&lon={lon}&dt={time}&appid={api_key}\"\n",
    "          )\n",
    "\n",
    "def get_weather(timestamp, lat, lon):\n",
    "    base_url = \"http://api.openweathermap.org/data/2.0/onecall?\"\n",
    "    complete_url = base_url + \"lat=\" + str(lat) + \"&lon=\" + str(lon) + \"&appid=\" + api_key\n",
    "    response = requests.get(complete_url) \n",
    "    x = response.json()\n",
    "    if x[\"cod\"] != \"404\":\n",
    "        return x['weather'][0]['main']  # Simplify to just the main weather condition\n",
    "    else:\n",
    "        return np.nan  # Missing if API call fails"
   ]
  },
  {
   "cell_type": "code",
   "execution_count": null,
   "metadata": {},
   "outputs": [],
   "source": []
  },
  {
   "cell_type": "code",
   "execution_count": 27,
   "metadata": {},
   "outputs": [
    {
     "data": {
      "text/plain": [
       "{'lat': 6.601,\n",
       " 'lon': 3.2766,\n",
       " 'timezone': 'Africa/Lagos',\n",
       " 'timezone_offset': 3600,\n",
       " 'data': [{'dt': 1627830000,\n",
       "   'sunrise': 1627796462,\n",
       "   'sunset': 1627841116,\n",
       "   'temp': 301.54,\n",
       "   'feels_like': 303.45,\n",
       "   'pressure': 1016,\n",
       "   'humidity': 62,\n",
       "   'dew_point': 293.56,\n",
       "   'clouds': 40,\n",
       "   'visibility': 10000,\n",
       "   'wind_speed': 5.14,\n",
       "   'wind_deg': 250,\n",
       "   'weather': [{'id': 802,\n",
       "     'main': 'Clouds',\n",
       "     'description': 'scattered clouds',\n",
       "     'icon': '03d'}]}]}"
      ]
     },
     "execution_count": 27,
     "metadata": {},
     "output_type": "execute_result"
    }
   ],
   "source": [
    "response.json()"
   ]
  },
  {
   "cell_type": "code",
   "execution_count": 10,
   "metadata": {},
   "outputs": [
    {
     "ename": "ModuleNotFoundError",
     "evalue": "No module named 'requests'",
     "output_type": "error",
     "traceback": [
      "\u001b[0;31m---------------------------------------------------------------------------\u001b[0m",
      "\u001b[0;31mModuleNotFoundError\u001b[0m                       Traceback (most recent call last)",
      "Cell \u001b[0;32mIn[10], line 3\u001b[0m\n\u001b[1;32m      1\u001b[0m \u001b[38;5;28;01mimport\u001b[39;00m \u001b[38;5;21;01mpandas\u001b[39;00m \u001b[38;5;28;01mas\u001b[39;00m \u001b[38;5;21;01mpd\u001b[39;00m\n\u001b[1;32m      2\u001b[0m \u001b[38;5;28;01mimport\u001b[39;00m \u001b[38;5;21;01mnumpy\u001b[39;00m \u001b[38;5;28;01mas\u001b[39;00m \u001b[38;5;21;01mnp\u001b[39;00m\n\u001b[0;32m----> 3\u001b[0m \u001b[38;5;28;01mimport\u001b[39;00m \u001b[38;5;21;01mrequests\u001b[39;00m\n\u001b[1;32m      4\u001b[0m \u001b[38;5;28;01mfrom\u001b[39;00m \u001b[38;5;21;01mdatetime\u001b[39;00m \u001b[38;5;28;01mimport\u001b[39;00m datetime\n\u001b[1;32m      6\u001b[0m \u001b[38;5;66;03m# Assuming you have your 'completed_orders' DataFrame loaded\u001b[39;00m\n\u001b[1;32m      7\u001b[0m \u001b[38;5;66;03m# (including 'Trip Start Time', 'Trip Origin_latitude', and 'Trip Origin_longitude')\u001b[39;00m\n\u001b[1;32m      8\u001b[0m \n\u001b[1;32m      9\u001b[0m \u001b[38;5;66;03m# 1. Public Holiday Data (Example using a public API)\u001b[39;00m\n\u001b[1;32m     10\u001b[0m \u001b[38;5;66;03m# Get public holidays for Nigeria (replace with appropriate API/data source if needed)\u001b[39;00m\n",
      "\u001b[0;31mModuleNotFoundError\u001b[0m: No module named 'requests'"
     ]
    }
   ],
   "source": [
    "import pandas as pd\n",
    "import numpy as np\n",
    "import requests\n",
    "from datetime import datetime\n",
    "\n",
    "# Assuming you have your 'completed_orders' DataFrame loaded\n",
    "# (including 'Trip Start Time', 'Trip Origin_latitude', and 'Trip Origin_longitude')\n",
    "\n",
    "# 1. Public Holiday Data (Example using a public API)\n",
    "# Get public holidays for Nigeria (replace with appropriate API/data source if needed)\n",
    "def get_public_holidays(year):\n",
    "    url = f\"https://date.nager.at/api/v3/PublicHolidays/{year}/NG\"\n",
    "    response = requests.get(url)\n",
    "    if response.status_code == 200:\n",
    "        return [datetime.strptime(holiday['date'], '%Y-%m-%d') for holiday in response.json()]\n",
    "    else:\n",
    "        return []\n",
    "\n",
    "holidays_2021 = get_public_holidays(2021)  # Adjust years as needed for your data\n",
    "\n",
    "df['is_holiday'] = df['Trip Start Time'].dt.date.isin(holidays_2021).astype(int)\n",
    "\n",
    "# 2. Weekend vs. Weekday\n",
    "df['is_weekend'] = df['Trip Start Time'].dt.dayofweek.isin([5, 6]).astype(int)\n",
    "\n",
    "# 3. Hour of the Day (Already extracted in previous steps)\n",
    "\n",
    "# 4. Weather Data (Example using OpenWeatherMap API)\n",
    "# You'll need to get an API key from OpenWeatherMap\n",
    "api_key = \"YOUR_API_KEY\" \n",
    "\n",
    "def get_weather(timestamp, lat, lon):\n",
    "    base_url = \"http://api.openweathermap.org/data/2.5/weather?\"\n",
    "    complete_url = base_url + \"lat=\" + str(lat) + \"&lon=\" + str(lon) + \"&appid=\" + api_key\n",
    "    response = requests.get(complete_url) \n",
    "    x = response.json()\n",
    "    if x[\"cod\"] != \"404\":\n",
    "        return x['weather'][0]['main']  # Simplify to just the main weather condition\n",
    "    else:\n",
    "        return np.nan  # Missing if API call fails\n",
    "\n",
    "# Apply the weather function to get weather conditions (This might take a while for a large dataset)\n",
    "df['weather_condition'] = df.apply(lambda row: get_weather(row['Trip Start Time'], row['Trip Origin_latitude'], row['Trip Origin_longitude']), axis=1)\n",
    "\n",
    "# 5. Traffic Data (Example using TomTom API or other traffic data sources)\n",
    "# You'll need to adapt this to your chosen API/data source.\n",
    "# This is a complex process and may require additional data processing based on your API's response.\n",
    "\n",
    "# 6. Special Occasions (This requires manual research or finding relevant datasets)\n",
    "# You'll need to identify special events in Lagos for your data's time period and create a feature.\n",
    "\n",
    "\n",
    "# 7. Relevance Analysis\n",
    "# Example: Use a logistic regression model to assess feature importance\n",
    "from sklearn.linear_model import LogisticRegression\n",
    "from sklearn.model_selection import train_test_split\n",
    "\n",
    "# Choose features and target variable\n",
    "X = df[['is_holiday', 'is_weekend', 'hour_of_day', 'weather_condition']]  # Add more features as available\n",
    "y = df['trip_duration'] # Or another target variable representing order completion\n",
    "\n",
    "X_train, X_test, y_train, y_test = train_test_split(X, y, test_size=0.2, random_state=42)\n",
    "\n",
    "model = LogisticRegression()\n",
    "model.fit(X_train, y_train)\n",
    "\n",
    "# Print feature importance\n",
    "feature_importance = pd.DataFrame({'Feature': X.columns, 'Importance': model.coef_[0]})\n",
    "feature_importance = feature_importance.sort_values(by='Importance', ascending=False)\n",
    "print(feature_importance)\n"
   ]
  },
  {
   "cell_type": "code",
   "execution_count": null,
   "metadata": {},
   "outputs": [],
   "source": []
  },
  {
   "cell_type": "code",
   "execution_count": 16,
   "metadata": {},
   "outputs": [
    {
     "ename": "KeyError",
     "evalue": "'weather'",
     "output_type": "error",
     "traceback": [
      "\u001b[0;31m---------------------------------------------------------------------------\u001b[0m",
      "\u001b[0;31mKeyError\u001b[0m                                  Traceback (most recent call last)",
      "Cell \u001b[0;32mIn[16], line 16\u001b[0m\n\u001b[1;32m     13\u001b[0m         \u001b[38;5;28;01mreturn\u001b[39;00m np\u001b[38;5;241m.\u001b[39mnan  \u001b[38;5;66;03m# Missing if API call fails\u001b[39;00m\n\u001b[1;32m     15\u001b[0m \u001b[38;5;66;03m# Apply the weather function to get weather conditions (This might take a while for a large dataset)\u001b[39;00m\n\u001b[0;32m---> 16\u001b[0m df[\u001b[38;5;124m'\u001b[39m\u001b[38;5;124mweather_condition\u001b[39m\u001b[38;5;124m'\u001b[39m] \u001b[38;5;241m=\u001b[39m \u001b[43mdf\u001b[49m\u001b[38;5;241;43m.\u001b[39;49m\u001b[43mapply\u001b[49m\u001b[43m(\u001b[49m\u001b[38;5;28;43;01mlambda\u001b[39;49;00m\u001b[43m \u001b[49m\u001b[43mrow\u001b[49m\u001b[43m:\u001b[49m\u001b[43m \u001b[49m\u001b[43mget_weather\u001b[49m\u001b[43m(\u001b[49m\u001b[43mrow\u001b[49m\u001b[43m[\u001b[49m\u001b[38;5;124;43m'\u001b[39;49m\u001b[38;5;124;43mTrip Start Time\u001b[39;49m\u001b[38;5;124;43m'\u001b[39;49m\u001b[43m]\u001b[49m\u001b[43m,\u001b[49m\u001b[43m \u001b[49m\u001b[43mrow\u001b[49m\u001b[43m[\u001b[49m\u001b[38;5;124;43m'\u001b[39;49m\u001b[38;5;124;43mTrip Origin_latitude\u001b[39;49m\u001b[38;5;124;43m'\u001b[39;49m\u001b[43m]\u001b[49m\u001b[43m,\u001b[49m\u001b[43m \u001b[49m\u001b[43mrow\u001b[49m\u001b[43m[\u001b[49m\u001b[38;5;124;43m'\u001b[39;49m\u001b[38;5;124;43mTrip Origin_longitude\u001b[39;49m\u001b[38;5;124;43m'\u001b[39;49m\u001b[43m]\u001b[49m\u001b[43m)\u001b[49m\u001b[43m,\u001b[49m\u001b[43m \u001b[49m\u001b[43maxis\u001b[49m\u001b[38;5;241;43m=\u001b[39;49m\u001b[38;5;241;43m1\u001b[39;49m\u001b[43m)\u001b[49m\n",
      "File \u001b[0;32m~/code/10Academy-training/week8/Causal-Inference-Delivery-Logistic-Location-Optimization/.venv/lib/python3.9/site-packages/pandas/core/frame.py:10374\u001b[0m, in \u001b[0;36mDataFrame.apply\u001b[0;34m(self, func, axis, raw, result_type, args, by_row, engine, engine_kwargs, **kwargs)\u001b[0m\n\u001b[1;32m  10360\u001b[0m \u001b[38;5;28;01mfrom\u001b[39;00m \u001b[38;5;21;01mpandas\u001b[39;00m\u001b[38;5;21;01m.\u001b[39;00m\u001b[38;5;21;01mcore\u001b[39;00m\u001b[38;5;21;01m.\u001b[39;00m\u001b[38;5;21;01mapply\u001b[39;00m \u001b[38;5;28;01mimport\u001b[39;00m frame_apply\n\u001b[1;32m  10362\u001b[0m op \u001b[38;5;241m=\u001b[39m frame_apply(\n\u001b[1;32m  10363\u001b[0m     \u001b[38;5;28mself\u001b[39m,\n\u001b[1;32m  10364\u001b[0m     func\u001b[38;5;241m=\u001b[39mfunc,\n\u001b[0;32m   (...)\u001b[0m\n\u001b[1;32m  10372\u001b[0m     kwargs\u001b[38;5;241m=\u001b[39mkwargs,\n\u001b[1;32m  10373\u001b[0m )\n\u001b[0;32m> 10374\u001b[0m \u001b[38;5;28;01mreturn\u001b[39;00m \u001b[43mop\u001b[49m\u001b[38;5;241;43m.\u001b[39;49m\u001b[43mapply\u001b[49m\u001b[43m(\u001b[49m\u001b[43m)\u001b[49m\u001b[38;5;241m.\u001b[39m__finalize__(\u001b[38;5;28mself\u001b[39m, method\u001b[38;5;241m=\u001b[39m\u001b[38;5;124m\"\u001b[39m\u001b[38;5;124mapply\u001b[39m\u001b[38;5;124m\"\u001b[39m)\n",
      "File \u001b[0;32m~/code/10Academy-training/week8/Causal-Inference-Delivery-Logistic-Location-Optimization/.venv/lib/python3.9/site-packages/pandas/core/apply.py:916\u001b[0m, in \u001b[0;36mFrameApply.apply\u001b[0;34m(self)\u001b[0m\n\u001b[1;32m    913\u001b[0m \u001b[38;5;28;01melif\u001b[39;00m \u001b[38;5;28mself\u001b[39m\u001b[38;5;241m.\u001b[39mraw:\n\u001b[1;32m    914\u001b[0m     \u001b[38;5;28;01mreturn\u001b[39;00m \u001b[38;5;28mself\u001b[39m\u001b[38;5;241m.\u001b[39mapply_raw(engine\u001b[38;5;241m=\u001b[39m\u001b[38;5;28mself\u001b[39m\u001b[38;5;241m.\u001b[39mengine, engine_kwargs\u001b[38;5;241m=\u001b[39m\u001b[38;5;28mself\u001b[39m\u001b[38;5;241m.\u001b[39mengine_kwargs)\n\u001b[0;32m--> 916\u001b[0m \u001b[38;5;28;01mreturn\u001b[39;00m \u001b[38;5;28;43mself\u001b[39;49m\u001b[38;5;241;43m.\u001b[39;49m\u001b[43mapply_standard\u001b[49m\u001b[43m(\u001b[49m\u001b[43m)\u001b[49m\n",
      "File \u001b[0;32m~/code/10Academy-training/week8/Causal-Inference-Delivery-Logistic-Location-Optimization/.venv/lib/python3.9/site-packages/pandas/core/apply.py:1063\u001b[0m, in \u001b[0;36mFrameApply.apply_standard\u001b[0;34m(self)\u001b[0m\n\u001b[1;32m   1061\u001b[0m \u001b[38;5;28;01mdef\u001b[39;00m \u001b[38;5;21mapply_standard\u001b[39m(\u001b[38;5;28mself\u001b[39m):\n\u001b[1;32m   1062\u001b[0m     \u001b[38;5;28;01mif\u001b[39;00m \u001b[38;5;28mself\u001b[39m\u001b[38;5;241m.\u001b[39mengine \u001b[38;5;241m==\u001b[39m \u001b[38;5;124m\"\u001b[39m\u001b[38;5;124mpython\u001b[39m\u001b[38;5;124m\"\u001b[39m:\n\u001b[0;32m-> 1063\u001b[0m         results, res_index \u001b[38;5;241m=\u001b[39m \u001b[38;5;28;43mself\u001b[39;49m\u001b[38;5;241;43m.\u001b[39;49m\u001b[43mapply_series_generator\u001b[49m\u001b[43m(\u001b[49m\u001b[43m)\u001b[49m\n\u001b[1;32m   1064\u001b[0m     \u001b[38;5;28;01melse\u001b[39;00m:\n\u001b[1;32m   1065\u001b[0m         results, res_index \u001b[38;5;241m=\u001b[39m \u001b[38;5;28mself\u001b[39m\u001b[38;5;241m.\u001b[39mapply_series_numba()\n",
      "File \u001b[0;32m~/code/10Academy-training/week8/Causal-Inference-Delivery-Logistic-Location-Optimization/.venv/lib/python3.9/site-packages/pandas/core/apply.py:1081\u001b[0m, in \u001b[0;36mFrameApply.apply_series_generator\u001b[0;34m(self)\u001b[0m\n\u001b[1;32m   1078\u001b[0m \u001b[38;5;28;01mwith\u001b[39;00m option_context(\u001b[38;5;124m\"\u001b[39m\u001b[38;5;124mmode.chained_assignment\u001b[39m\u001b[38;5;124m\"\u001b[39m, \u001b[38;5;28;01mNone\u001b[39;00m):\n\u001b[1;32m   1079\u001b[0m     \u001b[38;5;28;01mfor\u001b[39;00m i, v \u001b[38;5;129;01min\u001b[39;00m \u001b[38;5;28menumerate\u001b[39m(series_gen):\n\u001b[1;32m   1080\u001b[0m         \u001b[38;5;66;03m# ignore SettingWithCopy here in case the user mutates\u001b[39;00m\n\u001b[0;32m-> 1081\u001b[0m         results[i] \u001b[38;5;241m=\u001b[39m \u001b[38;5;28;43mself\u001b[39;49m\u001b[38;5;241;43m.\u001b[39;49m\u001b[43mfunc\u001b[49m\u001b[43m(\u001b[49m\u001b[43mv\u001b[49m\u001b[43m,\u001b[49m\u001b[43m \u001b[49m\u001b[38;5;241;43m*\u001b[39;49m\u001b[38;5;28;43mself\u001b[39;49m\u001b[38;5;241;43m.\u001b[39;49m\u001b[43margs\u001b[49m\u001b[43m,\u001b[49m\u001b[43m \u001b[49m\u001b[38;5;241;43m*\u001b[39;49m\u001b[38;5;241;43m*\u001b[39;49m\u001b[38;5;28;43mself\u001b[39;49m\u001b[38;5;241;43m.\u001b[39;49m\u001b[43mkwargs\u001b[49m\u001b[43m)\u001b[49m\n\u001b[1;32m   1082\u001b[0m         \u001b[38;5;28;01mif\u001b[39;00m \u001b[38;5;28misinstance\u001b[39m(results[i], ABCSeries):\n\u001b[1;32m   1083\u001b[0m             \u001b[38;5;66;03m# If we have a view on v, we need to make a copy because\u001b[39;00m\n\u001b[1;32m   1084\u001b[0m             \u001b[38;5;66;03m#  series_generator will swap out the underlying data\u001b[39;00m\n\u001b[1;32m   1085\u001b[0m             results[i] \u001b[38;5;241m=\u001b[39m results[i]\u001b[38;5;241m.\u001b[39mcopy(deep\u001b[38;5;241m=\u001b[39m\u001b[38;5;28;01mFalse\u001b[39;00m)\n",
      "Cell \u001b[0;32mIn[16], line 16\u001b[0m, in \u001b[0;36m<lambda>\u001b[0;34m(row)\u001b[0m\n\u001b[1;32m     13\u001b[0m         \u001b[38;5;28;01mreturn\u001b[39;00m np\u001b[38;5;241m.\u001b[39mnan  \u001b[38;5;66;03m# Missing if API call fails\u001b[39;00m\n\u001b[1;32m     15\u001b[0m \u001b[38;5;66;03m# Apply the weather function to get weather conditions (This might take a while for a large dataset)\u001b[39;00m\n\u001b[0;32m---> 16\u001b[0m df[\u001b[38;5;124m'\u001b[39m\u001b[38;5;124mweather_condition\u001b[39m\u001b[38;5;124m'\u001b[39m] \u001b[38;5;241m=\u001b[39m df\u001b[38;5;241m.\u001b[39mapply(\u001b[38;5;28;01mlambda\u001b[39;00m row: \u001b[43mget_weather\u001b[49m\u001b[43m(\u001b[49m\u001b[43mrow\u001b[49m\u001b[43m[\u001b[49m\u001b[38;5;124;43m'\u001b[39;49m\u001b[38;5;124;43mTrip Start Time\u001b[39;49m\u001b[38;5;124;43m'\u001b[39;49m\u001b[43m]\u001b[49m\u001b[43m,\u001b[49m\u001b[43m \u001b[49m\u001b[43mrow\u001b[49m\u001b[43m[\u001b[49m\u001b[38;5;124;43m'\u001b[39;49m\u001b[38;5;124;43mTrip Origin_latitude\u001b[39;49m\u001b[38;5;124;43m'\u001b[39;49m\u001b[43m]\u001b[49m\u001b[43m,\u001b[49m\u001b[43m \u001b[49m\u001b[43mrow\u001b[49m\u001b[43m[\u001b[49m\u001b[38;5;124;43m'\u001b[39;49m\u001b[38;5;124;43mTrip Origin_longitude\u001b[39;49m\u001b[38;5;124;43m'\u001b[39;49m\u001b[43m]\u001b[49m\u001b[43m)\u001b[49m, axis\u001b[38;5;241m=\u001b[39m\u001b[38;5;241m1\u001b[39m)\n",
      "Cell \u001b[0;32mIn[16], line 11\u001b[0m, in \u001b[0;36mget_weather\u001b[0;34m(timestamp, lat, lon)\u001b[0m\n\u001b[1;32m      9\u001b[0m x \u001b[38;5;241m=\u001b[39m response\u001b[38;5;241m.\u001b[39mjson()\n\u001b[1;32m     10\u001b[0m \u001b[38;5;28;01mif\u001b[39;00m x[\u001b[38;5;124m\"\u001b[39m\u001b[38;5;124mcod\u001b[39m\u001b[38;5;124m\"\u001b[39m] \u001b[38;5;241m!=\u001b[39m \u001b[38;5;124m\"\u001b[39m\u001b[38;5;124m404\u001b[39m\u001b[38;5;124m\"\u001b[39m:\n\u001b[0;32m---> 11\u001b[0m     \u001b[38;5;28;01mreturn\u001b[39;00m \u001b[43mx\u001b[49m\u001b[43m[\u001b[49m\u001b[38;5;124;43m'\u001b[39;49m\u001b[38;5;124;43mweather\u001b[39;49m\u001b[38;5;124;43m'\u001b[39;49m\u001b[43m]\u001b[49m[\u001b[38;5;241m0\u001b[39m][\u001b[38;5;124m'\u001b[39m\u001b[38;5;124mmain\u001b[39m\u001b[38;5;124m'\u001b[39m]  \u001b[38;5;66;03m# Simplify to just the main weather condition\u001b[39;00m\n\u001b[1;32m     12\u001b[0m \u001b[38;5;28;01melse\u001b[39;00m:\n\u001b[1;32m     13\u001b[0m     \u001b[38;5;28;01mreturn\u001b[39;00m np\u001b[38;5;241m.\u001b[39mnan\n",
      "\u001b[0;31mKeyError\u001b[0m: 'weather'"
     ]
    }
   ],
   "source": [
    "\n",
    "# 4. Weather Data (Example using OpenWeatherMap API)\n",
    "# You'll need to get an API key from OpenWeatherMap\n",
    "api_key = \"6a3c58c45a46fa944097a6ca00cb8f8d\" \n",
    "\n",
    "def get_weather(timestamp, lat, lon):\n",
    "    base_url = \"http://api.openweathermap.org/data/2.5/weather?\"\n",
    "    complete_url = base_url + \"lat=\" + str(lat) + \"&lon=\" + str(lon) + \"&appid=\" + api_key\n",
    "    response = requests.get(complete_url) \n",
    "    x = response.json()\n",
    "    if x[\"cod\"] != \"404\":\n",
    "        return x['weather'][0]['main']  # Simplify to just the main weather condition\n",
    "    else:\n",
    "        return np.nan  # Missing if API call fails\n",
    "\n",
    "# Apply the weather function to get weather conditions (This might take a while for a large dataset)\n",
    "df['weather_condition'] = df.apply(lambda row: get_weather(row['Trip Start Time'], row['Trip Origin_latitude'], row['Trip Origin_longitude']), axis=1)\n"
   ]
  },
  {
   "cell_type": "code",
   "execution_count": 6,
   "metadata": {},
   "outputs": [
    {
     "ename": "TypeError",
     "evalue": "ord() expected string of length 1, but list found",
     "output_type": "error",
     "traceback": [
      "\u001b[0;31m---------------------------------------------------------------------------\u001b[0m",
      "\u001b[0;31mTypeError\u001b[0m                                 Traceback (most recent call last)",
      "Cell \u001b[0;32mIn[6], line 62\u001b[0m\n\u001b[1;32m     59\u001b[0m     \u001b[38;5;28;01mreturn\u001b[39;00m pd\u001b[38;5;241m.\u001b[39mDataFrame(results)\n\u001b[1;32m     61\u001b[0m \u001b[38;5;66;03m# enrich your `completed_orders` DataFrame\u001b[39;00m\n\u001b[0;32m---> 62\u001b[0m enriched_df \u001b[38;5;241m=\u001b[39m \u001b[43menrich_completed_orders\u001b[49m\u001b[43m(\u001b[49m\u001b[43mdf\u001b[49m\u001b[43m)\u001b[49m\n\u001b[1;32m     63\u001b[0m \u001b[38;5;28mprint\u001b[39m(enriched_df\u001b[38;5;241m.\u001b[39mhead()\u001b[38;5;241m.\u001b[39mto_markdown(index\u001b[38;5;241m=\u001b[39m\u001b[38;5;28;01mFalse\u001b[39;00m, numalign\u001b[38;5;241m=\u001b[39m\u001b[38;5;124m\"\u001b[39m\u001b[38;5;124mleft\u001b[39m\u001b[38;5;124m\"\u001b[39m, stralign\u001b[38;5;241m=\u001b[39m\u001b[38;5;124m\"\u001b[39m\u001b[38;5;124mleft\u001b[39m\u001b[38;5;124m\"\u001b[39m))\n",
      "Cell \u001b[0;32mIn[6], line 55\u001b[0m, in \u001b[0;36menrich_completed_orders\u001b[0;34m(df)\u001b[0m\n\u001b[1;32m     52\u001b[0m start_time \u001b[38;5;241m=\u001b[39m row[\u001b[38;5;124m'\u001b[39m\u001b[38;5;124mTrip Start Time\u001b[39m\u001b[38;5;124m'\u001b[39m]\n\u001b[1;32m     53\u001b[0m end_time \u001b[38;5;241m=\u001b[39m row[\u001b[38;5;124m'\u001b[39m\u001b[38;5;124mTrip End Time\u001b[39m\u001b[38;5;124m'\u001b[39m]\n\u001b[0;32m---> 55\u001b[0m route_info \u001b[38;5;241m=\u001b[39m \u001b[43mcalculate_route_info\u001b[49m\u001b[43m(\u001b[49m\u001b[43mstart_coords\u001b[49m\u001b[43m,\u001b[49m\u001b[43m \u001b[49m\u001b[43mend_coords\u001b[49m\u001b[43m,\u001b[49m\u001b[43m \u001b[49m\u001b[43mstart_time\u001b[49m\u001b[43m,\u001b[49m\u001b[43m \u001b[49m\u001b[43mend_time\u001b[49m\u001b[43m)\u001b[49m\n\u001b[1;32m     56\u001b[0m \u001b[38;5;28;01mif\u001b[39;00m route_info:\n\u001b[1;32m     57\u001b[0m     results\u001b[38;5;241m.\u001b[39mappend(route_info)\n",
      "Cell \u001b[0;32mIn[6], line 23\u001b[0m, in \u001b[0;36mcalculate_route_info\u001b[0;34m(start_coords, end_coords, start_time, end_time)\u001b[0m\n\u001b[1;32m     21\u001b[0m       total_duration \u001b[38;5;241m=\u001b[39m data[\u001b[38;5;124m'\u001b[39m\u001b[38;5;124mfeatures\u001b[39m\u001b[38;5;124m'\u001b[39m][\u001b[38;5;241m0\u001b[39m][\u001b[38;5;124m'\u001b[39m\u001b[38;5;124mproperties\u001b[39m\u001b[38;5;124m'\u001b[39m][\u001b[38;5;124m'\u001b[39m\u001b[38;5;124msummary\u001b[39m\u001b[38;5;124m'\u001b[39m][\u001b[38;5;124m'\u001b[39m\u001b[38;5;124mduration\u001b[39m\u001b[38;5;124m'\u001b[39m]  \u001b[38;5;66;03m# In seconds\u001b[39;00m\n\u001b[1;32m     22\u001b[0m \u001b[38;5;66;03m# Corrected polyline decoding:\u001b[39;00m\n\u001b[0;32m---> 23\u001b[0m       decoded_polyline \u001b[38;5;241m=\u001b[39m \u001b[43mpolyline\u001b[49m\u001b[38;5;241;43m.\u001b[39;49m\u001b[43mdecode\u001b[49m\u001b[43m(\u001b[49m\u001b[43mdata\u001b[49m\u001b[43m[\u001b[49m\u001b[38;5;124;43m'\u001b[39;49m\u001b[38;5;124;43mfeatures\u001b[39;49m\u001b[38;5;124;43m'\u001b[39;49m\u001b[43m]\u001b[49m\u001b[43m[\u001b[49m\u001b[38;5;241;43m0\u001b[39;49m\u001b[43m]\u001b[49m\u001b[43m[\u001b[49m\u001b[38;5;124;43m'\u001b[39;49m\u001b[38;5;124;43mgeometry\u001b[39;49m\u001b[38;5;124;43m'\u001b[39;49m\u001b[43m]\u001b[49m\u001b[43m[\u001b[49m\u001b[38;5;124;43m'\u001b[39;49m\u001b[38;5;124;43mcoordinates\u001b[39;49m\u001b[38;5;124;43m'\u001b[39;49m\u001b[43m]\u001b[49m\u001b[43m,\u001b[49m\u001b[43m \u001b[49m\u001b[43mgeojson\u001b[49m\u001b[38;5;241;43m=\u001b[39;49m\u001b[38;5;28;43;01mTrue\u001b[39;49;00m\u001b[43m)\u001b[49m\n\u001b[1;32m     25\u001b[0m       \u001b[38;5;66;03m# Calculate additional metrics\u001b[39;00m\n\u001b[1;32m     26\u001b[0m       straight_line_distance \u001b[38;5;241m=\u001b[39m geodesic(start_coords, end_coords)\u001b[38;5;241m.\u001b[39mmeters\n",
      "File \u001b[0;32m~/code/10Academy-training/week8/Causal-Inference-Delivery-Logistic-Location-Optimization/.venv/lib/python3.9/site-packages/polyline/polyline.py:60\u001b[0m, in \u001b[0;36mdecode\u001b[0;34m(expression, precision, geojson)\u001b[0m\n\u001b[1;32m     57\u001b[0m coordinates, index, lat, lng, length, factor \u001b[38;5;241m=\u001b[39m [], \u001b[38;5;241m0\u001b[39m, \u001b[38;5;241m0\u001b[39m, \u001b[38;5;241m0\u001b[39m, \u001b[38;5;28mlen\u001b[39m(expression), \u001b[38;5;28mfloat\u001b[39m(\u001b[38;5;241m10\u001b[39m \u001b[38;5;241m*\u001b[39m\u001b[38;5;241m*\u001b[39m precision)\n\u001b[1;32m     59\u001b[0m \u001b[38;5;28;01mwhile\u001b[39;00m index \u001b[38;5;241m<\u001b[39m length:\n\u001b[0;32m---> 60\u001b[0m     lat_change, index \u001b[38;5;241m=\u001b[39m \u001b[43m_trans\u001b[49m\u001b[43m(\u001b[49m\u001b[43mexpression\u001b[49m\u001b[43m,\u001b[49m\u001b[43m \u001b[49m\u001b[43mindex\u001b[49m\u001b[43m)\u001b[49m\n\u001b[1;32m     61\u001b[0m     lng_change, index \u001b[38;5;241m=\u001b[39m _trans(expression, index)\n\u001b[1;32m     62\u001b[0m     lat \u001b[38;5;241m+\u001b[39m\u001b[38;5;241m=\u001b[39m lat_change\n",
      "File \u001b[0;32m~/code/10Academy-training/week8/Causal-Inference-Delivery-Logistic-Location-Optimization/.venv/lib/python3.9/site-packages/polyline/polyline.py:38\u001b[0m, in \u001b[0;36m_trans\u001b[0;34m(value, index)\u001b[0m\n\u001b[1;32m     36\u001b[0m comp \u001b[38;5;241m=\u001b[39m \u001b[38;5;28;01mNone\u001b[39;00m\n\u001b[1;32m     37\u001b[0m \u001b[38;5;28;01mwhile\u001b[39;00m byte \u001b[38;5;129;01mis\u001b[39;00m \u001b[38;5;28;01mNone\u001b[39;00m \u001b[38;5;129;01mor\u001b[39;00m byte \u001b[38;5;241m>\u001b[39m\u001b[38;5;241m=\u001b[39m \u001b[38;5;241m0x20\u001b[39m:\n\u001b[0;32m---> 38\u001b[0m     byte \u001b[38;5;241m=\u001b[39m \u001b[38;5;28;43mord\u001b[39;49m\u001b[43m(\u001b[49m\u001b[43mvalue\u001b[49m\u001b[43m[\u001b[49m\u001b[43mindex\u001b[49m\u001b[43m]\u001b[49m\u001b[43m)\u001b[49m \u001b[38;5;241m-\u001b[39m \u001b[38;5;241m63\u001b[39m\n\u001b[1;32m     39\u001b[0m     index \u001b[38;5;241m+\u001b[39m\u001b[38;5;241m=\u001b[39m \u001b[38;5;241m1\u001b[39m\n\u001b[1;32m     40\u001b[0m     result \u001b[38;5;241m|\u001b[39m\u001b[38;5;241m=\u001b[39m (byte \u001b[38;5;241m&\u001b[39m \u001b[38;5;241m0x1f\u001b[39m) \u001b[38;5;241m<<\u001b[39m shift\n",
      "\u001b[0;31mTypeError\u001b[0m: ord() expected string of length 1, but list found"
     ]
    }
   ],
   "source": [
    "import requests\n",
    "import polyline\n",
    "import pandas as pd\n",
    "from geopy.distance import geodesic\n",
    "from datetime import datetime\n",
    "\n",
    "# Replace 'YOUR_API_KEY' with your actual OpenRouteService API key\n",
    "ORS_API_KEY = '5b3ce3597851110001cf624897f57a95cf064c12bc59c0d460fdf85f'\n",
    "\n",
    "def calculate_route_info(start_coords, end_coords, start_time, end_time):\n",
    "    \"\"\"Calculates route information using OpenRouteService API.\"\"\"\n",
    "\n",
    "    url = f\"https://api.openrouteservice.org/v2/directions/driving-car?api_key={ORS_API_KEY}&start={start_coords[1]},{start_coords[0]}&end={end_coords[1]},{end_coords[0]}\"\n",
    "    response = requests.get(url)\n",
    "\n",
    "    if response.status_code == 200:\n",
    "        data = response.json()\n",
    "\n",
    "        # Extract key information from the API response\n",
    "        total_distance = data['features'][0]['properties']['summary']['distance']\n",
    "        total_duration = data['features'][0]['properties']['summary']['duration']  # In seconds\n",
    "  # Corrected polyline decoding:\n",
    "        decoded_polyline = polyline.decode(data['features'][0]['geometry']['coordinates'], geojson=True)\n",
    "        \n",
    "        # Calculate additional metrics\n",
    "        straight_line_distance = geodesic(start_coords, end_coords).meters\n",
    "        average_speed = (total_distance / total_duration) * 3.6  # Convert m/s to km/h\n",
    "        trip_duration = end_time - start_time  # Assuming datetime objects\n",
    "\n",
    "        return {\n",
    "            'start_coords': start_coords,\n",
    "            'end_coords': end_coords,\n",
    "            'start_time': start_time,\n",
    "            'end_time': end_time,\n",
    "            'total_distance': total_distance,\n",
    "            'total_duration': total_duration,\n",
    "            'straight_line_distance': straight_line_distance,\n",
    "            'average_speed': average_speed,\n",
    "            'trip_duration': trip_duration.total_seconds(),\n",
    "            'route_coordinates': decoded_polyline\n",
    "        }\n",
    "    else:\n",
    "        print(f\"Error: {response.status_code}\")\n",
    "        return None\n",
    "\n",
    "# Example usage with the 'completed_orders' DataFrame\n",
    "def enrich_completed_orders(df):\n",
    "    results = []\n",
    "    for _, row in df.iterrows():\n",
    "        start_coords = (row['Trip Origin_latitude'], row['Trip Origin_longitude'])\n",
    "        end_coords = (row['Trip Destination_latitude'], row['Trip Destination_longitude'])\n",
    "        start_time = row['Trip Start Time']\n",
    "        end_time = row['Trip End Time']\n",
    "        \n",
    "        route_info = calculate_route_info(start_coords, end_coords, start_time, end_time)\n",
    "        if route_info:\n",
    "            results.append(route_info)\n",
    "    \n",
    "    return pd.DataFrame(results)\n",
    "\n",
    "# enrich your `completed_orders` DataFrame\n",
    "enriched_df = enrich_completed_orders(df)\n",
    "print(enriched_df.head().to_markdown(index=False, numalign=\"left\", stralign=\"left\"))\n"
   ]
  },
  {
   "cell_type": "code",
   "execution_count": null,
   "metadata": {},
   "outputs": [],
   "source": []
  }
 ],
 "metadata": {
  "kernelspec": {
   "display_name": ".venv",
   "language": "python",
   "name": "python3"
  },
  "language_info": {
   "codemirror_mode": {
    "name": "ipython",
    "version": 3
   },
   "file_extension": ".py",
   "mimetype": "text/x-python",
   "name": "python",
   "nbconvert_exporter": "python",
   "pygments_lexer": "ipython3",
   "version": "3.9.19"
  }
 },
 "nbformat": 4,
 "nbformat_minor": 2
}
