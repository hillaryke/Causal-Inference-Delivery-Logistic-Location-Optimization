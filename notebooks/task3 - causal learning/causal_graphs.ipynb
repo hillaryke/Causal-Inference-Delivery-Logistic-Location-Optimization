{
 "cells": [
  {
   "cell_type": "code",
   "execution_count": 1,
   "metadata": {},
   "outputs": [],
   "source": [
    "import pandas as pd\n",
    "from sklearn.model_selection import train_test_split\n",
    "\n",
    "import os\n",
    "os.chdir(\"../../\")\n",
    "\n",
    "from src import display_df"
   ]
  },
  {
   "cell_type": "code",
   "execution_count": 2,
   "metadata": {},
   "outputs": [],
   "source": [
    "df = pd.read_csv(\"data/features/features_data.csv\")"
   ]
  },
  {
   "cell_type": "code",
   "execution_count": 3,
   "metadata": {},
   "outputs": [
    {
     "name": "stdout",
     "output_type": "stream",
     "text": [
      "| order_id   | trip_origin         | trip_destination    | trip_start_time     | trip_end_time       | id   | driver_id   | driver_action   | drivers_lat   | drivers_lon   | day_of_week   | hour_of_day   | day_of_month   | month   | trip_start_date   | trip_end_date   | trip_origin_latitude   | trip_origin_longitude   | trip_destination_latitude   | trip_destination_longitude   | is_weekend   | is_holiday   |\n",
      "|:-----------|:--------------------|:--------------------|:--------------------|:--------------------|:-----|:------------|:----------------|:--------------|:--------------|:--------------|:--------------|:---------------|:--------|:------------------|:----------------|:-----------------------|:------------------------|:----------------------------|:-----------------------------|:-------------|:-------------|\n",
      "| 392001     | 6.6010417,3.2766339 | 6.4501069,3.3916154 | 2021-07-01 09:30:59 | 2021-07-01 09:34:36 | 1    | 243828      | accepted        | 6.60221       | 3.27046       | Thursday      | 9             | 1              | July    | 2021-07-01        | 2021-07-01      | 6.60104                | 3.27663                 | 6.45011                     | 3.39162                      | 0            | 0            |\n",
      "| 392001     | 6.6010417,3.2766339 | 6.4501069,3.3916154 | 2021-07-01 09:30:59 | 2021-07-01 09:34:36 | 2    | 243588      | rejected        | 6.5921        | 3.28744       | Thursday      | 9             | 1              | July    | 2021-07-01        | 2021-07-01      | 6.60104                | 3.27663                 | 6.45011                     | 3.39162                      | 0            | 0            |\n",
      "| 392001     | 6.6010417,3.2766339 | 6.4501069,3.3916154 | 2021-07-01 09:30:59 | 2021-07-01 09:34:36 | 3    | 243830      | rejected        | 6.59613       | 3.28178       | Thursday      | 9             | 1              | July    | 2021-07-01        | 2021-07-01      | 6.60104                | 3.27663                 | 6.45011                     | 3.39162                      | 0            | 0            |\n",
      "| 392001     | 6.6010417,3.2766339 | 6.4501069,3.3916154 | 2021-07-01 09:30:59 | 2021-07-01 09:34:36 | 4    | 243539      | rejected        | 6.59614       | 3.28053       | Thursday      | 9             | 1              | July    | 2021-07-01        | 2021-07-01      | 6.60104                | 3.27663                 | 6.45011                     | 3.39162                      | 0            | 0            |\n",
      "| 392001     | 6.6010417,3.2766339 | 6.4501069,3.3916154 | 2021-07-01 09:30:59 | 2021-07-01 09:34:36 | 5    | 171653      | rejected        | 6.60923       | 3.2888        | Thursday      | 9             | 1              | July    | 2021-07-01        | 2021-07-01      | 6.60104                | 3.27663                 | 6.45011                     | 3.39162                      | 0            | 0            |\n"
     ]
    }
   ],
   "source": [
    "display_df(df)"
   ]
  },
  {
   "cell_type": "markdown",
   "metadata": {},
   "source": [
    "#### Drop irrelevant columns"
   ]
  },
  {
   "cell_type": "code",
   "execution_count": 8,
   "metadata": {},
   "outputs": [],
   "source": [
    "# Drop columns not needed for training\n",
    "drop_col = ['order_id', \n",
    "            'trip_start_time', \n",
    "            'trip_end_time',\n",
    "            \"trip_origin\",\n",
    "            \"trip_destination\",\n",
    "            \"id\", \n",
    "            \"driver_id\", \n",
    "            \"drivers_lat\", \n",
    "            \"drivers_lon\", \n",
    "            \"trip_start_date\", \n",
    "            \"trip_end_date\",\n",
    "          ]"
   ]
  },
  {
   "cell_type": "code",
   "execution_count": null,
   "metadata": {},
   "outputs": [],
   "source": []
  },
  {
   "cell_type": "code",
   "execution_count": 9,
   "metadata": {},
   "outputs": [
    {
     "name": "stdout",
     "output_type": "stream",
     "text": [
      "| driver_action   | day_of_week   | hour_of_day   | day_of_month   | month   | trip_origin_latitude   | trip_origin_longitude   | trip_destination_latitude   | trip_destination_longitude   | is_weekend   | is_holiday   |\n",
      "|:----------------|:--------------|:--------------|:---------------|:--------|:-----------------------|:------------------------|:----------------------------|:-----------------------------|:-------------|:-------------|\n",
      "| accepted        | Thursday      | 9             | 1              | July    | 6.60104                | 3.27663                 | 6.45011                     | 3.39162                      | 0            | 0            |\n",
      "| rejected        | Thursday      | 9             | 1              | July    | 6.60104                | 3.27663                 | 6.45011                     | 3.39162                      | 0            | 0            |\n",
      "| rejected        | Thursday      | 9             | 1              | July    | 6.60104                | 3.27663                 | 6.45011                     | 3.39162                      | 0            | 0            |\n",
      "| rejected        | Thursday      | 9             | 1              | July    | 6.60104                | 3.27663                 | 6.45011                     | 3.39162                      | 0            | 0            |\n",
      "| rejected        | Thursday      | 9             | 1              | July    | 6.60104                | 3.27663                 | 6.45011                     | 3.39162                      | 0            | 0            |\n"
     ]
    }
   ],
   "source": [
    "data = df.drop(columns=drop_col)\n",
    "display_df(data)"
   ]
  },
  {
   "cell_type": "markdown",
   "metadata": {},
   "source": [
    "#### Make the data numeric. We can use label encoding for the categorical columns."
   ]
  },
  {
   "cell_type": "markdown",
   "metadata": {},
   "source": [
    "###### Display the non numeric columns"
   ]
  },
  {
   "cell_type": "code",
   "execution_count": 10,
   "metadata": {},
   "outputs": [
    {
     "name": "stdout",
     "output_type": "stream",
     "text": [
      "['driver_action', 'day_of_week', 'month']\n"
     ]
    }
   ],
   "source": [
    "import numpy as np\n",
    "\n",
    "struct_data = data.copy()\n",
    "non_numeric_columns = list(struct_data.select_dtypes(exclude=[np.number]).columns)\n",
    "\n",
    "print(non_numeric_columns)"
   ]
  },
  {
   "cell_type": "code",
   "execution_count": 11,
   "metadata": {},
   "outputs": [
    {
     "name": "stdout",
     "output_type": "stream",
     "text": [
      "| driver_action   | day_of_week   | hour_of_day   | day_of_month   | month   | trip_origin_latitude   | trip_origin_longitude   | trip_destination_latitude   | trip_destination_longitude   | is_weekend   | is_holiday   |\n",
      "|:----------------|:--------------|:--------------|:---------------|:--------|:-----------------------|:------------------------|:----------------------------|:-----------------------------|:-------------|:-------------|\n",
      "| 0               | 4             | 9             | 1              | 3       | 6.60104                | 3.27663                 | 6.45011                     | 3.39162                      | 0            | 0            |\n",
      "| 1               | 4             | 9             | 1              | 3       | 6.60104                | 3.27663                 | 6.45011                     | 3.39162                      | 0            | 0            |\n",
      "| 1               | 4             | 9             | 1              | 3       | 6.60104                | 3.27663                 | 6.45011                     | 3.39162                      | 0            | 0            |\n",
      "| 1               | 4             | 9             | 1              | 3       | 6.60104                | 3.27663                 | 6.45011                     | 3.39162                      | 0            | 0            |\n",
      "| 1               | 4             | 9             | 1              | 3       | 6.60104                | 3.27663                 | 6.45011                     | 3.39162                      | 0            | 0            |\n"
     ]
    }
   ],
   "source": [
    "from sklearn.preprocessing import LabelEncoder\n",
    "\n",
    "le = LabelEncoder()\n",
    "\n",
    "for col in non_numeric_columns:\n",
    "    struct_data[col] = le.fit_transform(struct_data[col])\n",
    "\n",
    "display_df(struct_data)"
   ]
  },
  {
   "cell_type": "markdown",
   "metadata": {},
   "source": [
    "### Apply NOTEARS algorithm to learn the structure of the data"
   ]
  },
  {
   "cell_type": "code",
   "execution_count": null,
   "metadata": {},
   "outputs": [],
   "source": []
  },
  {
   "cell_type": "markdown",
   "metadata": {},
   "source": [
    "##### Split the data into train and test sets"
   ]
  },
  {
   "cell_type": "code",
   "execution_count": null,
   "metadata": {},
   "outputs": [],
   "source": [
    "\n",
    "# 1. Split Data into Training and Hold-out Set\n",
    "train_data, holdout_data = train_test_split(df, test_size=0.2, random_state=42)\n"
   ]
  },
  {
   "cell_type": "code",
   "execution_count": 6,
   "metadata": {},
   "outputs": [
    {
     "ename": "ModuleNotFoundError",
     "evalue": "No module named 'causalnex.structure.data_info'",
     "output_type": "error",
     "traceback": [
      "\u001b[0;31m---------------------------------------------------------------------------\u001b[0m",
      "\u001b[0;31mModuleNotFoundError\u001b[0m                       Traceback (most recent call last)",
      "Cell \u001b[0;32mIn[6], line 1\u001b[0m\n\u001b[0;32m----> 1\u001b[0m \u001b[38;5;28;01mfrom\u001b[39;00m \u001b[38;5;21;01mcausalnex\u001b[39;00m\u001b[38;5;21;01m.\u001b[39;00m\u001b[38;5;21;01mstructure\u001b[39;00m\u001b[38;5;21;01m.\u001b[39;00m\u001b[38;5;21;01mdata_info\u001b[39;00m \u001b[38;5;28;01mimport\u001b[39;00m DataInfo\n\u001b[1;32m      3\u001b[0m \u001b[38;5;66;03m# Assuming 'df' is your DataFrame\u001b[39;00m\n\u001b[1;32m      4\u001b[0m \n\u001b[1;32m      5\u001b[0m \u001b[38;5;66;03m# Identify categorical columns based on their data type (object or category)\u001b[39;00m\n\u001b[1;32m      6\u001b[0m categorical_cols \u001b[38;5;241m=\u001b[39m df\u001b[38;5;241m.\u001b[39mselect_dtypes(include\u001b[38;5;241m=\u001b[39m[\u001b[38;5;124m'\u001b[39m\u001b[38;5;124mobject\u001b[39m\u001b[38;5;124m'\u001b[39m, \u001b[38;5;124m'\u001b[39m\u001b[38;5;124mcategory\u001b[39m\u001b[38;5;124m'\u001b[39m])\u001b[38;5;241m.\u001b[39mcolumns\n",
      "\u001b[0;31mModuleNotFoundError\u001b[0m: No module named 'causalnex.structure.data_info'"
     ]
    }
   ],
   "source": [
    "from causalnex.structure.data_info import DataInfo\n",
    "\n",
    "# Assuming 'df' is your DataFrame\n",
    "\n",
    "# Identify categorical columns based on their data type (object or category)\n",
    "categorical_cols = df.select_dtypes(include=['object', 'category']).columns\n",
    "\n",
    "# Create a DataInfo object to store information about the data\n",
    "data_info = DataInfo(df)\n",
    "\n",
    "# Update the data_info object to mark the identified columns as categorical\n",
    "for col in categorical_cols:\n",
    "    data_info = data_info.set_categorical(col)\n",
    "\n",
    "# Now, you can use this data_info object when creating your causal graph\n",
    "# For example, with the StructureModel class:\n",
    "from causalnex.structure import StructureModel\n",
    "sm = StructureModel(data_info=data_info)\n"
   ]
  },
  {
   "cell_type": "code",
   "execution_count": 5,
   "metadata": {},
   "outputs": [
    {
     "ename": "KeyError",
     "evalue": "'Trip Origin'",
     "output_type": "error",
     "traceback": [
      "\u001b[0;31m---------------------------------------------------------------------------\u001b[0m",
      "\u001b[0;31mKeyError\u001b[0m                                  Traceback (most recent call last)",
      "File \u001b[0;32m~/code/10Academy-training/week8/Causal-Inference-Delivery-Logistic-Location-Optimization/.venv/lib/python3.9/site-packages/pandas/core/indexes/base.py:3802\u001b[0m, in \u001b[0;36mIndex.get_loc\u001b[0;34m(self, key, method, tolerance)\u001b[0m\n\u001b[1;32m   3801\u001b[0m \u001b[38;5;28;01mtry\u001b[39;00m:\n\u001b[0;32m-> 3802\u001b[0m     \u001b[38;5;28;01mreturn\u001b[39;00m \u001b[38;5;28;43mself\u001b[39;49m\u001b[38;5;241;43m.\u001b[39;49m\u001b[43m_engine\u001b[49m\u001b[38;5;241;43m.\u001b[39;49m\u001b[43mget_loc\u001b[49m\u001b[43m(\u001b[49m\u001b[43mcasted_key\u001b[49m\u001b[43m)\u001b[49m\n\u001b[1;32m   3803\u001b[0m \u001b[38;5;28;01mexcept\u001b[39;00m \u001b[38;5;167;01mKeyError\u001b[39;00m \u001b[38;5;28;01mas\u001b[39;00m err:\n",
      "File \u001b[0;32m~/code/10Academy-training/week8/Causal-Inference-Delivery-Logistic-Location-Optimization/.venv/lib/python3.9/site-packages/pandas/_libs/index.pyx:138\u001b[0m, in \u001b[0;36mpandas._libs.index.IndexEngine.get_loc\u001b[0;34m()\u001b[0m\n",
      "File \u001b[0;32m~/code/10Academy-training/week8/Causal-Inference-Delivery-Logistic-Location-Optimization/.venv/lib/python3.9/site-packages/pandas/_libs/index.pyx:165\u001b[0m, in \u001b[0;36mpandas._libs.index.IndexEngine.get_loc\u001b[0;34m()\u001b[0m\n",
      "File \u001b[0;32mpandas/_libs/hashtable_class_helper.pxi:5745\u001b[0m, in \u001b[0;36mpandas._libs.hashtable.PyObjectHashTable.get_item\u001b[0;34m()\u001b[0m\n",
      "File \u001b[0;32mpandas/_libs/hashtable_class_helper.pxi:5753\u001b[0m, in \u001b[0;36mpandas._libs.hashtable.PyObjectHashTable.get_item\u001b[0;34m()\u001b[0m\n",
      "\u001b[0;31mKeyError\u001b[0m: 'Trip Origin'",
      "\nThe above exception was the direct cause of the following exception:\n",
      "\u001b[0;31mKeyError\u001b[0m                                  Traceback (most recent call last)",
      "Cell \u001b[0;32mIn[5], line 6\u001b[0m\n\u001b[1;32m      4\u001b[0m \u001b[38;5;66;03m# Convert categorical variables to numeric codes\u001b[39;00m\n\u001b[1;32m      5\u001b[0m \u001b[38;5;28;01mfor\u001b[39;00m col \u001b[38;5;129;01min\u001b[39;00m [\u001b[38;5;124m'\u001b[39m\u001b[38;5;124mTrip Origin\u001b[39m\u001b[38;5;124m'\u001b[39m, \u001b[38;5;124m'\u001b[39m\u001b[38;5;124mTrip Destination\u001b[39m\u001b[38;5;124m'\u001b[39m, \u001b[38;5;124m'\u001b[39m\u001b[38;5;124mday_of_week\u001b[39m\u001b[38;5;124m'\u001b[39m, \u001b[38;5;124m'\u001b[39m\u001b[38;5;124mmonth\u001b[39m\u001b[38;5;124m'\u001b[39m]:\n\u001b[0;32m----> 6\u001b[0m     train_data[col] \u001b[38;5;241m=\u001b[39m pd\u001b[38;5;241m.\u001b[39mCategorical(\u001b[43mtrain_data\u001b[49m\u001b[43m[\u001b[49m\u001b[43mcol\u001b[49m\u001b[43m]\u001b[49m)\u001b[38;5;241m.\u001b[39mcodes\n\u001b[1;32m      8\u001b[0m \u001b[38;5;66;03m# Convert datetime variables to timestamps\u001b[39;00m\n\u001b[1;32m      9\u001b[0m \u001b[38;5;28;01mfor\u001b[39;00m col \u001b[38;5;129;01min\u001b[39;00m [\u001b[38;5;124m'\u001b[39m\u001b[38;5;124mTrip Start Time\u001b[39m\u001b[38;5;124m'\u001b[39m, \u001b[38;5;124m'\u001b[39m\u001b[38;5;124mTrip End Time\u001b[39m\u001b[38;5;124m'\u001b[39m, \u001b[38;5;124m'\u001b[39m\u001b[38;5;124mTrip Start Date\u001b[39m\u001b[38;5;124m'\u001b[39m]:\n",
      "File \u001b[0;32m~/code/10Academy-training/week8/Causal-Inference-Delivery-Logistic-Location-Optimization/.venv/lib/python3.9/site-packages/pandas/core/frame.py:3807\u001b[0m, in \u001b[0;36mDataFrame.__getitem__\u001b[0;34m(self, key)\u001b[0m\n\u001b[1;32m   3805\u001b[0m \u001b[38;5;28;01mif\u001b[39;00m \u001b[38;5;28mself\u001b[39m\u001b[38;5;241m.\u001b[39mcolumns\u001b[38;5;241m.\u001b[39mnlevels \u001b[38;5;241m>\u001b[39m \u001b[38;5;241m1\u001b[39m:\n\u001b[1;32m   3806\u001b[0m     \u001b[38;5;28;01mreturn\u001b[39;00m \u001b[38;5;28mself\u001b[39m\u001b[38;5;241m.\u001b[39m_getitem_multilevel(key)\n\u001b[0;32m-> 3807\u001b[0m indexer \u001b[38;5;241m=\u001b[39m \u001b[38;5;28;43mself\u001b[39;49m\u001b[38;5;241;43m.\u001b[39;49m\u001b[43mcolumns\u001b[49m\u001b[38;5;241;43m.\u001b[39;49m\u001b[43mget_loc\u001b[49m\u001b[43m(\u001b[49m\u001b[43mkey\u001b[49m\u001b[43m)\u001b[49m\n\u001b[1;32m   3808\u001b[0m \u001b[38;5;28;01mif\u001b[39;00m is_integer(indexer):\n\u001b[1;32m   3809\u001b[0m     indexer \u001b[38;5;241m=\u001b[39m [indexer]\n",
      "File \u001b[0;32m~/code/10Academy-training/week8/Causal-Inference-Delivery-Logistic-Location-Optimization/.venv/lib/python3.9/site-packages/pandas/core/indexes/base.py:3804\u001b[0m, in \u001b[0;36mIndex.get_loc\u001b[0;34m(self, key, method, tolerance)\u001b[0m\n\u001b[1;32m   3802\u001b[0m     \u001b[38;5;28;01mreturn\u001b[39;00m \u001b[38;5;28mself\u001b[39m\u001b[38;5;241m.\u001b[39m_engine\u001b[38;5;241m.\u001b[39mget_loc(casted_key)\n\u001b[1;32m   3803\u001b[0m \u001b[38;5;28;01mexcept\u001b[39;00m \u001b[38;5;167;01mKeyError\u001b[39;00m \u001b[38;5;28;01mas\u001b[39;00m err:\n\u001b[0;32m-> 3804\u001b[0m     \u001b[38;5;28;01mraise\u001b[39;00m \u001b[38;5;167;01mKeyError\u001b[39;00m(key) \u001b[38;5;28;01mfrom\u001b[39;00m \u001b[38;5;21;01merr\u001b[39;00m\n\u001b[1;32m   3805\u001b[0m \u001b[38;5;28;01mexcept\u001b[39;00m \u001b[38;5;167;01mTypeError\u001b[39;00m:\n\u001b[1;32m   3806\u001b[0m     \u001b[38;5;66;03m# If we have a listlike key, _check_indexing_error will raise\u001b[39;00m\n\u001b[1;32m   3807\u001b[0m     \u001b[38;5;66;03m#  InvalidIndexError. Otherwise we fall through and re-raise\u001b[39;00m\n\u001b[1;32m   3808\u001b[0m     \u001b[38;5;66;03m#  the TypeError.\u001b[39;00m\n\u001b[1;32m   3809\u001b[0m     \u001b[38;5;28mself\u001b[39m\u001b[38;5;241m.\u001b[39m_check_indexing_error(key)\n",
      "\u001b[0;31mKeyError\u001b[0m: 'Trip Origin'"
     ]
    }
   ],
   "source": [
    "from causalnex.structure import StructureModel\n",
    "from causalnex.structure.notears import from_pandas\n",
    "\n",
    "# Convert categorical variables to numeric codes\n",
    "for col in ['trip_origin', 'Trip Destination', 'day_of_week', 'month']:\n",
    "    train_data[col] = pd.Categorical(train_data[col]).codes\n",
    "\n",
    "# Convert datetime variables to timestamps\n",
    "for col in ['Trip Start Time', 'Trip End Time', 'Trip Start Date']:\n",
    "    train_data[col] = pd.to_datetime(train_data[col]).astype(int) / 10**9\n"
   ]
  },
  {
   "cell_type": "code",
   "execution_count": null,
   "metadata": {},
   "outputs": [
    {
     "data": {
      "text/html": [
       "<div>\n",
       "<style scoped>\n",
       "    .dataframe tbody tr th:only-of-type {\n",
       "        vertical-align: middle;\n",
       "    }\n",
       "\n",
       "    .dataframe tbody tr th {\n",
       "        vertical-align: top;\n",
       "    }\n",
       "\n",
       "    .dataframe thead th {\n",
       "        text-align: right;\n",
       "    }\n",
       "</style>\n",
       "<table border=\"1\" class=\"dataframe\">\n",
       "  <thead>\n",
       "    <tr style=\"text-align: right;\">\n",
       "      <th></th>\n",
       "      <th>Trip ID</th>\n",
       "      <th>Trip Origin</th>\n",
       "      <th>Trip Destination</th>\n",
       "      <th>Trip Start Time</th>\n",
       "      <th>Trip End Time</th>\n",
       "      <th>day_of_week</th>\n",
       "      <th>hour_of_day</th>\n",
       "      <th>day_of_month</th>\n",
       "      <th>month</th>\n",
       "      <th>Trip Origin_latitude</th>\n",
       "      <th>Trip Origin_longitude</th>\n",
       "      <th>Trip Destination_latitude</th>\n",
       "      <th>Trip Destination_longitude</th>\n",
       "      <th>trip_duration</th>\n",
       "      <th>is_holiday</th>\n",
       "      <th>is_weekend</th>\n",
       "      <th>Trip Start Date</th>\n",
       "    </tr>\n",
       "  </thead>\n",
       "  <tbody>\n",
       "    <tr>\n",
       "      <th>121</th>\n",
       "      <td>392249</td>\n",
       "      <td>222</td>\n",
       "      <td>216</td>\n",
       "      <td>1.625098e+09</td>\n",
       "      <td>1.625132e+09</td>\n",
       "      <td>1</td>\n",
       "      <td>8</td>\n",
       "      <td>1</td>\n",
       "      <td>0</td>\n",
       "      <td>6.559589</td>\n",
       "      <td>3.385647</td>\n",
       "      <td>6.531492</td>\n",
       "      <td>3.335939</td>\n",
       "      <td>2570.0</td>\n",
       "      <td>0</td>\n",
       "      <td>0</td>\n",
       "      <td>1.625098e+09</td>\n",
       "    </tr>\n",
       "    <tr>\n",
       "      <th>499</th>\n",
       "      <td>392904</td>\n",
       "      <td>81</td>\n",
       "      <td>271</td>\n",
       "      <td>1.625098e+09</td>\n",
       "      <td>1.625137e+09</td>\n",
       "      <td>1</td>\n",
       "      <td>10</td>\n",
       "      <td>1</td>\n",
       "      <td>0</td>\n",
       "      <td>6.458720</td>\n",
       "      <td>3.442086</td>\n",
       "      <td>6.576325</td>\n",
       "      <td>3.347018</td>\n",
       "      <td>2684.0</td>\n",
       "      <td>0</td>\n",
       "      <td>0</td>\n",
       "      <td>1.625098e+09</td>\n",
       "    </tr>\n",
       "    <tr>\n",
       "      <th>20</th>\n",
       "      <td>392040</td>\n",
       "      <td>126</td>\n",
       "      <td>138</td>\n",
       "      <td>1.625098e+09</td>\n",
       "      <td>1.625148e+09</td>\n",
       "      <td>1</td>\n",
       "      <td>10</td>\n",
       "      <td>1</td>\n",
       "      <td>0</td>\n",
       "      <td>6.500608</td>\n",
       "      <td>3.598194</td>\n",
       "      <td>6.480557</td>\n",
       "      <td>3.280383</td>\n",
       "      <td>13018.0</td>\n",
       "      <td>0</td>\n",
       "      <td>0</td>\n",
       "      <td>1.625098e+09</td>\n",
       "    </tr>\n",
       "    <tr>\n",
       "      <th>188</th>\n",
       "      <td>392375</td>\n",
       "      <td>240</td>\n",
       "      <td>224</td>\n",
       "      <td>1.625098e+09</td>\n",
       "      <td>1.625134e+09</td>\n",
       "      <td>1</td>\n",
       "      <td>9</td>\n",
       "      <td>1</td>\n",
       "      <td>0</td>\n",
       "      <td>6.569703</td>\n",
       "      <td>3.262063</td>\n",
       "      <td>6.538651</td>\n",
       "      <td>3.332084</td>\n",
       "      <td>3294.0</td>\n",
       "      <td>0</td>\n",
       "      <td>0</td>\n",
       "      <td>1.625098e+09</td>\n",
       "    </tr>\n",
       "    <tr>\n",
       "      <th>71</th>\n",
       "      <td>392148</td>\n",
       "      <td>61</td>\n",
       "      <td>109</td>\n",
       "      <td>1.625098e+09</td>\n",
       "      <td>1.625129e+09</td>\n",
       "      <td>1</td>\n",
       "      <td>8</td>\n",
       "      <td>1</td>\n",
       "      <td>0</td>\n",
       "      <td>6.449082</td>\n",
       "      <td>3.403790</td>\n",
       "      <td>6.459446</td>\n",
       "      <td>3.370149</td>\n",
       "      <td>2183.0</td>\n",
       "      <td>0</td>\n",
       "      <td>0</td>\n",
       "      <td>1.625098e+09</td>\n",
       "    </tr>\n",
       "    <tr>\n",
       "      <th>106</th>\n",
       "      <td>392217</td>\n",
       "      <td>166</td>\n",
       "      <td>295</td>\n",
       "      <td>1.625098e+09</td>\n",
       "      <td>1.625132e+09</td>\n",
       "      <td>1</td>\n",
       "      <td>9</td>\n",
       "      <td>1</td>\n",
       "      <td>0</td>\n",
       "      <td>6.524381</td>\n",
       "      <td>3.388800</td>\n",
       "      <td>6.592106</td>\n",
       "      <td>3.338791</td>\n",
       "      <td>2378.0</td>\n",
       "      <td>0</td>\n",
       "      <td>0</td>\n",
       "      <td>1.625098e+09</td>\n",
       "    </tr>\n",
       "    <tr>\n",
       "      <th>270</th>\n",
       "      <td>392521</td>\n",
       "      <td>303</td>\n",
       "      <td>278</td>\n",
       "      <td>1.625098e+09</td>\n",
       "      <td>1.625133e+09</td>\n",
       "      <td>1</td>\n",
       "      <td>9</td>\n",
       "      <td>1</td>\n",
       "      <td>0</td>\n",
       "      <td>6.601529</td>\n",
       "      <td>3.363380</td>\n",
       "      <td>6.581541</td>\n",
       "      <td>3.360005</td>\n",
       "      <td>2194.0</td>\n",
       "      <td>0</td>\n",
       "      <td>0</td>\n",
       "      <td>1.625098e+09</td>\n",
       "    </tr>\n",
       "    <tr>\n",
       "      <th>348</th>\n",
       "      <td>392660</td>\n",
       "      <td>93</td>\n",
       "      <td>72</td>\n",
       "      <td>1.625098e+09</td>\n",
       "      <td>1.625140e+09</td>\n",
       "      <td>1</td>\n",
       "      <td>9</td>\n",
       "      <td>1</td>\n",
       "      <td>0</td>\n",
       "      <td>6.471358</td>\n",
       "      <td>3.278997</td>\n",
       "      <td>6.447023</td>\n",
       "      <td>3.462735</td>\n",
       "      <td>8250.0</td>\n",
       "      <td>0</td>\n",
       "      <td>0</td>\n",
       "      <td>1.625098e+09</td>\n",
       "    </tr>\n",
       "    <tr>\n",
       "      <th>435</th>\n",
       "      <td>392802</td>\n",
       "      <td>237</td>\n",
       "      <td>102</td>\n",
       "      <td>1.625098e+09</td>\n",
       "      <td>1.625147e+09</td>\n",
       "      <td>1</td>\n",
       "      <td>10</td>\n",
       "      <td>1</td>\n",
       "      <td>0</td>\n",
       "      <td>6.568494</td>\n",
       "      <td>3.379576</td>\n",
       "      <td>6.456731</td>\n",
       "      <td>3.530940</td>\n",
       "      <td>12977.0</td>\n",
       "      <td>0</td>\n",
       "      <td>0</td>\n",
       "      <td>1.625098e+09</td>\n",
       "    </tr>\n",
       "    <tr>\n",
       "      <th>102</th>\n",
       "      <td>392208</td>\n",
       "      <td>318</td>\n",
       "      <td>164</td>\n",
       "      <td>1.625098e+09</td>\n",
       "      <td>1.625131e+09</td>\n",
       "      <td>1</td>\n",
       "      <td>8</td>\n",
       "      <td>1</td>\n",
       "      <td>0</td>\n",
       "      <td>6.605953</td>\n",
       "      <td>3.386028</td>\n",
       "      <td>6.497595</td>\n",
       "      <td>3.383098</td>\n",
       "      <td>4141.0</td>\n",
       "      <td>0</td>\n",
       "      <td>0</td>\n",
       "      <td>1.625098e+09</td>\n",
       "    </tr>\n",
       "  </tbody>\n",
       "</table>\n",
       "</div>"
      ],
      "text/plain": [
       "     Trip ID  Trip Origin  Trip Destination  Trip Start Time  Trip End Time  \\\n",
       "121   392249          222               216     1.625098e+09   1.625132e+09   \n",
       "499   392904           81               271     1.625098e+09   1.625137e+09   \n",
       "20    392040          126               138     1.625098e+09   1.625148e+09   \n",
       "188   392375          240               224     1.625098e+09   1.625134e+09   \n",
       "71    392148           61               109     1.625098e+09   1.625129e+09   \n",
       "106   392217          166               295     1.625098e+09   1.625132e+09   \n",
       "270   392521          303               278     1.625098e+09   1.625133e+09   \n",
       "348   392660           93                72     1.625098e+09   1.625140e+09   \n",
       "435   392802          237               102     1.625098e+09   1.625147e+09   \n",
       "102   392208          318               164     1.625098e+09   1.625131e+09   \n",
       "\n",
       "     day_of_week  hour_of_day  day_of_month  month  Trip Origin_latitude  \\\n",
       "121            1            8             1      0              6.559589   \n",
       "499            1           10             1      0              6.458720   \n",
       "20             1           10             1      0              6.500608   \n",
       "188            1            9             1      0              6.569703   \n",
       "71             1            8             1      0              6.449082   \n",
       "106            1            9             1      0              6.524381   \n",
       "270            1            9             1      0              6.601529   \n",
       "348            1            9             1      0              6.471358   \n",
       "435            1           10             1      0              6.568494   \n",
       "102            1            8             1      0              6.605953   \n",
       "\n",
       "     Trip Origin_longitude  Trip Destination_latitude  \\\n",
       "121               3.385647                   6.531492   \n",
       "499               3.442086                   6.576325   \n",
       "20                3.598194                   6.480557   \n",
       "188               3.262063                   6.538651   \n",
       "71                3.403790                   6.459446   \n",
       "106               3.388800                   6.592106   \n",
       "270               3.363380                   6.581541   \n",
       "348               3.278997                   6.447023   \n",
       "435               3.379576                   6.456731   \n",
       "102               3.386028                   6.497595   \n",
       "\n",
       "     Trip Destination_longitude  trip_duration  is_holiday  is_weekend  \\\n",
       "121                    3.335939         2570.0           0           0   \n",
       "499                    3.347018         2684.0           0           0   \n",
       "20                     3.280383        13018.0           0           0   \n",
       "188                    3.332084         3294.0           0           0   \n",
       "71                     3.370149         2183.0           0           0   \n",
       "106                    3.338791         2378.0           0           0   \n",
       "270                    3.360005         2194.0           0           0   \n",
       "348                    3.462735         8250.0           0           0   \n",
       "435                    3.530940        12977.0           0           0   \n",
       "102                    3.383098         4141.0           0           0   \n",
       "\n",
       "     Trip Start Date  \n",
       "121     1.625098e+09  \n",
       "499     1.625098e+09  \n",
       "20      1.625098e+09  \n",
       "188     1.625098e+09  \n",
       "71      1.625098e+09  \n",
       "106     1.625098e+09  \n",
       "270     1.625098e+09  \n",
       "348     1.625098e+09  \n",
       "435     1.625098e+09  \n",
       "102     1.625098e+09  "
      ]
     },
     "execution_count": 34,
     "metadata": {},
     "output_type": "execute_result"
    }
   ],
   "source": [
    "display_df(train_data)"
   ]
  },
  {
   "cell_type": "code",
   "execution_count": null,
   "metadata": {},
   "outputs": [],
   "source": []
  },
  {
   "cell_type": "code",
   "execution_count": 41,
   "metadata": {},
   "outputs": [
    {
     "name": "stdout",
     "output_type": "stream",
     "text": [
      "./causal_example.html\n"
     ]
    },
    {
     "data": {
      "text/html": [
       "\n",
       "        <iframe\n",
       "            width=\"100%\"\n",
       "            height=\"600px\"\n",
       "            src=\"./causal_example.html\"\n",
       "            frameborder=\"0\"\n",
       "            allowfullscreen\n",
       "            \n",
       "        ></iframe>\n",
       "        "
      ],
      "text/plain": [
       "<IPython.lib.display.IFrame at 0x7161673783d0>"
      ]
     },
     "execution_count": 41,
     "metadata": {},
     "output_type": "execute_result"
    }
   ],
   "source": [
    "\n",
    "from causalnex.plots import plot_structure, NODE_STYLE, EDGE_STYLE\n",
    "\n",
    "# Learn structure\n",
    "sm = from_pandas(train_data)\n",
    "\n",
    "\n",
    "# Visualize the graph\n",
    "viz = plot_structure(\n",
    "    sm,\n",
    "    # graph_attributes={\"scale\": \"0.5\"},\n",
    "    all_node_attributes=NODE_STYLE.WEAK,\n",
    "    all_edge_attributes=EDGE_STYLE.WEAK)\n",
    "\n",
    "viz.toggle_physics(False)\n",
    "\n",
    "filename = \"./causal_example.html\"\n",
    "viz.show(filename)\n",
    "# Image(filename)"
   ]
  },
  {
   "cell_type": "code",
   "execution_count": null,
   "metadata": {},
   "outputs": [],
   "source": []
  }
 ],
 "metadata": {
  "kernelspec": {
   "display_name": ".venv",
   "language": "python",
   "name": "python3"
  },
  "language_info": {
   "codemirror_mode": {
    "name": "ipython",
    "version": 3
   },
   "file_extension": ".py",
   "mimetype": "text/x-python",
   "name": "python",
   "nbconvert_exporter": "python",
   "pygments_lexer": "ipython3",
   "version": "3.9.19"
  }
 },
 "nbformat": 4,
 "nbformat_minor": 2
}
