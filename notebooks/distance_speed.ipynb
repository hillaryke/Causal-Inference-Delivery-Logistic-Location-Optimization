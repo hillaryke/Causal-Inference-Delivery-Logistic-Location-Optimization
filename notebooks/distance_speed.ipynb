{
 "cells": [
  {
   "cell_type": "code",
   "execution_count": 1,
   "metadata": {},
   "outputs": [],
   "source": [
    "from math import radians, cos, sin, sqrt, atan2\n",
    "\n",
    "def calculate_distance(lat1, lon1, lat2, lon2):\n",
    "  # Radius of the earth in km\n",
    "  R = 6371.0\n",
    "\n",
    "  # Convert degrees to radians\n",
    "  lat1, lon1, lat2, lon2 = map(radians, [lat1, lon1, lat2, lon2])\n",
    "\n",
    "  # Differences\n",
    "  dlon = lon2 - lon1\n",
    "  dlat = lat2 - lat1\n",
    "\n",
    "  # Haversine formula\n",
    "  a = sin(dlat / 2)**2 + cos(lat1) * cos(lat2) * sin(dlon / 2)**2\n",
    "  c = 2 * atan2(sqrt(a), sqrt(1 - a))\n",
    "\n",
    "  # Distance\n",
    "  distance = R * c\n",
    "  return distance"
   ]
  },
  {
   "cell_type": "code",
   "execution_count": 4,
   "metadata": {},
   "outputs": [],
   "source": [
    "import pandas as pd\n",
    "df = pd.read_csv('../data/completed_orders.csv')"
   ]
  },
  {
   "cell_type": "code",
   "execution_count": 7,
   "metadata": {},
   "outputs": [],
   "source": [
    "from math import radians, cos, sin, sqrt, atan2\n",
    "\n",
    "def calculate_distance(lat1, lon1, lat2, lon2):\n",
    "  # Radius of the earth in km\n",
    "  R = 6371.0\n",
    "\n",
    "  # Convert degrees to radians\n",
    "  lat1, lon1, lat2, lon2 = map(radians, [lat1, lon1, lat2, lon2])\n",
    "\n",
    "  # Differences\n",
    "  dlon = lon2 - lon1\n",
    "  dlat = lat2 - lat1\n",
    "\n",
    "  # Haversine formula\n",
    "  a = sin(dlat / 2)**2 + cos(lat1) * cos(lat2) * sin(dlon / 2)**2\n",
    "  c = 2 * atan2(sqrt(a), sqrt(1 - a))\n",
    "\n",
    "  # Distance\n",
    "  distance = R * c\n",
    "  return distance\n",
    "\n",
    "# Split the 'Trip Origin' and 'Trip Destination' into latitude and longitude\n",
    "# Split the 'Trip Origin' and 'Trip Destination' into latitude and longitude\n",
    "df[['Origin_lat', 'Origin_lon']] = df['Trip Origin'].str.split(',', expand=True)\n",
    "df[['Dest_lat', 'Dest_lon']] = df['Trip Destination'].str.split(',', expand=True)\n",
    "\n",
    "# Convert to float\n",
    "for col in ['Origin_lat', 'Origin_lon', 'Dest_lat', 'Dest_lon']:\n",
    "  df[col] = df[col].astype(float)\n",
    "\n",
    "# Convert 'Trip Start Time' and 'Trip End Time' to datetime\n",
    "df['Trip Start Time'] = pd.to_datetime(df['Trip Start Time'])\n",
    "df['Trip End Time'] = pd.to_datetime(df['Trip End Time'])\n",
    "\n",
    "# Calculate the distance\n",
    "df['Distance'] = df.apply(lambda row: calculate_distance(row['Origin_lat'], row['Origin_lon'], row['Dest_lat'], row['Dest_lon']), axis=1)\n",
    "\n",
    "# Calculate the time difference in hours\n",
    "df['Trip Duration'] = (df['Trip End Time'] - df['Trip Start Time']).dt.total_seconds() / 3600\n",
    "\n",
    "# Calculate the speed\n",
    "df['Speed'] = df['Distance'] / df['Trip Duration']"
   ]
  },
  {
   "cell_type": "code",
   "execution_count": 8,
   "metadata": {},
   "outputs": [
    {
     "name": "stdout",
     "output_type": "stream",
     "text": [
      "| Trip ID   | Trip Origin                        | Trip Destination                | Trip Start Time     | Trip End Time       | Origin_lat   | Origin_lon   | Dest_lat   | Dest_lon   | Distance   | Trip Duration   | Speed   |\n",
      "|:----------|:-----------------------------------|:--------------------------------|:--------------------|:--------------------|:-------------|:-------------|:-----------|:-----------|:-----------|:----------------|:--------|\n",
      "| 391996    | 6.508813001668548,3.37740316890347 | 6.650969799999999,3.3450307     | 2021-07-01 07:28:04 | 2021-07-01 07:29:37 | 6.50881      | 3.3774       | 6.65097    | 3.34503    | 16.2065    | 0.0258333       | 627.35  |\n",
      "| 391997    | 6.4316714,3.4555375                | 6.4280814653326,3.4721885847586 | 2021-07-01 06:38:04 | 2021-07-01 07:07:28 | 6.43167      | 3.45554      | 6.42808    | 3.47219    | 1.88268    | 0.49            | 3.84219 |\n",
      "| 391998    | 6.631679399999999,3.3388976        | 6.508324099999999,3.3590397     | 2021-07-01 06:21:02 | 2021-07-01 07:02:23 | 6.63168      | 3.3389       | 6.50832    | 3.35904    | 13.8958    | 0.689167        | 20.1632 |\n",
      "| 391999    | 6.572757200000001,3.3677082        | 6.584881099999999,3.3614073     | 2021-07-01 07:16:07 | 2021-07-01 07:29:42 | 6.57276      | 3.36771      | 6.58488    | 3.36141    | 1.51719    | 0.226389        | 6.70168 |\n",
      "| 392001    | 6.6010417,3.2766339                | 6.4501069,3.3916154             | 2021-07-01 09:30:59 | 2021-07-01 09:34:36 | 6.60104      | 3.27663      | 6.45011    | 3.39162    | 21.0483    | 0.0602778       | 349.188 |\n"
     ]
    }
   ],
   "source": [
    "# Display the first 5 rows\n",
    "print(df.head().to_markdown(index=False, numalign=\"left\", stralign=\"left\"))"
   ]
  },
  {
   "cell_type": "code",
   "execution_count": 10,
   "metadata": {},
   "outputs": [
    {
     "name": "stdout",
     "output_type": "stream",
     "text": [
      "Number of trips with speed > 60 km/hr: 24984\n",
      "Percentage of trips with speed > 60 km/hr: 4.661020111189881%\n"
     ]
    }
   ],
   "source": [
    "# Get the number of rows where 'Speed' is greater than 60\n",
    "num_fast = len(df[df['Speed'] > 60])\n",
    "\n",
    "# Calculate the percentage\n",
    "percentage_fast = (num_fast / len(df)) * 100\n",
    "\n",
    "# Print the results\n",
    "print(f\"Number of trips with speed > 60 km/hr: {num_fast}\")\n",
    "print(f\"Percentage of trips with speed > 60 km/hr: {percentage_fast}%\")"
   ]
  },
  {
   "cell_type": "code",
   "execution_count": null,
   "metadata": {},
   "outputs": [],
   "source": []
  }
 ],
 "metadata": {
  "kernelspec": {
   "display_name": ".venv",
   "language": "python",
   "name": "python3"
  },
  "language_info": {
   "codemirror_mode": {
    "name": "ipython",
    "version": 3
   },
   "file_extension": ".py",
   "mimetype": "text/x-python",
   "name": "python",
   "nbconvert_exporter": "python",
   "pygments_lexer": "ipython3",
   "version": "3.9.19"
  }
 },
 "nbformat": 4,
 "nbformat_minor": 2
}
