{
 "cells": [
  {
   "cell_type": "code",
   "execution_count": 1,
   "metadata": {},
   "outputs": [],
   "source": [
    "import pandas as pd\n",
    "import os\n",
    "\n",
    "os.chdir(\"../../\")\n",
    "\n",
    "from src import display_df\n",
    "from src.feature_engineering import is_holiday"
   ]
  },
  {
   "cell_type": "code",
   "execution_count": 2,
   "metadata": {},
   "outputs": [],
   "source": [
    "completed_orders = pd.read_csv(\"data/completed_orders.csv\")\n",
    "drivers_location = pd.read_csv(\"data/drivers_location_during_request.csv\")\n",
    "distance_completed_orders = pd.read_csv(\"data/clean/distance_completed_orders.csv\")"
   ]
  },
  {
   "cell_type": "code",
   "execution_count": 23,
   "metadata": {},
   "outputs": [],
   "source": [
    "df = distance_completed_orders.copy()"
   ]
  },
  {
   "cell_type": "markdown",
   "metadata": {},
   "source": [
    "#### Analyze data information"
   ]
  },
  {
   "cell_type": "code",
   "execution_count": 4,
   "metadata": {},
   "outputs": [
    {
     "data": {
      "text/html": [
       "<div>\n",
       "<style scoped>\n",
       "    .dataframe tbody tr th:only-of-type {\n",
       "        vertical-align: middle;\n",
       "    }\n",
       "\n",
       "    .dataframe tbody tr th {\n",
       "        vertical-align: top;\n",
       "    }\n",
       "\n",
       "    .dataframe thead th {\n",
       "        text-align: right;\n",
       "    }\n",
       "</style>\n",
       "<table border=\"1\" class=\"dataframe\">\n",
       "  <thead>\n",
       "    <tr style=\"text-align: right;\">\n",
       "      <th></th>\n",
       "      <th>id</th>\n",
       "      <th>order_id</th>\n",
       "      <th>driver_id</th>\n",
       "      <th>driver_action</th>\n",
       "      <th>lat</th>\n",
       "      <th>lng</th>\n",
       "      <th>created_at</th>\n",
       "      <th>updated_at</th>\n",
       "    </tr>\n",
       "  </thead>\n",
       "  <tbody>\n",
       "    <tr>\n",
       "      <th>0</th>\n",
       "      <td>1</td>\n",
       "      <td>392001</td>\n",
       "      <td>243828</td>\n",
       "      <td>accepted</td>\n",
       "      <td>6.602207</td>\n",
       "      <td>3.270465</td>\n",
       "      <td>NaN</td>\n",
       "      <td>NaN</td>\n",
       "    </tr>\n",
       "    <tr>\n",
       "      <th>1</th>\n",
       "      <td>2</td>\n",
       "      <td>392001</td>\n",
       "      <td>243588</td>\n",
       "      <td>rejected</td>\n",
       "      <td>6.592097</td>\n",
       "      <td>3.287445</td>\n",
       "      <td>NaN</td>\n",
       "      <td>NaN</td>\n",
       "    </tr>\n",
       "    <tr>\n",
       "      <th>2</th>\n",
       "      <td>3</td>\n",
       "      <td>392001</td>\n",
       "      <td>243830</td>\n",
       "      <td>rejected</td>\n",
       "      <td>6.596133</td>\n",
       "      <td>3.281784</td>\n",
       "      <td>NaN</td>\n",
       "      <td>NaN</td>\n",
       "    </tr>\n",
       "    <tr>\n",
       "      <th>3</th>\n",
       "      <td>4</td>\n",
       "      <td>392001</td>\n",
       "      <td>243539</td>\n",
       "      <td>rejected</td>\n",
       "      <td>6.596142</td>\n",
       "      <td>3.280526</td>\n",
       "      <td>NaN</td>\n",
       "      <td>NaN</td>\n",
       "    </tr>\n",
       "    <tr>\n",
       "      <th>4</th>\n",
       "      <td>5</td>\n",
       "      <td>392001</td>\n",
       "      <td>171653</td>\n",
       "      <td>rejected</td>\n",
       "      <td>6.609232</td>\n",
       "      <td>3.288800</td>\n",
       "      <td>NaN</td>\n",
       "      <td>NaN</td>\n",
       "    </tr>\n",
       "    <tr>\n",
       "      <th>5</th>\n",
       "      <td>6</td>\n",
       "      <td>392001</td>\n",
       "      <td>245662</td>\n",
       "      <td>rejected</td>\n",
       "      <td>6.593095</td>\n",
       "      <td>3.287759</td>\n",
       "      <td>NaN</td>\n",
       "      <td>NaN</td>\n",
       "    </tr>\n",
       "    <tr>\n",
       "      <th>6</th>\n",
       "      <td>7</td>\n",
       "      <td>392001</td>\n",
       "      <td>171651</td>\n",
       "      <td>rejected</td>\n",
       "      <td>6.613538</td>\n",
       "      <td>3.270779</td>\n",
       "      <td>NaN</td>\n",
       "      <td>NaN</td>\n",
       "    </tr>\n",
       "    <tr>\n",
       "      <th>7</th>\n",
       "      <td>8</td>\n",
       "      <td>392001</td>\n",
       "      <td>243906</td>\n",
       "      <td>rejected</td>\n",
       "      <td>6.591838</td>\n",
       "      <td>3.276124</td>\n",
       "      <td>NaN</td>\n",
       "      <td>NaN</td>\n",
       "    </tr>\n",
       "    <tr>\n",
       "      <th>8</th>\n",
       "      <td>9</td>\n",
       "      <td>392001</td>\n",
       "      <td>226949</td>\n",
       "      <td>rejected</td>\n",
       "      <td>6.610941</td>\n",
       "      <td>3.276126</td>\n",
       "      <td>NaN</td>\n",
       "      <td>NaN</td>\n",
       "    </tr>\n",
       "    <tr>\n",
       "      <th>9</th>\n",
       "      <td>10</td>\n",
       "      <td>392001</td>\n",
       "      <td>243769</td>\n",
       "      <td>rejected</td>\n",
       "      <td>6.617199</td>\n",
       "      <td>3.271723</td>\n",
       "      <td>NaN</td>\n",
       "      <td>NaN</td>\n",
       "    </tr>\n",
       "  </tbody>\n",
       "</table>\n",
       "</div>"
      ],
      "text/plain": [
       "   id  order_id  driver_id driver_action       lat       lng  created_at  \\\n",
       "0   1    392001     243828      accepted  6.602207  3.270465         NaN   \n",
       "1   2    392001     243588      rejected  6.592097  3.287445         NaN   \n",
       "2   3    392001     243830      rejected  6.596133  3.281784         NaN   \n",
       "3   4    392001     243539      rejected  6.596142  3.280526         NaN   \n",
       "4   5    392001     171653      rejected  6.609232  3.288800         NaN   \n",
       "5   6    392001     245662      rejected  6.593095  3.287759         NaN   \n",
       "6   7    392001     171651      rejected  6.613538  3.270779         NaN   \n",
       "7   8    392001     243906      rejected  6.591838  3.276124         NaN   \n",
       "8   9    392001     226949      rejected  6.610941  3.276126         NaN   \n",
       "9  10    392001     243769      rejected  6.617199  3.271723         NaN   \n",
       "\n",
       "   updated_at  \n",
       "0         NaN  \n",
       "1         NaN  \n",
       "2         NaN  \n",
       "3         NaN  \n",
       "4         NaN  \n",
       "5         NaN  \n",
       "6         NaN  \n",
       "7         NaN  \n",
       "8         NaN  \n",
       "9         NaN  "
      ]
     },
     "execution_count": 4,
     "metadata": {},
     "output_type": "execute_result"
    }
   ],
   "source": [
    "drivers_location.head(10)"
   ]
  },
  {
   "cell_type": "code",
   "execution_count": 3,
   "metadata": {},
   "outputs": [
    {
     "data": {
      "text/html": [
       "<div>\n",
       "<style scoped>\n",
       "    .dataframe tbody tr th:only-of-type {\n",
       "        vertical-align: middle;\n",
       "    }\n",
       "\n",
       "    .dataframe tbody tr th {\n",
       "        vertical-align: top;\n",
       "    }\n",
       "\n",
       "    .dataframe thead th {\n",
       "        text-align: right;\n",
       "    }\n",
       "</style>\n",
       "<table border=\"1\" class=\"dataframe\">\n",
       "  <thead>\n",
       "    <tr style=\"text-align: right;\">\n",
       "      <th></th>\n",
       "      <th>Trip ID</th>\n",
       "      <th>Trip Origin</th>\n",
       "      <th>Trip Destination</th>\n",
       "      <th>Trip Start Time</th>\n",
       "      <th>Trip End Time</th>\n",
       "    </tr>\n",
       "  </thead>\n",
       "  <tbody>\n",
       "    <tr>\n",
       "      <th>0</th>\n",
       "      <td>391996</td>\n",
       "      <td>6.508813001668548,3.37740316890347</td>\n",
       "      <td>6.650969799999999,3.3450307</td>\n",
       "      <td>2021-07-01 07:28:04</td>\n",
       "      <td>2021-07-01 07:29:37</td>\n",
       "    </tr>\n",
       "    <tr>\n",
       "      <th>1</th>\n",
       "      <td>391997</td>\n",
       "      <td>6.4316714,3.4555375</td>\n",
       "      <td>6.4280814653326,3.4721885847586</td>\n",
       "      <td>2021-07-01 06:38:04</td>\n",
       "      <td>2021-07-01 07:07:28</td>\n",
       "    </tr>\n",
       "    <tr>\n",
       "      <th>2</th>\n",
       "      <td>391998</td>\n",
       "      <td>6.631679399999999,3.3388976</td>\n",
       "      <td>6.508324099999999,3.3590397</td>\n",
       "      <td>2021-07-01 06:21:02</td>\n",
       "      <td>2021-07-01 07:02:23</td>\n",
       "    </tr>\n",
       "    <tr>\n",
       "      <th>3</th>\n",
       "      <td>391999</td>\n",
       "      <td>6.572757200000001,3.3677082</td>\n",
       "      <td>6.584881099999999,3.3614073</td>\n",
       "      <td>2021-07-01 07:16:07</td>\n",
       "      <td>2021-07-01 07:29:42</td>\n",
       "    </tr>\n",
       "    <tr>\n",
       "      <th>4</th>\n",
       "      <td>392001</td>\n",
       "      <td>6.6010417,3.2766339</td>\n",
       "      <td>6.4501069,3.3916154</td>\n",
       "      <td>2021-07-01 09:30:59</td>\n",
       "      <td>2021-07-01 09:34:36</td>\n",
       "    </tr>\n",
       "    <tr>\n",
       "      <th>5</th>\n",
       "      <td>392005</td>\n",
       "      <td>6.565087699999999,3.3844415</td>\n",
       "      <td>6.499696300000001,3.3509075</td>\n",
       "      <td>2021-07-01 10:53:36</td>\n",
       "      <td>2021-07-01 11:27:51</td>\n",
       "    </tr>\n",
       "    <tr>\n",
       "      <th>6</th>\n",
       "      <td>392009</td>\n",
       "      <td>6.6636484,3.3082058</td>\n",
       "      <td>6.6185421,3.301634</td>\n",
       "      <td>2021-07-01 06:39:51</td>\n",
       "      <td>2021-07-01 07:41:12</td>\n",
       "    </tr>\n",
       "  </tbody>\n",
       "</table>\n",
       "</div>"
      ],
      "text/plain": [
       "   Trip ID                         Trip Origin  \\\n",
       "0   391996  6.508813001668548,3.37740316890347   \n",
       "1   391997                 6.4316714,3.4555375   \n",
       "2   391998         6.631679399999999,3.3388976   \n",
       "3   391999         6.572757200000001,3.3677082   \n",
       "4   392001                 6.6010417,3.2766339   \n",
       "5   392005         6.565087699999999,3.3844415   \n",
       "6   392009                 6.6636484,3.3082058   \n",
       "\n",
       "                  Trip Destination      Trip Start Time        Trip End Time  \n",
       "0      6.650969799999999,3.3450307  2021-07-01 07:28:04  2021-07-01 07:29:37  \n",
       "1  6.4280814653326,3.4721885847586  2021-07-01 06:38:04  2021-07-01 07:07:28  \n",
       "2      6.508324099999999,3.3590397  2021-07-01 06:21:02  2021-07-01 07:02:23  \n",
       "3      6.584881099999999,3.3614073  2021-07-01 07:16:07  2021-07-01 07:29:42  \n",
       "4              6.4501069,3.3916154  2021-07-01 09:30:59  2021-07-01 09:34:36  \n",
       "5      6.499696300000001,3.3509075  2021-07-01 10:53:36  2021-07-01 11:27:51  \n",
       "6               6.6185421,3.301634  2021-07-01 06:39:51  2021-07-01 07:41:12  "
      ]
     },
     "execution_count": 3,
     "metadata": {},
     "output_type": "execute_result"
    }
   ],
   "source": [
    "completed_orders.head(7)"
   ]
  },
  {
   "cell_type": "code",
   "execution_count": 5,
   "metadata": {},
   "outputs": [
    {
     "name": "stdout",
     "output_type": "stream",
     "text": [
      "<class 'pandas.core.frame.DataFrame'>\n",
      "RangeIndex: 536020 entries, 0 to 536019\n",
      "Data columns (total 5 columns):\n",
      " #   Column            Non-Null Count   Dtype \n",
      "---  ------            --------------   ----- \n",
      " 0   Trip ID           536020 non-null  int64 \n",
      " 1   Trip Origin       536020 non-null  object\n",
      " 2   Trip Destination  536020 non-null  object\n",
      " 3   Trip Start Time   534369 non-null  object\n",
      " 4   Trip End Time     536019 non-null  object\n",
      "dtypes: int64(1), object(4)\n",
      "memory usage: 20.4+ MB\n"
     ]
    }
   ],
   "source": [
    "# get the informtion of completed orders data\n",
    "completed_orders.info()"
   ]
  },
  {
   "cell_type": "code",
   "execution_count": 6,
   "metadata": {},
   "outputs": [
    {
     "data": {
      "text/plain": [
       "Trip ID                0\n",
       "Trip Origin            0\n",
       "Trip Destination       0\n",
       "Trip Start Time     1651\n",
       "Trip End Time          1\n",
       "dtype: int64"
      ]
     },
     "execution_count": 6,
     "metadata": {},
     "output_type": "execute_result"
    }
   ],
   "source": [
    "# Check missing values in completed_orders\n",
    "completed_orders.isnull().sum()"
   ]
  },
  {
   "cell_type": "code",
   "execution_count": 7,
   "metadata": {},
   "outputs": [
    {
     "data": {
      "text/plain": [
       "order_id                        0\n",
       "trip_origin                     0\n",
       "trip_destination                0\n",
       "trip_start_time                 0\n",
       "trip_end_time                   0\n",
       "day_of_week                     0\n",
       "hour_of_day                     0\n",
       "day_of_month                    0\n",
       "month                           0\n",
       "trip_start_date                 0\n",
       "trip_end_date                   0\n",
       "trip_duration                   0\n",
       "trip_origin_latitude            0\n",
       "trip_origin_longitude           0\n",
       "trip_destination_latitude       0\n",
       "trip_destination_longitude      0\n",
       "is_holiday                      0\n",
       "is_weekend                      0\n",
       "trip_distance                 106\n",
       "dtype: int64"
      ]
     },
     "execution_count": 7,
     "metadata": {},
     "output_type": "execute_result"
    }
   ],
   "source": [
    "distance_completed_orders.isnull().sum()"
   ]
  },
  {
   "cell_type": "code",
   "execution_count": 8,
   "metadata": {},
   "outputs": [],
   "source": [
    "# handle missing values in distance completed orders fill with median\n",
    "distance_completed_orders['trip_distance'].fillna(distance_completed_orders['trip_distance'].median(), inplace=True)"
   ]
  },
  {
   "cell_type": "code",
   "execution_count": 9,
   "metadata": {},
   "outputs": [
    {
     "data": {
      "text/plain": [
       "order_id                      0\n",
       "trip_origin                   0\n",
       "trip_destination              0\n",
       "trip_start_time               0\n",
       "trip_end_time                 0\n",
       "day_of_week                   0\n",
       "hour_of_day                   0\n",
       "day_of_month                  0\n",
       "month                         0\n",
       "trip_start_date               0\n",
       "trip_end_date                 0\n",
       "trip_duration                 0\n",
       "trip_origin_latitude          0\n",
       "trip_origin_longitude         0\n",
       "trip_destination_latitude     0\n",
       "trip_destination_longitude    0\n",
       "is_holiday                    0\n",
       "is_weekend                    0\n",
       "trip_distance                 0\n",
       "dtype: int64"
      ]
     },
     "execution_count": 9,
     "metadata": {},
     "output_type": "execute_result"
    }
   ],
   "source": [
    "distance_completed_orders.isnull().sum()"
   ]
  },
  {
   "cell_type": "code",
   "execution_count": 8,
   "metadata": {},
   "outputs": [
    {
     "data": {
      "text/plain": [
       "id                     0\n",
       "order_id               0\n",
       "driver_id              0\n",
       "driver_action          0\n",
       "lat                    0\n",
       "lng                    0\n",
       "created_at       1557740\n",
       "updated_at       1557740\n",
       "dtype: int64"
      ]
     },
     "execution_count": 8,
     "metadata": {},
     "output_type": "execute_result"
    }
   ],
   "source": [
    "# Check missing values for drivers_location\n",
    "drivers_location.isnull().sum()"
   ]
  },
  {
   "cell_type": "markdown",
   "metadata": {},
   "source": [
    "## Perform data preprocessing"
   ]
  },
  {
   "cell_type": "markdown",
   "metadata": {},
   "source": [
    "##### Preprocess completed orders only"
   ]
  },
  {
   "cell_type": "code",
   "execution_count": 9,
   "metadata": {},
   "outputs": [],
   "source": [
    "from src.preprocess_data import GokadaDataPreprocessor\n",
    "# from src import is_holiday"
   ]
  },
  {
   "cell_type": "code",
   "execution_count": null,
   "metadata": {},
   "outputs": [],
   "source": [
    "# completed_orders_path = 'data/completed_orders.csv'\n",
    "# drivers_location_path = 'data/drivers_location_during_request.csv'\n",
    "\n",
    "# preprocessor = GokadaDataPreprocessor(completed_orders_path, drivers_location_path)\n",
    "# df = preprocessor.preprocess_completed_orders_only()\n"
   ]
  },
  {
   "cell_type": "markdown",
   "metadata": {},
   "source": [
    "##### Calculate trip distance in completed orders"
   ]
  },
  {
   "cell_type": "code",
   "execution_count": 10,
   "metadata": {},
   "outputs": [],
   "source": [
    "df = pd.read_csv(\"data/clean/completed_orders_preprocessed.csv\")"
   ]
  },
  {
   "cell_type": "code",
   "execution_count": 18,
   "metadata": {},
   "outputs": [],
   "source": [
    "# df.to_csv(\"data/clean/completed_orders_preprocessed.csv\", index=False)"
   ]
  },
  {
   "cell_type": "markdown",
   "metadata": {},
   "source": [
    "###### add is_weekend column"
   ]
  },
  {
   "cell_type": "code",
   "execution_count": 17,
   "metadata": {},
   "outputs": [],
   "source": [
    "# 2. Weekend vs. Weekday\n",
    "# df['is_weekend'] = pd.to_datetime(df['trip_start_time']).dt.dayofweek.isin([5, 6]).astype(int)\n",
    "# df_sample = df.head(10).copy()"
   ]
  },
  {
   "cell_type": "code",
   "execution_count": 15,
   "metadata": {},
   "outputs": [
    {
     "name": "stdout",
     "output_type": "stream",
     "text": [
      "HTTP error occurred: 400 Client Error:  for url: http://localhost:8080/ors/v2/directions/cycling-electric?start=3.379124365746975%2C6.588085124110086&end=1%2C1\n",
      "HTTP error occurred: 400 Client Error:  for url: http://localhost:8080/ors/v2/directions/cycling-electric?start=3.331791%2C6.564350699999999&end=1%2C1\n",
      "HTTP error occurred: 400 Client Error:  for url: http://localhost:8080/ors/v2/directions/cycling-electric?start=3.3719818%2C6.5689181&end=1%2C1\n",
      "HTTP error occurred: 400 Client Error:  for url: http://localhost:8080/ors/v2/directions/cycling-electric?start=3.8492912%2C7.348605&end=3.339060745631365%2C6.595893474969582\n",
      "HTTP error occurred: 400 Client Error:  for url: http://localhost:8080/ors/v2/directions/cycling-electric?start=4.155025323217046%2C8.226834883140889&end=3.2968137%2C6.6034487\n",
      "HTTP error occurred: 400 Client Error:  for url: http://localhost:8080/ors/v2/directions/cycling-electric?start=3.379124365746975%2C6.588085124110086&end=1%2C1\n",
      "HTTP error occurred: 400 Client Error:  for url: http://localhost:8080/ors/v2/directions/cycling-electric?start=1%2C1&end=3.8539967%2C6.441535699999999\n",
      "HTTP error occurred: 400 Client Error:  for url: http://localhost:8080/ors/v2/directions/cycling-electric?start=3.3126108%2C6.6486081&end=7.492294900000001%2C9.0562229\n",
      "HTTP error occurred: 400 Client Error:  for url: http://localhost:8080/ors/v2/directions/cycling-electric?start=3.3538481%2C6.6379935&end=5.252136399999999%2C7.722189099999999\n",
      "HTTP error occurred: 400 Client Error:  for url: http://localhost:8080/ors/v2/directions/cycling-electric?start=3.3400206%2C6.5188492&end=5.252136399999999%2C7.722189099999999\n",
      "HTTP error occurred: 400 Client Error:  for url: http://localhost:8080/ors/v2/directions/cycling-electric?start=3.3132986%2C6.625363800000001&end=1%2C1\n",
      "HTTP error occurred: 400 Client Error:  for url: http://localhost:8080/ors/v2/directions/cycling-electric?start=3.3107056%2C6.6571602&end=7.4125957%2C6.8630519\n",
      "HTTP error occurred: 400 Client Error:  for url: http://localhost:8080/ors/v2/directions/cycling-electric?start=1%2C1&end=3.5965609%2C6.4615099\n",
      "HTTP error occurred: 404 Client Error:  for url: http://localhost:8080/ors/v2/directions/cycling-electric?start=3.3759406%2C6.570253399999999&end=3.518496%2C6.40541\n",
      "HTTP error occurred: 400 Client Error:  for url: http://localhost:8080/ors/v2/directions/cycling-electric?start=3.375272%2C6.61304&end=1%2C1\n",
      "HTTP error occurred: 400 Client Error:  for url: http://localhost:8080/ors/v2/directions/cycling-electric?start=7.4815919%2C9.002970399999999&end=3.3373819%2C6.511106100000002\n",
      "HTTP error occurred: 404 Client Error:  for url: http://localhost:8080/ors/v2/directions/cycling-electric?start=3.3405251%2C6.5208948&end=3.518496%2C6.40541\n",
      "HTTP error occurred: 400 Client Error:  for url: http://localhost:8080/ors/v2/directions/cycling-electric?start=3.4498309%2C6.4596467&end=6.9892373%2C4.812819000000001\n",
      "HTTP error occurred: 400 Client Error:  for url: http://localhost:8080/ors/v2/directions/cycling-electric?start=3.3954081%2C6.547699499999999&end=4.2337916%2C8.1382467\n",
      "HTTP error occurred: 400 Client Error:  for url: http://localhost:8080/ors/v2/directions/cycling-electric?start=3.2771334%2C6.4685793&end=1%2C1\n",
      "HTTP error occurred: 404 Client Error:  for url: http://localhost:8080/ors/v2/directions/cycling-electric?start=3.353007%2C6.512369000000001&end=3.518496%2C6.40541\n",
      "HTTP error occurred: 400 Client Error:  for url: http://localhost:8080/ors/v2/directions/cycling-electric?start=1%2C1&end=3.276886852186067%2C6.486794221198417\n",
      "HTTP error occurred: 400 Client Error:  for url: http://localhost:8080/ors/v2/directions/cycling-electric?start=3.3940687840260186%2C6.5645048894079165&end=1%2C1\n",
      "HTTP error occurred: 400 Client Error:  for url: http://localhost:8080/ors/v2/directions/cycling-electric?start=3.3463368%2C6.635440999999999&end=7.0549586%2C4.821255799999999\n",
      "HTTP error occurred: 404 Client Error:  for url: http://localhost:8080/ors/v2/directions/cycling-electric?start=3.3856692%2C6.5556638&end=4.1946943%2C6.3692515\n",
      "HTTP error occurred: 400 Client Error:  for url: http://localhost:8080/ors/v2/directions/cycling-electric?start=1%2C1&end=3.5201729477682306%2C6.455218860285707\n",
      "HTTP error occurred: 400 Client Error:  for url: http://localhost:8080/ors/v2/directions/cycling-electric?start=3.329771005680243%2C6.6693651601197335&end=1%2C1\n",
      "HTTP error occurred: 404 Client Error:  for url: http://localhost:8080/ors/v2/directions/cycling-electric?start=3.4519016%2C6.425526&end=3.518496%2C6.40541\n",
      "HTTP error occurred: 400 Client Error:  for url: http://localhost:8080/ors/v2/directions/cycling-electric?start=3.3497299%2C6.606396699999999&end=1%2C1\n",
      "HTTP error occurred: 400 Client Error:  for url: http://localhost:8080/ors/v2/directions/cycling-electric?start=3.4991463%2C6.4292046&end=6.2554%2C7.5293\n",
      "HTTP error occurred: 404 Client Error:  for url: http://localhost:8080/ors/v2/directions/cycling-electric?start=3.345131099999999%2C6.602394799999999&end=3.518496%2C6.40541\n",
      "HTTP error occurred: 400 Client Error:  for url: http://localhost:8080/ors/v2/directions/cycling-electric?start=1%2C1&end=3.344109599999999%2C6.604193599999999\n",
      "HTTP error occurred: 400 Client Error:  for url: http://localhost:8080/ors/v2/directions/cycling-electric?start=3.416331%2C6.458121500000001&end=1%2C1\n",
      "HTTP error occurred: 400 Client Error:  for url: http://localhost:8080/ors/v2/directions/cycling-electric?start=3.3397263%2C6.4537581&end=7.923215800000001%2C5.038556799999999\n",
      "HTTP error occurred: 404 Client Error:  for url: http://localhost:8080/ors/v2/directions/cycling-electric?start=3.430013%2C6.426813000000001&end=4.1946943%2C6.3692515\n",
      "HTTP error occurred: 400 Client Error:  for url: http://localhost:8080/ors/v2/directions/cycling-electric?start=1%2C1&end=3.2927294%2C6.599681500000001\n",
      "HTTP error occurred: 400 Client Error:  for url: http://localhost:8080/ors/v2/directions/cycling-electric?start=3.299245582893491%2C6.659960062243044&end=7.512584899999999%2C6.4596618\n",
      "HTTP error occurred: 400 Client Error:  for url: http://localhost:8080/ors/v2/directions/cycling-electric?start=3.3320093%2C6.5567961&end=6.2638884%2C6.870494599999998\n",
      "HTTP error occurred: 404 Client Error:  for url: http://localhost:8080/ors/v2/directions/cycling-electric?start=3.2697907%2C6.4453425&end=3.5032834341105854%2C6.4059683037456\n",
      "HTTP error occurred: 400 Client Error:  for url: http://localhost:8080/ors/v2/directions/cycling-electric?start=3.5806131%2C6.4593019&end=4.7979248%2C8.275962699999997\n",
      "HTTP error occurred: 400 Client Error:  for url: http://localhost:8080/ors/v2/directions/cycling-electric?start=3.2683671%2C6.6206659&end=7.3727874%2C5.0992839\n",
      "HTTP error occurred: 400 Client Error:  for url: http://localhost:8080/ors/v2/directions/cycling-electric?start=7.024938899999999%2C4.859345899999999&end=3.4042246874122%2C6.4438987809313\n",
      "HTTP error occurred: 400 Client Error:  for url: http://localhost:8080/ors/v2/directions/cycling-electric?start=3.3563131000846624%2C6.649179635569453&end=6.6575185%2C5.346288700000001\n",
      "HTTP error occurred: 400 Client Error:  for url: http://localhost:8080/ors/v2/directions/cycling-electric?start=3.418841199999999%2C6.442511800000001&end=1%2C1\n",
      "HTTP error occurred: 400 Client Error:  for url: http://localhost:8080/ors/v2/directions/cycling-electric?start=3.4692435%2C6.6192009&end=5.1837008%2C7.261967700000002\n",
      "HTTP error occurred: 400 Client Error:  for url: http://localhost:8080/ors/v2/directions/cycling-electric?start=3.3736632%2C6.6428175&end=1%2C1\n",
      "HTTP error occurred: 400 Client Error:  for url: http://localhost:8080/ors/v2/directions/cycling-electric?start=3.2021732%2C6.474007999999999&end=4.186524599999999%2C6.3925798\n",
      "HTTP error occurred: 400 Client Error:  for url: http://localhost:8080/ors/v2/directions/cycling-electric?start=3.4153422%2C6.4442815&end=1%2C1\n",
      "HTTP error occurred: 400 Client Error:  for url: http://localhost:8080/ors/v2/directions/cycling-electric?start=3.3719767%2C6.5660175&end=1%2C1\n",
      "HTTP error occurred: 404 Client Error:  for url: http://localhost:8080/ors/v2/directions/cycling-electric?start=3.5301368%2C6.442932799999999&end=3.75%2C6.583333\n",
      "HTTP error occurred: 404 Client Error:  for url: http://localhost:8080/ors/v2/directions/cycling-electric?start=3.3817839%2C6.507835999999999&end=3.518496%2C6.40541\n",
      "HTTP error occurred: 400 Client Error:  for url: http://localhost:8080/ors/v2/directions/cycling-electric?start=3.3816076%2C6.608724899999999&end=6.2554%2C7.5293\n",
      "HTTP error occurred: 400 Client Error:  for url: http://localhost:8080/ors/v2/directions/cycling-electric?start=3.451396%2C6.4358466&end=1%2C1\n",
      "HTTP error occurred: 400 Client Error:  for url: http://localhost:8080/ors/v2/directions/cycling-electric?start=3.1993715%2C9.218181999999999&end=3.5085432%2C6.433925800000001\n",
      "HTTP error occurred: 400 Client Error:  for url: http://localhost:8080/ors/v2/directions/cycling-electric?start=3.309779%2C6.6219494&end=-0.29323317110538%2C5.7224497884716\n",
      "HTTP error occurred: 400 Client Error:  for url: http://localhost:8080/ors/v2/directions/cycling-electric?start=4.5684615%2C7.4965363&end=3.50850253733317%2C6.436826176670574\n",
      "HTTP error occurred: 400 Client Error:  for url: http://localhost:8080/ors/v2/directions/cycling-electric?start=3.1724699%2C6.4846523&end=6.9983806%2C4.8128079\n",
      "HTTP error occurred: 400 Client Error:  for url: http://localhost:8080/ors/v2/directions/cycling-electric?start=3.2919050874196647%2C6.607599614884005&end=1%2C1\n",
      "HTTP error occurred: 400 Client Error:  for url: http://localhost:8080/ors/v2/directions/cycling-electric?start=3.3623219%2C6.5518404&end=1%2C1\n",
      "HTTP error occurred: 400 Client Error:  for url: http://localhost:8080/ors/v2/directions/cycling-electric?start=3.331148%2C6.635399699999999&end=1%2C1\n",
      "HTTP error occurred: 404 Client Error:  for url: http://localhost:8080/ors/v2/directions/cycling-electric?start=3.3921078%2C6.451988800000001&end=3.518496%2C6.40541\n",
      "HTTP error occurred: 400 Client Error:  for url: http://localhost:8080/ors/v2/directions/cycling-electric?start=3.542649%2C6.438185000000001&end=1%2C1\n",
      "HTTP error occurred: 400 Client Error:  for url: http://localhost:8080/ors/v2/directions/cycling-electric?start=3.3233768%2C6.6429998&end=1%2C1\n",
      "HTTP error occurred: 400 Client Error:  for url: http://localhost:8080/ors/v2/directions/cycling-electric?start=3.4586585%2C6.4435353&end=1%2C1\n",
      "HTTP error occurred: 400 Client Error:  for url: http://localhost:8080/ors/v2/directions/cycling-electric?start=3.3401231%2C6.5950808&end=1%2C1\n",
      "HTTP error occurred: 400 Client Error:  for url: http://localhost:8080/ors/v2/directions/cycling-electric?start=3.298999492375316%2C6.528008462018097&end=1%2C1\n",
      "HTTP error occurred: 400 Client Error:  for url: http://localhost:8080/ors/v2/directions/cycling-electric?start=3.2591290380596547%2C6.516077269765945&end=1%2C1\n",
      "HTTP error occurred: 400 Client Error:  for url: http://localhost:8080/ors/v2/directions/cycling-electric?start=3.3783470831024895%2C6.544699294456124&end=1%2C1\n",
      "HTTP error occurred: 400 Client Error:  for url: http://localhost:8080/ors/v2/directions/cycling-electric?start=3.3305818%2C6.6412299&end=1%2C1\n",
      "HTTP error occurred: 400 Client Error:  for url: http://localhost:8080/ors/v2/directions/cycling-electric?start=3.3877154%2C6.458915200000001&end=5.922771499999999%2C7.8443181\n",
      "HTTP error occurred: 400 Client Error:  for url: http://localhost:8080/ors/v2/directions/cycling-electric?start=3.3185904%2C6.4698317&end=1%2C1\n",
      "HTTP error occurred: 400 Client Error:  for url: http://localhost:8080/ors/v2/directions/cycling-electric?start=3.289266%2C6.5947612&end=4.780105199999999%2C6.511302799999999\n",
      "HTTP error occurred: 400 Client Error:  for url: http://localhost:8080/ors/v2/directions/cycling-electric?start=3.3569974%2C6.5273563&end=1%2C1\n",
      "HTTP error occurred: 400 Client Error:  for url: http://localhost:8080/ors/v2/directions/cycling-electric?start=3.299234%2C6.527798999999999&end=1%2C1\n",
      "HTTP error occurred: 404 Client Error:  for url: http://localhost:8080/ors/v2/directions/cycling-electric?start=3.3586407146616364%2C6.5833572858662395&end=3.7115536505802%2C6.5857391865453\n",
      "HTTP error occurred: 400 Client Error:  for url: http://localhost:8080/ors/v2/directions/cycling-electric?start=1%2C1&end=3.5177175%2C6.446528\n",
      "HTTP error occurred: 400 Client Error:  for url: http://localhost:8080/ors/v2/directions/cycling-electric?start=3.3980749%2C6.574910099999999&end=1%2C1\n",
      "HTTP error occurred: 400 Client Error:  for url: http://localhost:8080/ors/v2/directions/cycling-electric?start=3.3776312135191517%2C6.621974827727869&end=1%2C1\n",
      "HTTP error occurred: 404 Client Error:  for url: http://localhost:8080/ors/v2/directions/cycling-electric?start=3.358832%2C6.5803151&end=3.7115536505802%2C6.5857391865453\n",
      "HTTP error occurred: 400 Client Error:  for url: http://localhost:8080/ors/v2/directions/cycling-electric?start=3.298999492375316%2C6.528008462018097&end=1%2C1\n",
      "HTTP error occurred: 400 Client Error:  for url: http://localhost:8080/ors/v2/directions/cycling-electric?start=1%2C1&end=3.4906419%2C6.4435042\n",
      "HTTP error occurred: 404 Client Error:  for url: http://localhost:8080/ors/v2/directions/cycling-electric?start=3.335332%2C6.522337&end=3.7115536505802%2C6.5857391865453\n",
      "HTTP error occurred: 404 Client Error:  for url: http://localhost:8080/ors/v2/directions/cycling-electric?start=3.3682302%2C6.5072303&end=3.518496%2C6.40541\n",
      "HTTP error occurred: 400 Client Error:  for url: http://localhost:8080/ors/v2/directions/cycling-electric?start=3.4046771%2C6.4544541&end=1%2C1\n",
      "HTTP error occurred: 400 Client Error:  for url: http://localhost:8080/ors/v2/directions/cycling-electric?start=3.4593485833588%2C6.4369419225597&end=1%2C1\n",
      "HTTP error occurred: 400 Client Error:  for url: http://localhost:8080/ors/v2/directions/cycling-electric?start=1%2C1&end=3.3754256%2C6.5746524\n",
      "HTTP error occurred: 400 Client Error:  for url: http://localhost:8080/ors/v2/directions/cycling-electric?start=3.4093709%2C6.6378879&end=1%2C1\n",
      "HTTP error occurred: 400 Client Error:  for url: http://localhost:8080/ors/v2/directions/cycling-electric?start=3.3539483%2C6.6452024&end=1%2C1\n",
      "HTTP error occurred: 400 Client Error:  for url: http://localhost:8080/ors/v2/directions/cycling-electric?start=3.5542128%2C6.429787600000001&end=1%2C1\n",
      "HTTP error occurred: 400 Client Error:  for url: http://localhost:8080/ors/v2/directions/cycling-electric?start=3.3499616%2C6.636207499999999&end=1%2C1\n",
      "HTTP error occurred: 400 Client Error:  for url: http://localhost:8080/ors/v2/directions/cycling-electric?start=3.5262589%2C6.440351499999999&end=1%2C1\n",
      "HTTP error occurred: 400 Client Error:  for url: http://localhost:8080/ors/v2/directions/cycling-electric?start=3.2504387%2C6.5925769&end=1%2C1\n",
      "HTTP error occurred: 400 Client Error:  for url: http://localhost:8080/ors/v2/directions/cycling-electric?start=3.3781222%2C6.5140155&end=1%2C1\n",
      "HTTP error occurred: 400 Client Error:  for url: http://localhost:8080/ors/v2/directions/cycling-electric?start=3.3332217%2C6.5448172&end=1%2C1\n",
      "HTTP error occurred: 400 Client Error:  for url: http://localhost:8080/ors/v2/directions/cycling-electric?start=3.3409587%2C6.596205400000001&end=1%2C1\n",
      "HTTP error occurred: 400 Client Error:  for url: http://localhost:8080/ors/v2/directions/cycling-electric?start=3.387415%2C6.587564&end=1%2C1\n",
      "HTTP error occurred: 400 Client Error:  for url: http://localhost:8080/ors/v2/directions/cycling-electric?start=3.4271887%2C6.4441991&end=1%2C1\n",
      "HTTP error occurred: 400 Client Error:  for url: http://localhost:8080/ors/v2/directions/cycling-electric?start=3.3787307%2C6.5253757&end=1%2C1\n",
      "HTTP error occurred: 400 Client Error:  for url: http://localhost:8080/ors/v2/directions/cycling-electric?start=3.384637%2C6.539136999999999&end=1%2C1\n",
      "HTTP error occurred: 400 Client Error:  for url: http://localhost:8080/ors/v2/directions/cycling-electric?start=3.4211697%2C6.4250683&end=1%2C1\n",
      "HTTP error occurred: 400 Client Error:  for url: http://localhost:8080/ors/v2/directions/cycling-electric?start=3.3686375%2C6.5638511&end=1%2C1\n",
      "HTTP error occurred: 404 Client Error:  for url: http://localhost:8080/ors/v2/directions/cycling-electric?start=3.3586407146616364%2C6.5833572858662395&end=3.7115536505802%2C6.5857391865453\n",
      "HTTP error occurred: 400 Client Error:  for url: http://localhost:8080/ors/v2/directions/cycling-electric?start=3.3471339%2C6.595508000000001&end=1%2C1\n",
      "HTTP error occurred: 400 Client Error:  for url: http://localhost:8080/ors/v2/directions/cycling-electric?start=1%2C1&end=3.4268953%2C6.427775099999999\n",
      "HTTP error occurred: 400 Client Error:  for url: http://localhost:8080/ors/v2/directions/cycling-electric?start=3.3104913%2C6.6220037&end=1%2C1\n",
      "HTTP error occurred: 404 Client Error:  for url: http://localhost:8080/ors/v2/directions/cycling-electric?start=3.473817899999999%2C6.428222799999999&end=3.518496%2C6.40541\n"
     ]
    }
   ],
   "source": [
    "# from src import calculate_distance_with_ors\n",
    "# df.loc[:, 'trip_distance'] = df.apply(lambda row: calculate_distance_with_ors(row['trip_origin'], row['trip_destination']), axis=1)"
   ]
  },
  {
   "cell_type": "code",
   "execution_count": 16,
   "metadata": {},
   "outputs": [],
   "source": [
    "# df.to_csv('data/clean/distance_completed_orders.csv', index=False)"
   ]
  },
  {
   "cell_type": "markdown",
   "metadata": {},
   "source": [
    "##### Preprocess both completed and drivers location data"
   ]
  },
  {
   "cell_type": "code",
   "execution_count": 9,
   "metadata": {},
   "outputs": [],
   "source": [
    "completed_orders_path = 'data/completed_orders.csv'\n",
    "drivers_location_path = 'data/drivers_location_during_request.csv'\n",
    "\n",
    "preprocessor = GokadaDataPreprocessor(completed_orders_path, drivers_location_path)\n"
   ]
  },
  {
   "cell_type": "code",
   "execution_count": 10,
   "metadata": {},
   "outputs": [],
   "source": [
    "preprocessed_df = preprocessor.preprocess_and_save('processed_data.csv')"
   ]
  },
  {
   "cell_type": "code",
   "execution_count": 11,
   "metadata": {},
   "outputs": [
    {
     "name": "stdout",
     "output_type": "stream",
     "text": [
      "| order_id   | trip_origin         | trip_destination    | trip_start_time     | trip_end_time       | day_of_week   | hour_of_day   | day_of_month   | month   | trip_start_date   | trip_end_date   | trip_duration   | trip_origin_latitude   | trip_origin_longitude   | trip_destination_latitude   | trip_destination_longitude   | id   | driver_id   | driver_action   | drivers_lat   | drivers_lng   |\n",
      "|:-----------|:--------------------|:--------------------|:--------------------|:--------------------|:--------------|:--------------|:---------------|:--------|:------------------|:----------------|:----------------|:-----------------------|:------------------------|:----------------------------|:-----------------------------|:-----|:------------|:----------------|:--------------|:--------------|\n",
      "| 392001     | 3.2766339,6.6010417 | 3.3916154,6.4501069 | 2021-07-01 09:30:59 | 2021-07-01 09:34:36 | Thursday      | 9             | 1              | July    | 2021-07-01        | 2021-07-01      | 217             | 3.27663                | 6.60104                 | 3.39162                     | 6.45011                      | 1    | 243828      | accepted        | 6.60221       | 3.27046       |\n",
      "| 392001     | 3.2766339,6.6010417 | 3.3916154,6.4501069 | 2021-07-01 09:30:59 | 2021-07-01 09:34:36 | Thursday      | 9             | 1              | July    | 2021-07-01        | 2021-07-01      | 217             | 3.27663                | 6.60104                 | 3.39162                     | 6.45011                      | 2    | 243588      | rejected        | 6.5921        | 3.28744       |\n",
      "| 392001     | 3.2766339,6.6010417 | 3.3916154,6.4501069 | 2021-07-01 09:30:59 | 2021-07-01 09:34:36 | Thursday      | 9             | 1              | July    | 2021-07-01        | 2021-07-01      | 217             | 3.27663                | 6.60104                 | 3.39162                     | 6.45011                      | 3    | 243830      | rejected        | 6.59613       | 3.28178       |\n",
      "| 392001     | 3.2766339,6.6010417 | 3.3916154,6.4501069 | 2021-07-01 09:30:59 | 2021-07-01 09:34:36 | Thursday      | 9             | 1              | July    | 2021-07-01        | 2021-07-01      | 217             | 3.27663                | 6.60104                 | 3.39162                     | 6.45011                      | 4    | 243539      | rejected        | 6.59614       | 3.28053       |\n",
      "| 392001     | 3.2766339,6.6010417 | 3.3916154,6.4501069 | 2021-07-01 09:30:59 | 2021-07-01 09:34:36 | Thursday      | 9             | 1              | July    | 2021-07-01        | 2021-07-01      | 217             | 3.27663                | 6.60104                 | 3.39162                     | 6.45011                      | 5    | 171653      | rejected        | 6.60923       | 3.2888        |\n"
     ]
    }
   ],
   "source": [
    "display_df(preprocessed_df)"
   ]
  },
  {
   "cell_type": "markdown",
   "metadata": {},
   "source": [
    "#### Reverse coordinates on completed_orders data for use with ORS"
   ]
  },
  {
   "cell_type": "code",
   "execution_count": 11,
   "metadata": {},
   "outputs": [
    {
     "name": "stdout",
     "output_type": "stream",
     "text": [
      "| Trip ID   | Trip Origin                        | Trip Destination                | Trip Start Time     | Trip End Time       |\n",
      "|:----------|:-----------------------------------|:--------------------------------|:--------------------|:--------------------|\n",
      "| 391996    | 3.37740316890347,6.508813001668548 | 3.3450307,6.650969799999999     | 2021-07-01 07:28:04 | 2021-07-01 07:29:37 |\n",
      "| 391997    | 3.4555375,6.4316714                | 3.4721885847586,6.4280814653326 | 2021-07-01 06:38:04 | 2021-07-01 07:07:28 |\n",
      "| 391998    | 3.3388976,6.631679399999999        | 3.3590397,6.508324099999999     | 2021-07-01 06:21:02 | 2021-07-01 07:02:23 |\n",
      "| 391999    | 3.3677082,6.572757200000001        | 3.3614073,6.584881099999999     | 2021-07-01 07:16:07 | 2021-07-01 07:29:42 |\n",
      "| 392001    | 3.2766339,6.6010417                | 3.3916154,6.4501069             | 2021-07-01 09:30:59 | 2021-07-01 09:34:36 |\n",
      "| 392005    | 3.3844415,6.565087699999999        | 3.3509075,6.499696300000001     | 2021-07-01 10:53:36 | 2021-07-01 11:27:51 |\n",
      "| 392009    | 3.3082058,6.6636484                | 3.301634,6.6185421              | 2021-07-01 06:39:51 | 2021-07-01 07:41:12 |\n",
      "| 392013    | 3.4341552,6.4308171                | 3.4846547,6.435460000000001     | 2021-07-01 08:44:09 | 2021-07-01 09:19:11 |\n",
      "| 392014    | 3.3585173,6.499156300000001        | 3.5157172,6.4280911             | 2021-07-01 06:43:07 | 2021-07-01 07:27:24 |\n",
      "| 392017    | 3.3316238,6.535043099999999        | 3.3248596,6.500039999999999     | 2021-07-01 06:49:37 | 2021-07-01 07:30:14 |\n"
     ]
    }
   ],
   "source": [
    "# reverse the order of coordinates  from this 6.4501069,3.3916154 to this 3.3916154, 6.4501069 and remove the brakcets\n",
    "\n",
    "df = completed_orders.copy()\n",
    "\n",
    "import pandas as pd\n",
    "\n",
    "def reverse_coordinates(df, columns):\n",
    "  \"\"\"\n",
    "  Reverses the order of coordinates in the specified columns of a DataFrame.\n",
    "\n",
    "  Parameters:\n",
    "  - df: pandas.DataFrame containing the data.\n",
    "  - columns: List of column names to reverse the coordinates in.\n",
    "\n",
    "  Returns:\n",
    "  - The DataFrame with the coordinates in the specified columns reversed.\n",
    "  \"\"\"\n",
    "  for column in columns:\n",
    "    # Splitting each coordinate into two parts, assuming they are separated by a comma\n",
    "    coords = df[column].str.split(',', expand=True)\n",
    "    \n",
    "    # Reversing the order and combining them back into a single string\n",
    "    df[column] = coords[1] + ',' + coords[0]\n",
    "  \n",
    "  return df\n",
    "\n",
    "# Columns you want to reverse the coordinates in\n",
    "columns_to_reverse = ['Trip Origin', 'Trip Destination']\n",
    "\n",
    "# Calling the function\n",
    "df = reverse_coordinates(df, columns_to_reverse)\n",
    "\n",
    "# print(df)\n",
    "\n",
    "display_df(df, 10)\n"
   ]
  },
  {
   "cell_type": "markdown",
   "metadata": {},
   "source": [
    "#### Add trip duration to completed orders data"
   ]
  },
  {
   "cell_type": "code",
   "execution_count": 10,
   "metadata": {},
   "outputs": [],
   "source": [
    "# Impute 'Trip Start Time' with median\n",
    "df['Trip Start Time'] = pd.to_datetime(df['Trip Start Time'])\n",
    "median_start_time = df['Trip Start Time'].median()\n",
    "df['Trip Start Time'].fillna(median_start_time, inplace=True)"
   ]
  },
  {
   "cell_type": "code",
   "execution_count": null,
   "metadata": {},
   "outputs": [],
   "source": [
    "import pandas as pd\n",
    "from datetime import datetime\n",
    "\n",
    "# Define your function to calculate trip duration in seconds\n",
    "def calculate_trip_duration_in_seconds(start_time_str, end_time_str, time_format='%Y-%m-%d %H:%M:%S'):\n",
    "  start_time = datetime.strptime(start_time_str, time_format)\n",
    "  end_time = datetime.strptime(end_time_str, time_format)\n",
    "  duration = end_time - start_time\n",
    "  return duration.total_seconds()\n",
    "\n",
    "# Calculate trip duration for each row\n",
    "df['Trip Duration (seconds)'] = df.apply(lambda row: calculate_trip_duration_in_seconds(row['Trip Start Time'], row['Trip End Time']), axis=1)\n",
    "\n",
    "print(df[['Trip ID', 'Trip Duration (seconds)']])"
   ]
  },
  {
   "cell_type": "markdown",
   "metadata": {},
   "source": [
    "#### Check for outliers"
   ]
  },
  {
   "cell_type": "code",
   "execution_count": 15,
   "metadata": {},
   "outputs": [],
   "source": [
    "# import matplotlib.pyplot as plt\n",
    "\n",
    "# # Assuming 'data' is a Pandas Series or a list of values\n",
    "# plt.boxplot(df)\n",
    "# plt.title('Boxplot of Data')\n",
    "# plt.ylabel('Values')\n",
    "# # Customize the x-axis label as needed\n",
    "# plt.xlabel('Data Category')\n",
    "# plt.show()"
   ]
  },
  {
   "cell_type": "code",
   "execution_count": 19,
   "metadata": {},
   "outputs": [
    {
     "data": {
      "image/png": "[encoded data removed]",
      "text/plain": [
       "<Figure size 640x480 with 1 Axes>"
      ]
     },
     "metadata": {},
     "output_type": "display_data"
    },
    {
     "name": "stdout",
     "output_type": "stream",
     "text": [
      "Outliers using Z-score: [   665   1368   1551 ... 534802 535747 535758]\n",
      "Outliers using IQR method:\n",
      "         order_id                           trip_origin  \\\n",
      "11        392021                   3.3007843,6.5943334   \n",
      "20        392040           3.5981937,6.500608199999999   \n",
      "56        392116  3.3315106205416787,6.587144320851279   \n",
      "66        392138                   3.2622026,6.4488667   \n",
      "201       392399                   3.2613024,6.6223452   \n",
      "...          ...                                   ...   \n",
      "535976   1637590           3.4734895,6.447593700000001   \n",
      "535986   1637621                   3.8750262,7.4000932   \n",
      "535991   1637630                   3.3299199,6.6124812   \n",
      "535997   1637645                   3.3718951,6.6098316   \n",
      "536003   1637666                    3.3648035,6.510129   \n",
      "\n",
      "                   trip_destination      trip_start_time        trip_end_time  \\\n",
      "11      3.4238032,6.429098199999999  2021-07-01 07:11:36  2021-07-01 10:01:46   \n",
      "20              3.2803826,6.4805568  2021-07-01 10:15:03  2021-07-01 13:52:01   \n",
      "56              3.4882015,6.4367914  2021-07-01 08:24:35  2021-07-01 11:22:56   \n",
      "66              3.5334371,6.4476691  2021-07-01 08:20:20  2021-07-01 14:58:29   \n",
      "201              3.4275586,6.454431  2021-07-01 08:52:41  2021-07-01 11:33:21   \n",
      "...                             ...                  ...                  ...   \n",
      "535976  3.5686162,6.472515500000001  2021-12-30 19:41:11  2022-01-03 12:54:34   \n",
      "535986  3.8299836,7.435441899999999  2021-12-30 21:25:36  2021-12-31 10:57:17   \n",
      "535991  3.4045775,6.554999599999999  2021-12-30 19:47:12  2021-12-31 07:14:39   \n",
      "535997  3.4227825,6.434848399999999  2021-12-30 20:26:39  2021-12-31 07:04:11   \n",
      "536003           3.598857,6.5084404  2021-12-30 20:10:10  2021-12-30 22:54:00   \n",
      "\n",
      "       day_of_week  hour_of_day  day_of_month     month trip_start_date  \\\n",
      "11        Thursday            7             1      July      2021-07-01   \n",
      "20        Thursday           10             1      July      2021-07-01   \n",
      "56        Thursday            8             1      July      2021-07-01   \n",
      "66        Thursday            8             1      July      2021-07-01   \n",
      "201       Thursday            8             1      July      2021-07-01   \n",
      "...            ...          ...           ...       ...             ...   \n",
      "535976    Thursday           19            30  December      2021-12-30   \n",
      "535986    Thursday           21            30  December      2021-12-30   \n",
      "535991    Thursday           19            30  December      2021-12-30   \n",
      "535997    Thursday           20            30  December      2021-12-30   \n",
      "536003    Thursday           20            30  December      2021-12-30   \n",
      "\n",
      "       trip_end_date  trip_duration  trip_origin_latitude  \\\n",
      "11        2021-07-01        10210.0              3.300784   \n",
      "20        2021-07-01        13018.0              3.598194   \n",
      "56        2021-07-01        10701.0              3.331511   \n",
      "66        2021-07-01        23889.0              3.262203   \n",
      "201       2021-07-01         9640.0              3.261302   \n",
      "...              ...            ...                   ...   \n",
      "535976    2022-01-03       321203.0              3.473489   \n",
      "535986    2021-12-31        48701.0              3.875026   \n",
      "535991    2021-12-31        41247.0              3.329920   \n",
      "535997    2021-12-31        38252.0              3.371895   \n",
      "536003    2021-12-30         9830.0              3.364803   \n",
      "\n",
      "        trip_origin_longitude  trip_destination_latitude  \\\n",
      "11                   6.594333                   3.423803   \n",
      "20                   6.500608                   3.280383   \n",
      "56                   6.587144                   3.488202   \n",
      "66                   6.448867                   3.533437   \n",
      "201                  6.622345                   3.427559   \n",
      "...                       ...                        ...   \n",
      "535976               6.447594                   3.568616   \n",
      "535986               7.400093                   3.829984   \n",
      "535991               6.612481                   3.404577   \n",
      "535997               6.609832                   3.422782   \n",
      "536003               6.510129                   3.598857   \n",
      "\n",
      "        trip_destination_longitude  is_holiday  is_weekend  trip_distance  \n",
      "11                        6.429098           0           0        32392.3  \n",
      "20                        6.480557           0           0        51307.5  \n",
      "56                        6.436791           0           0        35273.7  \n",
      "66                        6.447669           0           0        40713.2  \n",
      "201                       6.454431           0           0        39258.6  \n",
      "...                            ...         ...         ...            ...  \n",
      "535976                    6.472516           0           0        16205.1  \n",
      "535986                    7.435442           0           0         8479.2  \n",
      "535991                    6.555000           0           0        22116.8  \n",
      "535997                    6.434848           0           0        34619.5  \n",
      "536003                    6.508440           0           0        46396.0  \n",
      "\n",
      "[30402 rows x 19 columns]\n"
     ]
    }
   ],
   "source": [
    "import pandas as pd\n",
    "import numpy as np\n",
    "import seaborn as sns\n",
    "import matplotlib.pyplot as plt\n",
    "from scipy import stats\n",
    "\n",
    "# Assuming 'preprocessed_df' is your DataFrame and 'column' is the column you want to check for outliers\n",
    "\n",
    "# Visual Inspection\n",
    "# Box Plot\n",
    "sns.boxplot(x=df['trip_duration'])\n",
    "plt.show()\n",
    "\n",
    "# Statistical Methods\n",
    "# Z-score\n",
    "z_scores = np.abs(stats.zscore(df['trip_duration']))\n",
    "outliers_z = np.where(z_scores > 3)\n",
    "\n",
    "# IQR\n",
    "Q1 = df['trip_duration'].quantile(0.25)\n",
    "Q3 = df['trip_duration'].quantile(0.75)\n",
    "IQR = Q3 - Q1\n",
    "outliers_iqr = df[(df['trip_duration'] < (Q1 - 1.5 * IQR)) | (df['trip_duration'] > (Q3 + 1.5 * IQR))]\n",
    "\n",
    "# Print outlier indices\n",
    "print(\"Outliers using Z-score:\", outliers_z[0])\n",
    "print(\"Outliers using IQR method:\\n\", outliers_iqr)"
   ]
  },
  {
   "cell_type": "code",
   "execution_count": 20,
   "metadata": {},
   "outputs": [
    {
     "name": "stdout",
     "output_type": "stream",
     "text": [
      "2023.0\n",
      "4824.0\n"
     ]
    }
   ],
   "source": [
    "print(Q1)\n",
    "print(Q3)"
   ]
  },
  {
   "cell_type": "code",
   "execution_count": 21,
   "metadata": {},
   "outputs": [
    {
     "name": "stdout",
     "output_type": "stream",
     "text": [
      "| order_id   | trip_origin                     | trip_destination                     | trip_start_time     | trip_end_time       | day_of_week   | hour_of_day   | day_of_month   | month   | trip_start_date   | trip_end_date   | trip_duration   | trip_origin_latitude   | trip_origin_longitude   | trip_destination_latitude   | trip_destination_longitude   | is_holiday   | is_weekend   | trip_distance   | trip_duration_zscore   |\n",
      "|:-----------|:--------------------------------|:-------------------------------------|:--------------------|:--------------------|:--------------|:--------------|:---------------|:--------|:------------------|:----------------|:----------------|:-----------------------|:------------------------|:----------------------------|:-----------------------------|:-------------|:-------------|:----------------|:-----------------------|\n",
      "| 393193     | 3.3776289,6.545651599999999     | 3.383098,6.497595                    | 2021-10-05 11:27:22 | 2021-07-01 12:45:12 | Tuesday       | 11            | 5              | October | 2021-10-05        | 2021-07-01      | -8.28973e+06    | 3.37763                | 6.54565                 | 3.3831                      | 6.49759                      | 0            | 0            | 6997.3          | 29.076                 |\n",
      "| 394447     | 3.5097476821616,6.4371758130759 | 3.5380258,6.4430658                  | 2021-10-05 11:27:22 | 2021-07-01 13:05:02 | Tuesday       | 11            | 5              | October | 2021-10-05        | 2021-07-01      | -8.28854e+06    | 3.50975                | 6.43718                 | 3.53803                     | 6.44307                      | 0            | 0            | 4057.5          | 29.0719                |\n",
      "| 394819     | 3.4211614,6.432360999999999     | 3.483499092984462,6.427381234249496  | 2021-10-05 11:27:22 | 2021-07-01 14:57:13 | Tuesday       | 11            | 5              | October | 2021-10-05        | 2021-07-01      | -8.28181e+06    | 3.42116                | 6.43236                 | 3.4835                      | 6.42738                      | 0            | 0            | 10280.4         | 29.0483                |\n",
      "| 395492     | 3.3399855,6.594949000000001     | 3.501294,6.6424974                   | 2021-10-05 11:27:22 | 2021-07-01 21:54:10 | Tuesday       | 11            | 5              | October | 2021-10-05        | 2021-07-01      | -8.25679e+06    | 3.33999                | 6.59495                 | 3.50129                     | 6.6425                       | 0            | 0            | 29290.5         | 28.9607                |\n",
      "| 395549     | 3.4211614,6.432360999999999     | 3.4789828421229885,6.435587578976596 | 2021-10-05 11:27:22 | 2021-07-01 15:20:33 | Tuesday       | 11            | 5              | October | 2021-10-05        | 2021-07-01      | -8.28041e+06    | 3.42116                | 6.43236                 | 3.47898                     | 6.43559                      | 0            | 0            | 10281.3         | 29.0434                |\n"
     ]
    }
   ],
   "source": [
    "import numpy as np\n",
    "\n",
    "# 1. Calculate z-scores\n",
    "df['trip_duration_zscore'] = np.abs((df['trip_duration'] - df['trip_duration'].mean()) / df['trip_duration'].std())\n",
    "\n",
    "# 2. Identify outliers using a z-score threshold\n",
    "zscore_threshold = 3\n",
    "outliers = df[df['trip_duration_zscore'] > zscore_threshold]\n",
    "print(outliers.head().to_markdown(index=False, numalign=\"left\", stralign=\"left\"))\n",
    "\n",
    "# 3. Optionally, filter out the outliers to create a new DataFrame\n",
    "filtered_df = df[df['trip_duration_zscore'] <= zscore_threshold].copy()\n"
   ]
  },
  {
   "cell_type": "code",
   "execution_count": 22,
   "metadata": {},
   "outputs": [
    {
     "data": {
      "text/plain": [
       "1652"
      ]
     },
     "execution_count": 22,
     "metadata": {},
     "output_type": "execute_result"
    }
   ],
   "source": [
    "len(outliers)"
   ]
  },
  {
   "cell_type": "code",
   "execution_count": null,
   "metadata": {},
   "outputs": [],
   "source": []
  },
  {
   "cell_type": "markdown",
   "metadata": {},
   "source": [
    "#### Calculate the speed of the driver during the trip"
   ]
  },
  {
   "cell_type": "code",
   "execution_count": 24,
   "metadata": {},
   "outputs": [],
   "source": [
    "# calculate the speed of the driver in km/h during the trip\n",
    "df['driver_speed'] = (df['trip_distance'] / 1000) / (df['trip_duration'] / 3600)"
   ]
  },
  {
   "cell_type": "code",
   "execution_count": 25,
   "metadata": {},
   "outputs": [
    {
     "name": "stdout",
     "output_type": "stream",
     "text": [
      "| order_id   | trip_origin                        | trip_destination                | trip_start_time     | trip_end_time       | day_of_week   | hour_of_day   | day_of_month   | month   | trip_start_date   | trip_end_date   | trip_duration   | trip_origin_latitude   | trip_origin_longitude   | trip_destination_latitude   | trip_destination_longitude   | is_holiday   | is_weekend   | trip_distance   | driver_speed   |\n",
      "|:-----------|:-----------------------------------|:--------------------------------|:--------------------|:--------------------|:--------------|:--------------|:---------------|:--------|:------------------|:----------------|:----------------|:-----------------------|:------------------------|:----------------------------|:-----------------------------|:-------------|:-------------|:----------------|:---------------|\n",
      "| 391996     | 3.37740316890347,6.508813001668548 | 3.3450307,6.650969799999999     | 2021-07-01 07:28:04 | 2021-07-01 07:29:37 | Thursday      | 7             | 1              | July    | 2021-07-01        | 2021-07-01      | 93              | 3.3774                 | 6.50881                 | 3.34503                     | 6.65097                      | 0            | 0            | 22726.8         | 879.747        |\n",
      "| 391997     | 3.4555375,6.4316714                | 3.4721885847586,6.4280814653326 | 2021-07-01 06:38:04 | 2021-07-01 07:07:28 | Thursday      | 6             | 1              | July    | 2021-07-01        | 2021-07-01      | 1764            | 3.45554                | 6.43167                 | 3.47219                     | 6.42808                      | 0            | 0            | 2148.4          | 4.38449        |\n",
      "| 391998     | 3.3388976,6.631679399999999        | 3.3590397,6.508324099999999     | 2021-07-01 06:21:02 | 2021-07-01 07:02:23 | Thursday      | 6             | 1              | July    | 2021-07-01        | 2021-07-01      | 2481            | 3.3389                 | 6.63168                 | 3.35904                     | 6.50832                      | 0            | 0            | 19251.2         | 27.934         |\n",
      "| 391999     | 3.3677082,6.572757200000001        | 3.3614073,6.584881099999999     | 2021-07-01 07:16:07 | 2021-07-01 07:29:42 | Thursday      | 7             | 1              | July    | 2021-07-01        | 2021-07-01      | 815             | 3.36771                | 6.57276                 | 3.36141                     | 6.58488                      | 0            | 0            | 4177.9          | 18.4545        |\n",
      "| 392001     | 3.2766339,6.6010417                | 3.3916154,6.4501069             | 2021-07-01 09:30:59 | 2021-07-01 09:34:36 | Thursday      | 9             | 1              | July    | 2021-07-01        | 2021-07-01      | 217             | 3.27663                | 6.60104                 | 3.39162                     | 6.45011                      | 0            | 0            | 30060.4         | 498.698        |\n",
      "| 392005     | 3.3844415,6.565087699999999        | 3.3509075,6.499696300000001     | 2021-07-01 10:53:36 | 2021-07-01 11:27:51 | Thursday      | 10            | 1              | July    | 2021-07-01        | 2021-07-01      | 2055            | 3.38444                | 6.56509                 | 3.35091                     | 6.4997                       | 0            | 0            | 11905.3         | 20.856         |\n",
      "| 392009     | 3.3082058,6.6636484                | 3.301634,6.6185421              | 2021-07-01 06:39:51 | 2021-07-01 07:41:12 | Thursday      | 6             | 1              | July    | 2021-07-01        | 2021-07-01      | 3681            | 3.30821                | 6.66365                 | 3.30163                     | 6.61854                      | 0            | 0            | 6844.1          | 6.6935         |\n",
      "| 392013     | 3.4341552,6.4308171                | 3.4846547,6.435460000000001     | 2021-07-01 08:44:09 | 2021-07-01 09:19:11 | Thursday      | 8             | 1              | July    | 2021-07-01        | 2021-07-01      | 2102            | 3.43416                | 6.43082                 | 3.48465                     | 6.43546                      | 0            | 0            | 7849            | 13.4426        |\n",
      "| 392014     | 3.3585173,6.499156300000001        | 3.5157172,6.4280911             | 2021-07-01 06:43:07 | 2021-07-01 07:27:24 | Thursday      | 6             | 1              | July    | 2021-07-01        | 2021-07-01      | 2657            | 3.35852                | 6.49916                 | 3.51572                     | 6.42809                      | 0            | 0            | 28411.3         | 38.4948        |\n",
      "| 392017     | 3.3316238,6.535043099999999        | 3.3248596,6.500039999999999     | 2021-07-01 06:49:37 | 2021-07-01 07:30:14 | Thursday      | 6             | 1              | July    | 2021-07-01        | 2021-07-01      | 2437            | 3.33162                | 6.53504                 | 3.32486                     | 6.50004                      | 0            | 0            | 5358.4          | 7.91557        |\n"
     ]
    }
   ],
   "source": [
    "display_df(df, 10)"
   ]
  },
  {
   "cell_type": "code",
   "execution_count": 31,
   "metadata": {},
   "outputs": [
    {
     "name": "stdout",
     "output_type": "stream",
     "text": [
      "34826\n"
     ]
    }
   ],
   "source": [
    "# show the driver_distance with speeds greater than 60km/h and give the number and percentage\n",
    "speed_threshold = 60\n",
    "speeding_drivers = df[df['driver_speed'] > speed_threshold]\n",
    "speeding_drivers_count = len(speeding_drivers)\n",
    "speeding_drivers_percentage = (speeding_drivers_count / len(df)) * 100\n",
    "print(speeding_drivers_count)"
   ]
  },
  {
   "cell_type": "code",
   "execution_count": null,
   "metadata": {},
   "outputs": [],
   "source": []
  }
 ],
 "metadata": {
  "kernelspec": {
   "display_name": ".venv",
   "language": "python",
   "name": "python3"
  },
  "language_info": {
   "codemirror_mode": {
    "name": "ipython",
    "version": 3
   },
   "file_extension": ".py",
   "mimetype": "text/x-python",
   "name": "python",
   "nbconvert_exporter": "python",
   "pygments_lexer": "ipython3",
   "version": "3.9.19"
  }
 },
 "nbformat": 4,
 "nbformat_minor": 2
}
