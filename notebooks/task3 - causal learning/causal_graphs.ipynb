{
 "cells": [
  {
   "cell_type": "code",
   "execution_count": 1,
   "metadata": {},
   "outputs": [],
   "source": [
    "import pandas as pd\n",
    "from sklearn.model_selection import train_test_split\n",
    "\n",
    "import os\n",
    "os.chdir(\"../../\")\n",
    "\n",
    "from src import display_df"
   ]
  },
  {
   "cell_type": "code",
   "execution_count": 2,
   "metadata": {},
   "outputs": [],
   "source": [
    "# df = pd.read_csv(\"data/features/features_data.csv\")\n",
    "df = pd.read_csv(\"data/final/clean_merged_df.csv\")"
   ]
  },
  {
   "cell_type": "code",
   "execution_count": 3,
   "metadata": {},
   "outputs": [
    {
     "name": "stdout",
     "output_type": "stream",
     "text": [
      "| order_id   | trip_duration   | trip_distance   | is_weekend   | is_holiday   | hour_of_day   | driver_id   | driver_action   |\n",
      "|:-----------|:----------------|:----------------|:-------------|:-------------|:--------------|:------------|:----------------|\n",
      "| 392001     | 217             | 30060.4         | 0            | 0            | 9             | 243828      | accepted        |\n",
      "| 392001     | 217             | 30060.4         | 0            | 0            | 9             | 243588      | rejected        |\n",
      "| 392001     | 217             | 30060.4         | 0            | 0            | 9             | 243830      | rejected        |\n",
      "| 392001     | 217             | 30060.4         | 0            | 0            | 9             | 243539      | rejected        |\n",
      "| 392001     | 217             | 30060.4         | 0            | 0            | 9             | 171653      | rejected        |\n"
     ]
    }
   ],
   "source": [
    "display_df(df)"
   ]
  },
  {
   "cell_type": "markdown",
   "metadata": {},
   "source": [
    "#### Drop irrelevant columns"
   ]
  },
  {
   "cell_type": "code",
   "execution_count": 37,
   "metadata": {},
   "outputs": [],
   "source": [
    "# # Drop columns not needed for training\n",
    "drop_col = ['driver_id', 'order_id', 'is_holiday']\n",
    "# drop_col = ['order_id', \n",
    "#             'trip_start_time', \n",
    "#             'trip_end_time',\n",
    "#             \"trip_origin\",\n",
    "#             \"trip_destination\",\n",
    "#             \"id\", \n",
    "#             \"driver_id\", \n",
    "#             \"drivers_lat\", \n",
    "#             \"drivers_lon\", \n",
    "#             \"trip_start_date\", \n",
    "#             \"trip_end_date\",\n",
    "#             \"drivers_lat\",\n",
    "#             \"drivers_lon\",\n",
    "#             \"trip_start_date\",\n",
    "#             \"trip_end_date\",\n",
    "#             \"trip_origin_latitude\",\n",
    "#             \"trip_origin_longitude\",\n",
    "#             \"trip_destination_latitude\",\n",
    "#             \"trip_destination_longitude\"\n",
    "#           ]"
   ]
  },
  {
   "cell_type": "code",
   "execution_count": 38,
   "metadata": {},
   "outputs": [
    {
     "name": "stdout",
     "output_type": "stream",
     "text": [
      "<class 'pandas.core.frame.DataFrame'>\n",
      "RangeIndex: 1557726 entries, 0 to 1557725\n",
      "Data columns (total 8 columns):\n",
      " #   Column         Non-Null Count    Dtype  \n",
      "---  ------         --------------    -----  \n",
      " 0   order_id       1557726 non-null  int64  \n",
      " 1   trip_duration  1557726 non-null  float64\n",
      " 2   trip_distance  1557726 non-null  float64\n",
      " 3   is_weekend     1557726 non-null  int64  \n",
      " 4   is_holiday     1557726 non-null  int64  \n",
      " 5   hour_of_day    1557726 non-null  int64  \n",
      " 6   driver_id      1557726 non-null  float64\n",
      " 7   driver_action  1557726 non-null  object \n",
      "dtypes: float64(3), int64(4), object(1)\n",
      "memory usage: 95.1+ MB\n"
     ]
    }
   ],
   "source": [
    "df.info()"
   ]
  },
  {
   "cell_type": "code",
   "execution_count": null,
   "metadata": {},
   "outputs": [],
   "source": []
  },
  {
   "cell_type": "code",
   "execution_count": 39,
   "metadata": {},
   "outputs": [
    {
     "name": "stdout",
     "output_type": "stream",
     "text": [
      "| trip_duration   | trip_distance   | is_weekend   | hour_of_day   | driver_action   |\n",
      "|:----------------|:----------------|:-------------|:--------------|:----------------|\n",
      "| 217             | 30060.4         | 0            | 9             | accepted        |\n",
      "| 217             | 30060.4         | 0            | 9             | rejected        |\n",
      "| 217             | 30060.4         | 0            | 9             | rejected        |\n",
      "| 217             | 30060.4         | 0            | 9             | rejected        |\n",
      "| 217             | 30060.4         | 0            | 9             | rejected        |\n"
     ]
    }
   ],
   "source": [
    "data = df.drop(columns=drop_col)\n",
    "display_df(data)"
   ]
  },
  {
   "cell_type": "code",
   "execution_count": 40,
   "metadata": {},
   "outputs": [],
   "source": [
    "# Remove duplicates\n",
    "data = data.drop_duplicates()"
   ]
  },
  {
   "cell_type": "code",
   "execution_count": 41,
   "metadata": {},
   "outputs": [
    {
     "name": "stdout",
     "output_type": "stream",
     "text": [
      "<class 'pandas.core.frame.DataFrame'>\n",
      "Int64Index: 50022 entries, 0 to 1557664\n",
      "Data columns (total 5 columns):\n",
      " #   Column         Non-Null Count  Dtype  \n",
      "---  ------         --------------  -----  \n",
      " 0   trip_duration  50022 non-null  float64\n",
      " 1   trip_distance  50022 non-null  float64\n",
      " 2   is_weekend     50022 non-null  int64  \n",
      " 3   hour_of_day    50022 non-null  int64  \n",
      " 4   driver_action  50022 non-null  object \n",
      "dtypes: float64(2), int64(2), object(1)\n",
      "memory usage: 2.3+ MB\n"
     ]
    }
   ],
   "source": [
    "data.info()"
   ]
  },
  {
   "cell_type": "markdown",
   "metadata": {},
   "source": [
    "#### Make the data numeric. We can use label encoding for the categorical columns."
   ]
  },
  {
   "cell_type": "markdown",
   "metadata": {},
   "source": [
    "###### Display the non numeric columns"
   ]
  },
  {
   "cell_type": "code",
   "execution_count": 42,
   "metadata": {},
   "outputs": [
    {
     "name": "stdout",
     "output_type": "stream",
     "text": [
      "['driver_action']\n"
     ]
    }
   ],
   "source": [
    "import numpy as np\n",
    "\n",
    "struct_data = data.copy()\n",
    "non_numeric_columns = list(struct_data.select_dtypes(exclude=[np.number]).columns)\n",
    "\n",
    "print(non_numeric_columns)"
   ]
  },
  {
   "cell_type": "code",
   "execution_count": 43,
   "metadata": {},
   "outputs": [
    {
     "name": "stdout",
     "output_type": "stream",
     "text": [
      "| trip_duration   | trip_distance   | is_weekend   | hour_of_day   | driver_action   |\n",
      "|:----------------|:----------------|:-------------|:--------------|:----------------|\n",
      "| 217             | 30060.4         | 0            | 9             | 0               |\n",
      "| 217             | 30060.4         | 0            | 9             | 1               |\n",
      "| 2055            | 11905.3         | 0            | 10            | 0               |\n",
      "| 2055            | 11905.3         | 0            | 10            | 1               |\n",
      "| 3681            | 6844.1          | 0            | 6             | 0               |\n"
     ]
    }
   ],
   "source": [
    "from sklearn.preprocessing import LabelEncoder\n",
    "\n",
    "le = LabelEncoder()\n",
    "\n",
    "for col in non_numeric_columns:\n",
    "    struct_data[col] = le.fit_transform(struct_data[col])\n",
    "\n",
    "display_df(struct_data)"
   ]
  },
  {
   "cell_type": "markdown",
   "metadata": {},
   "source": [
    "### Apply NOTEARS algorithm to learn the structure of the data"
   ]
  },
  {
   "cell_type": "code",
   "execution_count": 47,
   "metadata": {},
   "outputs": [],
   "source": [
    "from causalnex.structure.notears import from_pandas\n",
    "\n",
    "# struct_data = struct_data.head()\n",
    "sm = from_pandas(\n",
    "        struct_data,\n",
    "        tabu_edges=[\n",
    "        #   Add forbidden edges\n",
    "          (\"driver_action\", \"trip_distance\"),\n",
    "          (\"driver_action\", \"trip_duration\"),\n",
    "          (\"trip_duration\", \"trip_distance\")\n",
    "          \n",
    "        ],\n",
    "        w_threshold=0.8,\n",
    "        max_iter=1000000,\n",
    "    )\n"
   ]
  },
  {
   "cell_type": "markdown",
   "metadata": {},
   "source": [
    "#### Visualize the learned StructureModel model using the plot function"
   ]
  },
  {
   "cell_type": "code",
   "execution_count": 48,
   "metadata": {},
   "outputs": [
    {
     "name": "stdout",
     "output_type": "stream",
     "text": [
      "fully_connected.html\n"
     ]
    },
    {
     "data": {
      "text/html": [
       "\n",
       "        <iframe\n",
       "            width=\"100%\"\n",
       "            height=\"600px\"\n",
       "            src=\"fully_connected.html\"\n",
       "            frameborder=\"0\"\n",
       "            allowfullscreen\n",
       "            \n",
       "        ></iframe>\n",
       "        "
      ],
      "text/plain": [
       "<IPython.lib.display.IFrame at 0x76f485389490>"
      ]
     },
     "execution_count": 48,
     "metadata": {},
     "output_type": "execute_result"
    }
   ],
   "source": [
    "from causalnex.plots import plot_structure, NODE_STYLE, EDGE_STYLE\n",
    "\n",
    "viz = plot_structure(\n",
    "    sm,\n",
    "    all_node_attributes=NODE_STYLE.WEAK,\n",
    "    all_edge_attributes=EDGE_STYLE.WEAK,\n",
    ")\n",
    "\n",
    "viz.toggle_physics(False)\n",
    "viz.show(\"fully_connected.html\")"
   ]
  },
  {
   "cell_type": "code",
   "execution_count": null,
   "metadata": {},
   "outputs": [],
   "source": [
    "sm.add_edge(\"trip_distance\", \"trip_duration\")\n",
    "sm.add_edge(\"trip_distance\", \"driver_action\")\n",
    "sm.add_edge(\"hour_of_day\", \"driver_action\")\n",
    "sm.add_edge(\"is_weekend\", \"driver_action\")"
   ]
  },
  {
   "cell_type": "code",
   "execution_count": 50,
   "metadata": {},
   "outputs": [
    {
     "name": "stdout",
     "output_type": "stream",
     "text": [
      "modified.html\n"
     ]
    },
    {
     "data": {
      "text/html": [
       "\n",
       "        <iframe\n",
       "            width=\"100%\"\n",
       "            height=\"600px\"\n",
       "            src=\"modified.html\"\n",
       "            frameborder=\"0\"\n",
       "            allowfullscreen\n",
       "            \n",
       "        ></iframe>\n",
       "        "
      ],
      "text/plain": [
       "<IPython.lib.display.IFrame at 0x76f3cfdd03d0>"
      ]
     },
     "execution_count": 50,
     "metadata": {},
     "output_type": "execute_result"
    }
   ],
   "source": [
    "\n",
    "# sm.remove_edges_below_threshold(0.8)\n",
    "viz = plot_structure(\n",
    "    sm,\n",
    "    all_node_attributes=NODE_STYLE.WEAK,\n",
    "    all_edge_attributes=EDGE_STYLE.WEAK,\n",
    ")\n",
    "viz.show(\"modified.html\")"
   ]
  },
  {
   "cell_type": "markdown",
   "metadata": {},
   "source": [
    "## Reducing caridinality "
   ]
  },
  {
   "cell_type": "markdown",
   "metadata": {},
   "source": []
  },
  {
   "cell_type": "code",
   "execution_count": 51,
   "metadata": {},
   "outputs": [
    {
     "name": "stdout",
     "output_type": "stream",
     "text": [
      "| driver_action   | hour_of_day   | is_weekend   |\n",
      "|:----------------|:--------------|:-------------|\n",
      "| accepted        | morning       | weekday      |\n",
      "| rejected        | morning       | weekday      |\n",
      "| accepted        | morning       | weekday      |\n",
      "| rejected        | morning       | weekday      |\n",
      "| accepted        | morning       | weekday      |\n",
      "| rejected        | morning       | weekday      |\n",
      "| accepted        | morning       | weekday      |\n",
      "| rejected        | morning       | weekday      |\n",
      "| accepted        | morning       | weekday      |\n",
      "| rejected        | morning       | weekday      |\n",
      "| accepted        | morning       | weekday      |\n",
      "| rejected        | morning       | weekday      |\n",
      "| accepted        | morning       | weekday      |\n",
      "| rejected        | morning       | weekday      |\n",
      "| accepted        | morning       | weekday      |\n",
      "| rejected        | morning       | weekday      |\n",
      "| accepted        | morning       | weekday      |\n",
      "| rejected        | morning       | weekday      |\n",
      "| accepted        | morning       | weekday      |\n",
      "| rejected        | morning       | weekday      |\n",
      "Value counts for discretized trip_distance:\n",
      "|    | trip_distance   |\n",
      "|:---|:----------------|\n",
      "| 0  | 2583            |\n",
      "| 1  | 6318            |\n",
      "| 2  | 7098            |\n",
      "| 3  | 6624            |\n",
      "| 4  | 6142            |\n",
      "| 5  | 4914            |\n",
      "| 6  | 4388            |\n",
      "| 7  | 3126            |\n",
      "| 8  | 2401            |\n",
      "| 9  | 6428            |\n",
      "\n",
      "Value counts for discretized trip_duration:\n",
      "|    | trip_duration   |\n",
      "|:---|:----------------|\n",
      "| 0  | 65              |\n",
      "| 1  | 1210            |\n",
      "| 2  | 5520            |\n",
      "| 3  | 8873            |\n",
      "| 4  | 10271           |\n",
      "| 5  | 8520            |\n",
      "| 6  | 5761            |\n",
      "| 7  | 3761            |\n",
      "| 8  | 2252            |\n",
      "| 9  | 3789            |\n"
     ]
    }
   ],
   "source": [
    "# Define the number of bins for discretization\n",
    "num_bins = 10\n",
    "\n",
    "# Create a copy of the DataFrame\n",
    "discretised_data = data.copy()\n",
    "\n",
    "# Create a dictionary to store unique values for each column\n",
    "data_vals = {col: data[col].unique() for col in data.columns}\n",
    "\n",
    "# Create a dictionary to map driver_action values to 'accepted' and 'rejected'\n",
    "driver_action_map = {v: v for v in data_vals['driver_action']}\n",
    "\n",
    "# Create a dictionary to map hour_of_day values to 'morning' or 'afternoon/night'\n",
    "hour_of_day_map = {v: 'morning' if v <= 12 else 'afternoon/night' for v in data_vals['hour_of_day']}\n",
    "\n",
    "# Create a dictionary to map is_weekend values to weekend or not_weekend\n",
    "is_weekend_map = {v: 'weekday' if v == 0 else 'weekend' for v in data_vals['is_weekend']}\n",
    "\n",
    "# Map the values in the driver_action and hour_of_day columns\n",
    "discretised_data[\"driver_action\"] = discretised_data[\"driver_action\"].map(driver_action_map)\n",
    "discretised_data[\"hour_of_day\"] = discretised_data[\"hour_of_day\"].map(hour_of_day_map)\n",
    "discretised_data['is_weekend'] = discretised_data['is_weekend'].map(is_weekend_map)\n",
    "\n",
    "# Print the first 5 rows of the columns driver_action and hour_of_day\n",
    "print(discretised_data[['driver_action', 'hour_of_day', 'is_weekend']].head(20).to_markdown(index=False, numalign=\"left\", stralign=\"left\"))\n",
    "\n",
    "\n",
    "# Discretize the `trip_distance` column into equal-width bins\n",
    "discretised_data['trip_distance'] = pd.cut(discretised_data['trip_distance'], bins=num_bins, labels=False)\n",
    "\n",
    "# Discretize the `trip_duration` column into equal-width bins\n",
    "discretised_data['trip_duration'] = pd.cut(discretised_data['trip_duration'], bins=num_bins, labels=False)\n",
    "\n",
    "# Print the value counts of the discretized `trip_distance` column\n",
    "print(\"Value counts for discretized trip_distance:\")\n",
    "print(discretised_data['trip_distance'].value_counts().sort_index().to_markdown(numalign=\"left\", stralign=\"left\"))\n",
    "\n",
    "# Print the value counts of the discretized `trip_duration` column\n",
    "print(\"\\nValue counts for discretized trip_duration:\")\n",
    "print(discretised_data['trip_duration'].value_counts().sort_index().to_markdown(numalign=\"left\", stralign=\"left\"))"
   ]
  },
  {
   "cell_type": "code",
   "execution_count": 52,
   "metadata": {},
   "outputs": [
    {
     "name": "stdout",
     "output_type": "stream",
     "text": [
      "| trip_duration   | trip_distance   | is_weekend   | hour_of_day   | driver_action   |\n",
      "|:----------------|:----------------|:-------------|:--------------|:----------------|\n",
      "| 2               | 8               | weekday      | morning       | accepted        |\n",
      "| 2               | 8               | weekday      | morning       | rejected        |\n",
      "| 4               | 3               | weekday      | morning       | accepted        |\n",
      "| 4               | 3               | weekday      | morning       | rejected        |\n",
      "| 5               | 1               | weekday      | morning       | accepted        |\n"
     ]
    }
   ],
   "source": [
    "display_df(discretised_data)"
   ]
  },
  {
   "cell_type": "code",
   "execution_count": 53,
   "metadata": {},
   "outputs": [],
   "source": [
    "# Split 90% train and 10% test\n",
    "from sklearn.model_selection import train_test_split\n",
    "\n",
    "train, test = train_test_split(discretised_data, train_size=0.9, test_size=0.1, random_state=7)"
   ]
  },
  {
   "cell_type": "code",
   "execution_count": 54,
   "metadata": {},
   "outputs": [],
   "source": [
    "from causalnex.network import BayesianNetwork\n",
    "from causalnex.structure.structuremodel import StructureModel\n",
    "\n",
    "# Having my learned model 'sm' from a previous step\n",
    "\n",
    "# Convert the StructureModel (sm) into a BayesianNetwork\n",
    "bn = BayesianNetwork(sm)"
   ]
  },
  {
   "cell_type": "code",
   "execution_count": 55,
   "metadata": {},
   "outputs": [],
   "source": [
    "bn = bn.fit_node_states(discretised_data)  # Fit node states first"
   ]
  },
  {
   "cell_type": "code",
   "execution_count": 56,
   "metadata": {},
   "outputs": [],
   "source": [
    "bn = bn.fit_cpds(train, method=\"BayesianEstimator\", bayes_prior=\"K2\")"
   ]
  },
  {
   "cell_type": "code",
   "execution_count": 57,
   "metadata": {},
   "outputs": [
    {
     "data": {
      "text/html": [
       "<div>\n",
       "<style scoped>\n",
       "    .dataframe tbody tr th:only-of-type {\n",
       "        vertical-align: middle;\n",
       "    }\n",
       "\n",
       "    .dataframe tbody tr th {\n",
       "        vertical-align: top;\n",
       "    }\n",
       "\n",
       "    .dataframe thead tr th {\n",
       "        text-align: left;\n",
       "    }\n",
       "\n",
       "    .dataframe thead tr:last-of-type th {\n",
       "        text-align: right;\n",
       "    }\n",
       "</style>\n",
       "<table border=\"1\" class=\"dataframe\">\n",
       "  <thead>\n",
       "    <tr>\n",
       "      <th>hour_of_day</th>\n",
       "      <th colspan=\"10\" halign=\"left\">afternoon/night</th>\n",
       "      <th>...</th>\n",
       "      <th colspan=\"10\" halign=\"left\">morning</th>\n",
       "    </tr>\n",
       "    <tr>\n",
       "      <th>is_weekend</th>\n",
       "      <th colspan=\"10\" halign=\"left\">weekday</th>\n",
       "      <th>...</th>\n",
       "      <th colspan=\"10\" halign=\"left\">weekend</th>\n",
       "    </tr>\n",
       "    <tr>\n",
       "      <th>trip_distance</th>\n",
       "      <th>0</th>\n",
       "      <th>1</th>\n",
       "      <th>2</th>\n",
       "      <th>3</th>\n",
       "      <th>4</th>\n",
       "      <th>5</th>\n",
       "      <th>6</th>\n",
       "      <th>7</th>\n",
       "      <th>8</th>\n",
       "      <th>9</th>\n",
       "      <th>...</th>\n",
       "      <th>0</th>\n",
       "      <th>1</th>\n",
       "      <th>2</th>\n",
       "      <th>3</th>\n",
       "      <th>4</th>\n",
       "      <th>5</th>\n",
       "      <th>6</th>\n",
       "      <th>7</th>\n",
       "      <th>8</th>\n",
       "      <th>9</th>\n",
       "    </tr>\n",
       "    <tr>\n",
       "      <th>driver_action</th>\n",
       "      <th></th>\n",
       "      <th></th>\n",
       "      <th></th>\n",
       "      <th></th>\n",
       "      <th></th>\n",
       "      <th></th>\n",
       "      <th></th>\n",
       "      <th></th>\n",
       "      <th></th>\n",
       "      <th></th>\n",
       "      <th></th>\n",
       "      <th></th>\n",
       "      <th></th>\n",
       "      <th></th>\n",
       "      <th></th>\n",
       "      <th></th>\n",
       "      <th></th>\n",
       "      <th></th>\n",
       "      <th></th>\n",
       "      <th></th>\n",
       "      <th></th>\n",
       "    </tr>\n",
       "  </thead>\n",
       "  <tbody>\n",
       "    <tr>\n",
       "      <th>accepted</th>\n",
       "      <td>0.502915</td>\n",
       "      <td>0.504282</td>\n",
       "      <td>0.5</td>\n",
       "      <td>0.500822</td>\n",
       "      <td>0.509222</td>\n",
       "      <td>0.503289</td>\n",
       "      <td>0.492651</td>\n",
       "      <td>0.50858</td>\n",
       "      <td>0.514493</td>\n",
       "      <td>0.510089</td>\n",
       "      <td>...</td>\n",
       "      <td>0.504</td>\n",
       "      <td>0.470588</td>\n",
       "      <td>0.512821</td>\n",
       "      <td>0.483425</td>\n",
       "      <td>0.511905</td>\n",
       "      <td>0.506993</td>\n",
       "      <td>0.515152</td>\n",
       "      <td>0.513636</td>\n",
       "      <td>0.526946</td>\n",
       "      <td>0.514286</td>\n",
       "    </tr>\n",
       "    <tr>\n",
       "      <th>rejected</th>\n",
       "      <td>0.497085</td>\n",
       "      <td>0.495718</td>\n",
       "      <td>0.5</td>\n",
       "      <td>0.499178</td>\n",
       "      <td>0.490778</td>\n",
       "      <td>0.496711</td>\n",
       "      <td>0.507349</td>\n",
       "      <td>0.49142</td>\n",
       "      <td>0.485507</td>\n",
       "      <td>0.489911</td>\n",
       "      <td>...</td>\n",
       "      <td>0.496</td>\n",
       "      <td>0.529412</td>\n",
       "      <td>0.487179</td>\n",
       "      <td>0.516575</td>\n",
       "      <td>0.488095</td>\n",
       "      <td>0.493007</td>\n",
       "      <td>0.484848</td>\n",
       "      <td>0.486364</td>\n",
       "      <td>0.473054</td>\n",
       "      <td>0.485714</td>\n",
       "    </tr>\n",
       "  </tbody>\n",
       "</table>\n",
       "<p>2 rows × 40 columns</p>\n",
       "</div>"
      ],
      "text/plain": [
       "hour_of_day   afternoon/night                                               \\\n",
       "is_weekend            weekday                                                \n",
       "trip_distance               0         1    2         3         4         5   \n",
       "driver_action                                                                \n",
       "accepted             0.502915  0.504282  0.5  0.500822  0.509222  0.503289   \n",
       "rejected             0.497085  0.495718  0.5  0.499178  0.490778  0.496711   \n",
       "\n",
       "hour_of_day                                           ... morning            \\\n",
       "is_weekend                                            ... weekend             \n",
       "trip_distance         6        7         8         9  ...       0         1   \n",
       "driver_action                                         ...                     \n",
       "accepted       0.492651  0.50858  0.514493  0.510089  ...   0.504  0.470588   \n",
       "rejected       0.507349  0.49142  0.485507  0.489911  ...   0.496  0.529412   \n",
       "\n",
       "hour_of_day                                                                \\\n",
       "is_weekend                                                                  \n",
       "trip_distance         2         3         4         5         6         7   \n",
       "driver_action                                                               \n",
       "accepted       0.512821  0.483425  0.511905  0.506993  0.515152  0.513636   \n",
       "rejected       0.487179  0.516575  0.488095  0.493007  0.484848  0.486364   \n",
       "\n",
       "hour_of_day                        \n",
       "is_weekend                         \n",
       "trip_distance         8         9  \n",
       "driver_action                      \n",
       "accepted       0.526946  0.514286  \n",
       "rejected       0.473054  0.485714  \n",
       "\n",
       "[2 rows x 40 columns]"
      ]
     },
     "execution_count": 57,
     "metadata": {},
     "output_type": "execute_result"
    }
   ],
   "source": [
    "bn.cpds[\"driver_action\"]"
   ]
  },
  {
   "cell_type": "code",
   "execution_count": 58,
   "metadata": {},
   "outputs": [
    {
     "data": {
      "text/plain": [
       "{'driver_action_accepted': {'precision': 0.5020408163265306,\n",
       "  'recall': 0.8203216947822676,\n",
       "  'f1-score': 0.6228775692582663,\n",
       "  'support': 2549.0},\n",
       " 'driver_action_rejected': {'precision': 0.45346062052505964,\n",
       "  'recall': 0.15484922575387122,\n",
       "  'f1-score': 0.23086269744835966,\n",
       "  'support': 2454.0},\n",
       " 'accuracy': 0.4939036578053168,\n",
       " 'macro avg': {'precision': 0.47775071842579514,\n",
       "  'recall': 0.48758546026806937,\n",
       "  'f1-score': 0.426870133353313,\n",
       "  'support': 5003.0},\n",
       " 'weighted avg': {'precision': 0.4782119535448377,\n",
       "  'recall': 0.4939036578053168,\n",
       "  'f1-score': 0.43059204149062474,\n",
       "  'support': 5003.0}}"
      ]
     },
     "execution_count": 58,
     "metadata": {},
     "output_type": "execute_result"
    }
   ],
   "source": [
    "from causalnex.evaluation import classification_report\n",
    "\n",
    "classification_report(bn, test, \"driver_action\")"
   ]
  },
  {
   "cell_type": "markdown",
   "metadata": {},
   "source": [
    "## Machine learning"
   ]
  },
  {
   "cell_type": "code",
   "execution_count": 60,
   "metadata": {},
   "outputs": [
    {
     "name": "stdout",
     "output_type": "stream",
     "text": [
      "Collecting xgboost\n",
      "  Downloading xgboost-2.0.3-py3-none-manylinux2014_x86_64.whl.metadata (2.0 kB)\n",
      "Requirement already satisfied: numpy in ./.venv/lib/python3.9/site-packages (from xgboost) (1.23.5)\n",
      "Requirement already satisfied: scipy in ./.venv/lib/python3.9/site-packages (from xgboost) (1.13.1)\n",
      "Downloading xgboost-2.0.3-py3-none-manylinux2014_x86_64.whl (297.1 MB)\n",
      "\u001b[2K   \u001b[90m━━━━━━━━━━━━━━━━━━━━━━━━━━━━━━━━━━━━━━━\u001b[0m \u001b[32m297.1/297.1 MB\u001b[0m \u001b[31m540.8 kB/s\u001b[0m eta \u001b[36m0:00:00\u001b[0m00:01\u001b[0m00:10\u001b[0m\n",
      "\u001b[?25hInstalling collected packages: xgboost\n",
      "Successfully installed xgboost-2.0.3\n"
     ]
    }
   ],
   "source": [
    "!pip install xgboost"
   ]
  },
  {
   "cell_type": "code",
   "execution_count": 63,
   "metadata": {},
   "outputs": [],
   "source": [
    "from sklearn.model_selection import train_test_split\n",
    "from sklearn.ensemble import RandomForestClassifier\n",
    "from sklearn.metrics import accuracy_score, roc_auc_score\n",
    "\n",
    "\n",
    "\n",
    "def train_random_forest_model(X, y, test_size=0.1, random_state=42):\n",
    "    \"\"\"\n",
    "    Trains a Random Forest classifier on the given data and evaluates its performance.\n",
    "\n",
    "    Args:\n",
    "        X (pd.DataFrame): Features.\n",
    "        y (pd.Series): Target variable.\n",
    "        test_size (float): Proportion of data for testing (default=0.2).\n",
    "        random_state (int): Random seed for reproducibility (default=42).\n",
    "\n",
    "    Returns:\n",
    "        RandomForestClassifier: The trained Random Forest model.\n",
    "    \"\"\"\n",
    "\n",
    "    # Split data into training and testing sets\n",
    "    X_train, X_test, y_train, y_test = train_test_split(X, y, test_size=test_size, random_state=random_state)\n",
    "\n",
    "    # Initialize and train the Random Forest model\n",
    "    model = RandomForestClassifier()\n",
    "    model.fit(X_train, y_train)\n",
    "\n",
    "    # Make predictions on the test set\n",
    "    y_pred = model.predict(X_test)\n",
    "\n",
    "    # Evaluate the model\n",
    "    accuracy = accuracy_score(y_test, y_pred)\n",
    "    roc_auc = roc_auc_score(y_test, y_pred)\n",
    "\n",
    "    print(\"Accuracy:\", accuracy)\n",
    "    print(\"ROC-AUC:\", roc_auc)\n",
    "\n",
    "    return model\n"
   ]
  },
  {
   "cell_type": "code",
   "execution_count": null,
   "metadata": {},
   "outputs": [],
   "source": []
  }
 ],
 "metadata": {
  "kernelspec": {
   "display_name": ".venv",
   "language": "python",
   "name": "python3"
  },
  "language_info": {
   "codemirror_mode": {
    "name": "ipython",
    "version": 3
   },
   "file_extension": ".py",
   "mimetype": "text/x-python",
   "name": "python",
   "nbconvert_exporter": "python",
   "pygments_lexer": "ipython3",
   "version": "3.9.19"
  }
 },
 "nbformat": 4,
 "nbformat_minor": 2
}
