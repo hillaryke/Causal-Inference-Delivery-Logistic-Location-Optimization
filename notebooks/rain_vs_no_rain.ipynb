{
 "cells": [
  {
   "cell_type": "code",
   "execution_count": null,
   "metadata": {},
   "outputs": [],
   "source": [
    "# Perform Feature engineering:\n",
    "\n",
    "# Import Meteostat library and dependencies\n",
    "from datetime import datetime\n",
    "import matplotlib.pyplot as plt\n",
    "from meteostat import Point, Daily\n",
    "\n",
    "# Set time period\n",
    "start = datetime(2018, 1, 1)\n",
    "end = datetime(2018, 12, 31)\n",
    "\n",
    "# Create Point for Vancouver, BC\n",
    "vancouver = Point(49.2497, -123.1193, 70)\n",
    "\n",
    "# Get daily data for 2018\n",
    "data = Daily(vancouver, start, end)\n",
    "data = data.fetch()\n",
    "\n",
    "# Plot line chart including average, minimum and maximum temperature\n",
    "data.plot(y=['tavg', 'tmin', 'tmax'])\n",
    "plt.show()"
   ]
  }
 ],
 "metadata": {
  "language_info": {
   "name": "python"
  }
 },
 "nbformat": 4,
 "nbformat_minor": 2
}
