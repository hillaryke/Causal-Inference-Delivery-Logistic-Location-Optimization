{
 "cells": [
  {
   "cell_type": "code",
   "execution_count": 5,
   "metadata": {},
   "outputs": [
    {
     "data": {
      "text/plain": [
       "True"
      ]
     },
     "execution_count": 5,
     "metadata": {},
     "output_type": "execute_result"
    }
   ],
   "source": [
    "from dotenv import load_dotenv\n",
    "import os\n",
    "load_dotenv()"
   ]
  },
  {
   "cell_type": "code",
   "execution_count": 12,
   "metadata": {},
   "outputs": [],
   "source": [
    "ORS_API_KEY = os.getenv(\"ORS_API_KEY\")"
   ]
  },
  {
   "cell_type": "code",
   "execution_count": 22,
   "metadata": {},
   "outputs": [
    {
     "name": "stdout",
     "output_type": "stream",
     "text": [
      "An error occurred: {'error': {'code': 2010, 'message': 'Could not find routable point within a radius of 350.0 meters of specified coordinate 0: 6.6010417 3.2766339.; Could not find routable point within a radius of 350.0 meters of specified coordinate 1: 6.4501069 3.3916154.'}, 'info': {'engine': {'build_date': '2024-06-05T10:07:23Z', 'version': '8.1.0'}, 'timestamp': 1718604881880}}\n"
     ]
    }
   ],
   "source": [
    "import openrouteservice\n",
    "from openrouteservice import convert\n",
    "\n",
    "def get_route_and_distance(start_coords, end_coords, api_key):\n",
    "  client = openrouteservice.Client(key=api_key)  # Use your API key here\n",
    "\n",
    "  # Define the start and end points\n",
    "  coords = (start_coords, end_coords)\n",
    "\n",
    "  try:\n",
    "    # Request directions\n",
    "    routes = client.directions(coords)\n",
    "\n",
    "    # Extract distance and duration\n",
    "    distance = routes['routes'][0]['summary']['distance'] / 1000  # Convert meters to kilometers\n",
    "    duration = routes['routes'][0]['summary']['duration'] / 3600  # Convert seconds to hours\n",
    "\n",
    "    print(f\"Distance: {distance:.2f} km\")\n",
    "    print(f\"Estimated Duration: {duration:.2f} hours\")\n",
    "\n",
    "    # For detailed route steps, uncomment the following lines:\n",
    "    # for step in routes['routes'][0]['segments'][0]['steps']:\n",
    "    #     print(step['instruction'])\n",
    "\n",
    "  except openrouteservice.exceptions.ApiError as e:\n",
    "    print(f\"An error occurred: {e}\")\n",
    "\n",
    "# Example usage\n",
    "api_key = ORS_API_KEY\n",
    "start_coords = (6.6010417,3.2766339)  # Longitude, Latitude for New York (Empire State Building)\n",
    "end_coords = (6.4501069,3.3916154)  # Longitude, Latitude for Los Angeles (Los Angeles City Hall)\n",
    "get_route_and_distance(start_coords, end_coords, api_key)"
   ]
  },
  {
   "cell_type": "code",
   "execution_count": null,
   "metadata": {},
   "outputs": [],
   "source": []
  }
 ],
 "metadata": {
  "kernelspec": {
   "display_name": ".venv",
   "language": "python",
   "name": "python3"
  },
  "language_info": {
   "codemirror_mode": {
    "name": "ipython",
    "version": 3
   },
   "file_extension": ".py",
   "mimetype": "text/x-python",
   "name": "python",
   "nbconvert_exporter": "python",
   "pygments_lexer": "ipython3",
   "version": "3.9.19"
  }
 },
 "nbformat": 4,
 "nbformat_minor": 2
}
